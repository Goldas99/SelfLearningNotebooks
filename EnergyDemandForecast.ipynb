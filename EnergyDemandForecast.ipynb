{
 "cells": [
  {
   "cell_type": "markdown",
   "id": "faced-mustang",
   "metadata": {},
   "source": [
    "## ✔️ Wczytujemy potrzebne biblioteki "
   ]
  },
  {
   "cell_type": "code",
   "execution_count": 1,
   "id": "continent-allen",
   "metadata": {},
   "outputs": [],
   "source": [
    "# Podstawowe biblioteki\n",
    "import numpy as np\n",
    "import matplotlib.pyplot as plt\n",
    "import pandas as pd\n",
    "from scipy import stats\n",
    "\n",
    "# Przygotowanie danych\n",
    "from sklearn.preprocessing import StandardScaler,MinMaxScaler,OneHotEncoder\n",
    "\n",
    "# Modele\n",
    "from sklearn.linear_model import LinearRegression\n",
    "from sklearn.tree import DecisionTreeRegressor\n",
    "from xgboost import XGBRegressor\n",
    "from catboost import CatBoostRegressor\n",
    "from sklearn.ensemble import RandomForestRegressor\n",
    "\n",
    "# Poprawa Modelu \n",
    "from sklearn.metrics import mean_absolute_error,mean_squared_error \n",
    "from statsmodels.stats.outliers_influence import variance_inflation_factor\n",
    "from sklearn.model_selection import TimeSeriesSplit\n",
    "from sklearn.model_selection import cross_val_score\n",
    "from sklearn.model_selection import StratifiedKFold\n",
    "from sklearn.model_selection import GroupKFold\n",
    "\n",
    "# Wizualizacja\n",
    "import scikitplot as skplt\n",
    "import seaborn as sns\n",
    "from matplotlib import pyplot\n",
    "import matplotlib.pyplot as plt\n",
    "import matplotlib.pylab as pylab\n",
    "import matplotlib \n",
    "%matplotlib inline\n",
    "color = sns.color_palette()\n",
    "import matplotlib.ticker as mtick\n",
    "from IPython.display import display\n",
    "pd.options.display.max_columns = None\n",
    "from pandas.plotting import scatter_matrix\n",
    "\n",
    "# Utilities\n",
    "import os\n",
    "import re\n",
    "import sys\n",
    "import string\n",
    "import time\n",
    "from datetime import datetime\n",
    "from time import time\n",
    "from scipy.stats import pointbiserialr\n",
    "from tqdm import tqdm\n",
    "import eli5\n",
    "from eli5.sklearn import PermutationImportance\n",
    "from hyperopt import hp, fmin, tpe, STATUS_OK, space_eval"
   ]
  },
  {
   "cell_type": "markdown",
   "id": "criminal-report",
   "metadata": {},
   "source": [
    "## 💾 Wczytujemy dane"
   ]
  },
  {
   "cell_type": "code",
   "execution_count": 2,
   "id": "encouraging-spanking",
   "metadata": {},
   "outputs": [],
   "source": [
    "df_train = pd.read_hdf(\"../input/energy_train.h5\")\n",
    "df_test = pd.read_hdf(\"../input/energy_test.h5\")"
   ]
  },
  {
   "cell_type": "code",
   "execution_count": 3,
   "id": "norwegian-radius",
   "metadata": {
    "scrolled": false
   },
   "outputs": [
    {
     "name": "stdout",
     "output_type": "stream",
     "text": [
      "<class 'pandas.core.frame.DataFrame'>\n",
      "Int64Index: 26517 entries, 24 to 35227\n",
      "Data columns (total 3 columns):\n",
      " #   Column  Non-Null Count  Dtype         \n",
      "---  ------  --------------  -----         \n",
      " 0   id      26517 non-null  int64         \n",
      " 1   date    26517 non-null  datetime64[ns]\n",
      " 2   value   26517 non-null  float64       \n",
      "dtypes: datetime64[ns](1), float64(1), int64(1)\n",
      "memory usage: 828.7 KB\n"
     ]
    }
   ],
   "source": [
    "df_train.info()"
   ]
  },
  {
   "cell_type": "markdown",
   "id": "eleven-catering",
   "metadata": {},
   "source": [
    "## Model podstawowy\n",
    "\n",
    "Przypisanie sredniego zapotrzebowania energii wedlug miesiaca"
   ]
  },
  {
   "cell_type": "code",
   "execution_count": 4,
   "id": "ahead-owner",
   "metadata": {
    "scrolled": true
   },
   "outputs": [],
   "source": [
    "df_temp = df_train.copy()\n",
    "df_temp[\"date\"] = pd.to_datetime(df_temp[\"date\"])\n",
    "df_temp[\"month\"] = df_temp[\"date\"].dt.month\n",
    "df_energy_by_month = pd.DataFrame(df_temp[['month','value']].groupby('month').mean()).reset_index()\n",
    "\n",
    "df_temp2 = df_test.copy()\n",
    "df_temp2[\"date\"] = pd.to_datetime(df_temp2[\"date\"])\n",
    "df_temp2[\"month\"] = df_temp2[\"date\"].dt.month\n",
    "df_temp2 = pd.merge(df_temp2,df_energy_by_month, on = 'month')[['id','value']]"
   ]
  },
  {
   "cell_type": "markdown",
   "id": "judicial-watts",
   "metadata": {},
   "source": [
    "## ✔️ Zapisujemy wynik i dodajemy na Kaggle"
   ]
  },
  {
   "cell_type": "code",
   "execution_count": 5,
   "id": "logical-forward",
   "metadata": {},
   "outputs": [],
   "source": [
    "df_temp2.to_csv(\"../output/model-podstawowy.csv\", index=False)"
   ]
  },
  {
   "cell_type": "markdown",
   "id": "listed-imagination",
   "metadata": {},
   "source": [
    "Uzyskany wynik na Kaggle (MAE): 2695.06438"
   ]
  },
  {
   "cell_type": "markdown",
   "id": "stopped-server",
   "metadata": {},
   "source": [
    "## 🕵️‍♀️ Sprawdzamy dane"
   ]
  },
  {
   "cell_type": "code",
   "execution_count": 6,
   "id": "obvious-buffalo",
   "metadata": {},
   "outputs": [
    {
     "data": {
      "text/html": [
       "<div>\n",
       "<style scoped>\n",
       "    .dataframe tbody tr th:only-of-type {\n",
       "        vertical-align: middle;\n",
       "    }\n",
       "\n",
       "    .dataframe tbody tr th {\n",
       "        vertical-align: top;\n",
       "    }\n",
       "\n",
       "    .dataframe thead th {\n",
       "        text-align: right;\n",
       "    }\n",
       "</style>\n",
       "<table border=\"1\" class=\"dataframe\">\n",
       "  <thead>\n",
       "    <tr style=\"text-align: right;\">\n",
       "      <th></th>\n",
       "      <th>id</th>\n",
       "      <th>date</th>\n",
       "      <th>value</th>\n",
       "    </tr>\n",
       "  </thead>\n",
       "  <tbody>\n",
       "    <tr>\n",
       "      <th>24</th>\n",
       "      <td>24</td>\n",
       "      <td>2018-03-02 00:00:00</td>\n",
       "      <td>20842.538</td>\n",
       "    </tr>\n",
       "    <tr>\n",
       "      <th>25</th>\n",
       "      <td>25</td>\n",
       "      <td>2018-03-02 01:00:00</td>\n",
       "      <td>20108.125</td>\n",
       "    </tr>\n",
       "    <tr>\n",
       "      <th>26</th>\n",
       "      <td>26</td>\n",
       "      <td>2018-03-02 02:00:00</td>\n",
       "      <td>19480.463</td>\n",
       "    </tr>\n",
       "    <tr>\n",
       "      <th>27</th>\n",
       "      <td>27</td>\n",
       "      <td>2018-03-02 03:00:00</td>\n",
       "      <td>19235.275</td>\n",
       "    </tr>\n",
       "    <tr>\n",
       "      <th>28</th>\n",
       "      <td>28</td>\n",
       "      <td>2018-03-02 04:00:00</td>\n",
       "      <td>19149.388</td>\n",
       "    </tr>\n",
       "  </tbody>\n",
       "</table>\n",
       "</div>"
      ],
      "text/plain": [
       "    id                date      value\n",
       "24  24 2018-03-02 00:00:00  20842.538\n",
       "25  25 2018-03-02 01:00:00  20108.125\n",
       "26  26 2018-03-02 02:00:00  19480.463\n",
       "27  27 2018-03-02 03:00:00  19235.275\n",
       "28  28 2018-03-02 04:00:00  19149.388"
      ]
     },
     "execution_count": 6,
     "metadata": {},
     "output_type": "execute_result"
    }
   ],
   "source": [
    "df_train.head()"
   ]
  },
  {
   "cell_type": "code",
   "execution_count": 7,
   "id": "alive-homeless",
   "metadata": {
    "scrolled": true
   },
   "outputs": [
    {
     "name": "stdout",
     "output_type": "stream",
     "text": [
      "<class 'pandas.core.frame.DataFrame'>\n",
      "Int64Index: 26517 entries, 24 to 35227\n",
      "Data columns (total 3 columns):\n",
      " #   Column  Non-Null Count  Dtype         \n",
      "---  ------  --------------  -----         \n",
      " 0   id      26517 non-null  int64         \n",
      " 1   date    26517 non-null  datetime64[ns]\n",
      " 2   value   26517 non-null  float64       \n",
      "dtypes: datetime64[ns](1), float64(1), int64(1)\n",
      "memory usage: 828.7 KB\n"
     ]
    }
   ],
   "source": [
    "df_train.info()"
   ]
  },
  {
   "cell_type": "code",
   "execution_count": 8,
   "id": "defensive-techno",
   "metadata": {
    "scrolled": false
   },
   "outputs": [
    {
     "data": {
      "text/html": [
       "<div>\n",
       "<style scoped>\n",
       "    .dataframe tbody tr th:only-of-type {\n",
       "        vertical-align: middle;\n",
       "    }\n",
       "\n",
       "    .dataframe tbody tr th {\n",
       "        vertical-align: top;\n",
       "    }\n",
       "\n",
       "    .dataframe thead th {\n",
       "        text-align: right;\n",
       "    }\n",
       "</style>\n",
       "<table border=\"1\" class=\"dataframe\">\n",
       "  <thead>\n",
       "    <tr style=\"text-align: right;\">\n",
       "      <th></th>\n",
       "      <th>id</th>\n",
       "      <th>value</th>\n",
       "    </tr>\n",
       "  </thead>\n",
       "  <tbody>\n",
       "    <tr>\n",
       "      <th>count</th>\n",
       "      <td>26517.000000</td>\n",
       "      <td>26517.000000</td>\n",
       "    </tr>\n",
       "    <tr>\n",
       "      <th>mean</th>\n",
       "      <td>17769.289626</td>\n",
       "      <td>19405.569279</td>\n",
       "    </tr>\n",
       "    <tr>\n",
       "      <th>std</th>\n",
       "      <td>10163.658233</td>\n",
       "      <td>3242.556600</td>\n",
       "    </tr>\n",
       "    <tr>\n",
       "      <th>min</th>\n",
       "      <td>24.000000</td>\n",
       "      <td>10768.725000</td>\n",
       "    </tr>\n",
       "    <tr>\n",
       "      <th>25%</th>\n",
       "      <td>8836.000000</td>\n",
       "      <td>16736.688000</td>\n",
       "    </tr>\n",
       "    <tr>\n",
       "      <th>50%</th>\n",
       "      <td>17961.000000</td>\n",
       "      <td>19450.300000</td>\n",
       "    </tr>\n",
       "    <tr>\n",
       "      <th>75%</th>\n",
       "      <td>26510.000000</td>\n",
       "      <td>21924.450000</td>\n",
       "    </tr>\n",
       "    <tr>\n",
       "      <th>max</th>\n",
       "      <td>35227.000000</td>\n",
       "      <td>27374.675000</td>\n",
       "    </tr>\n",
       "  </tbody>\n",
       "</table>\n",
       "</div>"
      ],
      "text/plain": [
       "                 id         value\n",
       "count  26517.000000  26517.000000\n",
       "mean   17769.289626  19405.569279\n",
       "std    10163.658233   3242.556600\n",
       "min       24.000000  10768.725000\n",
       "25%     8836.000000  16736.688000\n",
       "50%    17961.000000  19450.300000\n",
       "75%    26510.000000  21924.450000\n",
       "max    35227.000000  27374.675000"
      ]
     },
     "execution_count": 8,
     "metadata": {},
     "output_type": "execute_result"
    }
   ],
   "source": [
    "df_train.describe()"
   ]
  },
  {
   "cell_type": "code",
   "execution_count": 9,
   "id": "minute-treat",
   "metadata": {
    "scrolled": false
   },
   "outputs": [
    {
     "name": "stdout",
     "output_type": "stream",
     "text": [
      "Data range in train starts at:  2018-03-02 00:00:00\n",
      "Data range in train ends at:  2022-03-07 23:00:00\n",
      "Data range in test starts at:  2018-03-01 00:00:00\n",
      "Data range in test ends at:  2022-03-08 23:00:00\n"
     ]
    }
   ],
   "source": [
    "print(\"Data range in train starts at: \", df_train['date'].min())\n",
    "print(\"Data range in train ends at: \", df_train['date'].max())\n",
    "\n",
    "print(\"Data range in test starts at: \", df_test['date'].min())\n",
    "print(\"Data range in test ends at: \", df_test['date'].max())"
   ]
  },
  {
   "cell_type": "code",
   "execution_count": 11,
   "id": "educational-verse",
   "metadata": {},
   "outputs": [
    {
     "data": {
      "text/plain": [
       "Text(0.5, 1.0, 'Zmiana zapotrzebowania na energie w czasie')"
      ]
     },
     "execution_count": 11,
     "metadata": {},
     "output_type": "execute_result"
    },
    {
     "data": {
      "image/png": "[encoded data removed]",
      "text/plain": [
       "<Figure size 1080x504 with 1 Axes>"
      ]
     },
     "metadata": {
      "needs_background": "light"
     },
     "output_type": "display_data"
    }
   ],
   "source": [
    "plt.figure(figsize=(15, 7))\n",
    "sns.lineplot(x='date', y='value', data=df_train)\n",
    "plt.title(\"Zmiana zapotrzebowania na energie w czasie\")"
   ]
  },
  {
   "cell_type": "markdown",
   "id": "rolled-tragedy",
   "metadata": {},
   "source": [
    "## 💡 Pierwsze wnioski\n",
    "\n",
    "- nie mamy brakujacych wartosci\n",
    "- widac sezonowosc roczna"
   ]
  },
  {
   "cell_type": "markdown",
   "id": "painted-scope",
   "metadata": {},
   "source": [
    "## Dodanie cech na podstawie daty"
   ]
  },
  {
   "cell_type": "code",
   "execution_count": 12,
   "id": "wooden-heater",
   "metadata": {
    "scrolled": false
   },
   "outputs": [
    {
     "data": {
      "text/plain": [
       "(35252, 3)"
      ]
     },
     "execution_count": 12,
     "metadata": {},
     "output_type": "execute_result"
    }
   ],
   "source": [
    "df_all = pd.concat([df_train, df_test])\n",
    "df_all[\"date\"] = pd.to_datetime(df_all[\"date\"])\n",
    "\n",
    "df_all.shape"
   ]
  },
  {
   "cell_type": "code",
   "execution_count": 13,
   "id": "junior-athletics",
   "metadata": {
    "scrolled": false
   },
   "outputs": [
    {
     "name": "stdout",
     "output_type": "stream",
     "text": [
      "<class 'pandas.core.frame.DataFrame'>\n",
      "Int64Index: 35252 entries, 24 to 35251\n",
      "Data columns (total 3 columns):\n",
      " #   Column  Non-Null Count  Dtype         \n",
      "---  ------  --------------  -----         \n",
      " 0   id      35252 non-null  int64         \n",
      " 1   date    35252 non-null  datetime64[ns]\n",
      " 2   value   26517 non-null  float64       \n",
      "dtypes: datetime64[ns](1), float64(1), int64(1)\n",
      "memory usage: 1.1 MB\n"
     ]
    }
   ],
   "source": [
    "df_all.info()"
   ]
  },
  {
   "cell_type": "code",
   "execution_count": 15,
   "id": "injured-nevada",
   "metadata": {},
   "outputs": [],
   "source": [
    "def feature_engineering(df):\n",
    "    # Date features\n",
    "    df.sort_values(by='date', inplace=True)\n",
    "    df[\"year\"] =  df[\"date\"].dt.year\n",
    "    df[\"month\"] =  df[\"date\"].dt.month\n",
    "    df[\"day\"] =  df[\"date\"].dt.day\n",
    "    df[\"hour\"] =  df[\"date\"].dt.hour\n",
    "    df[\"week\"] =  df[\"date\"].dt.week\n",
    "    df[\"weekofyear\"] =  df[\"date\"].dt.weekofyear\n",
    "    df[\"dayofweek\"] =  df[\"date\"].dt.dayofweek\n",
    "    df[\"weekday\"] =  df[\"date\"].dt.weekday\n",
    "    df[\"dayofyear\"] =  df[\"date\"].dt.dayofyear\n",
    "    df[\"quarter\"] =  df[\"date\"].dt.quarter\n",
    "    df[\"is_month_start\"] =  df[\"date\"].dt.is_month_start\n",
    "    df[\"is_month_end\"] =  df[\"date\"].dt.is_month_end\n",
    "    df[\"is_quarter_start\"] =  df[\"date\"].dt.is_quarter_start\n",
    "    df[\"is_quarter_end\"] =  df[\"date\"].dt.is_quarter_end\n",
    "    df[\"is_year_start\"] =  df[\"date\"].dt.is_year_start\n",
    "    df[\"is_year_end\"] =  df[\"date\"].dt.is_year_end\n",
    "    df[\"is_leap_year\"] =  df[\"date\"].dt.is_leap_year\n",
    "    df[\"daysinmonth\"] =  df[\"date\"].dt.daysinmonth\n",
    "    \n",
    "    # statistics per groups\n",
    "    df_train = df[ df.value.notnull() ]\n",
    "    \n",
    "    group_features = {\n",
    "        \"group_mean_hour_dayofweek\": [\"hour\", \"dayofweek\"],\n",
    "        \"group_mean_hour_month\": [\"hour\", \"month\"],\n",
    "        \"group_mean_hour_dayofweek_month\": [\"hour\", \"dayofweek\", \"month\"],\n",
    "    }\n",
    "    \n",
    "    for feat_name,group_keys in group_features.items(): \n",
    "        dict_group = {k:v[\"value\"] for k,v in df_train[[\"value\"] + group_keys].groupby(group_keys).agg(\"mean\").to_dict(orient=\"items\").items() }\n",
    "        df[feat_name] = df[ group_keys ].apply(lambda keys: dict_group.get(tuple(keys)), axis=1)\n",
    "        \n",
    "    group_features2 = {\n",
    "        \"group_std_hour_dayofweek\": [\"hour\", \"dayofweek\"],\n",
    "        \"group_std_hour_month\": [\"hour\", \"month\"],\n",
    "        \"group_std_hour_dayofweek_month\": [\"hour\", \"dayofweek\", \"month\"],\n",
    "    }\n",
    "    \n",
    "    for feat_name,group_keys in group_features2.items(): \n",
    "        dict_group = {k:v[\"value\"] for k,v in df_train[[\"value\"] + group_keys].groupby(group_keys).agg(\"std\").to_dict(orient=\"items\").items() }\n",
    "        df[feat_name] = df[ group_keys ].apply(lambda keys: dict_group.get(tuple(keys)), axis=1)\n",
    "        \n",
    "    # lagged values    \n",
    "    df.index = df[\"date\"]\n",
    "    df_train = df[ df.value.notnull() ]\n",
    "    \n",
    "    #get value from yesterday \n",
    "    d = 1\n",
    "    df_train_new = df_train.copy()\n",
    "    feat_name = \"dayofyear_{}d\".format(d)\n",
    "    value_feat_name = \"value_{}dayofyear\".format(d)\n",
    "\n",
    "    df_train_new[feat_name] = df_train_new[\"dayofyear\"] + d\n",
    "    df_train_new.rename(columns={\"value\": value_feat_name}, inplace=True)\n",
    "\n",
    "    df = pd.merge(df, df_train_new[ [value_feat_name, feat_name, \"year\", \"hour\"] ], left_on=[\"year\", \"dayofyear\", \"hour\"], right_on=[\"year\", feat_name, \"hour\"], how=\"left\")\n",
    "    \n",
    "    return df\n",
    "    \n",
    "df_new = feature_engineering(df_all)"
   ]
  },
  {
   "cell_type": "code",
   "execution_count": 16,
   "id": "regional-jackson",
   "metadata": {
    "scrolled": true
   },
   "outputs": [
    {
     "name": "stdout",
     "output_type": "stream",
     "text": [
      "<class 'pandas.core.frame.DataFrame'>\n",
      "Int64Index: 35252 entries, 0 to 35251\n",
      "Data columns (total 29 columns):\n",
      " #   Column                           Non-Null Count  Dtype         \n",
      "---  ------                           --------------  -----         \n",
      " 0   id                               35252 non-null  int64         \n",
      " 1   date                             35252 non-null  datetime64[ns]\n",
      " 2   value                            26517 non-null  float64       \n",
      " 3   year                             35252 non-null  int64         \n",
      " 4   month                            35252 non-null  int64         \n",
      " 5   day                              35252 non-null  int64         \n",
      " 6   hour                             35252 non-null  int64         \n",
      " 7   week                             35252 non-null  int64         \n",
      " 8   weekofyear                       35252 non-null  int64         \n",
      " 9   dayofweek                        35252 non-null  int64         \n",
      " 10  weekday                          35252 non-null  int64         \n",
      " 11  dayofyear                        35252 non-null  int64         \n",
      " 12  quarter                          35252 non-null  int64         \n",
      " 13  is_month_start                   35252 non-null  bool          \n",
      " 14  is_month_end                     35252 non-null  bool          \n",
      " 15  is_quarter_start                 35252 non-null  bool          \n",
      " 16  is_quarter_end                   35252 non-null  bool          \n",
      " 17  is_year_start                    35252 non-null  bool          \n",
      " 18  is_year_end                      35252 non-null  bool          \n",
      " 19  is_leap_year                     35252 non-null  bool          \n",
      " 20  daysinmonth                      35252 non-null  int64         \n",
      " 21  group_mean_hour_dayofweek        35252 non-null  float64       \n",
      " 22  group_mean_hour_month            35252 non-null  float64       \n",
      " 23  group_mean_hour_dayofweek_month  35252 non-null  float64       \n",
      " 24  group_std_hour_dayofweek         35252 non-null  float64       \n",
      " 25  group_std_hour_month             35252 non-null  float64       \n",
      " 26  group_std_hour_dayofweek_month   35252 non-null  float64       \n",
      " 27  value_1dayofyear                 26465 non-null  float64       \n",
      " 28  dayofyear_1d                     26465 non-null  float64       \n",
      "dtypes: bool(7), datetime64[ns](1), float64(9), int64(12)\n",
      "memory usage: 6.4 MB\n"
     ]
    }
   ],
   "source": [
    "df_new.info()"
   ]
  },
  {
   "cell_type": "code",
   "execution_count": 18,
   "id": "accompanied-iceland",
   "metadata": {},
   "outputs": [
    {
     "data": {
      "text/plain": [
       "Text(0.5, 1.0, 'Zmiana zapotrzebowania na energie w ciagu jednego dnia')"
      ]
     },
     "execution_count": 18,
     "metadata": {},
     "output_type": "execute_result"
    },
    {
     "data": {
      "image/png": "[encoded data removed]",
      "text/plain": [
       "<Figure size 1080x504 with 1 Axes>"
      ]
     },
     "metadata": {
      "needs_background": "light"
     },
     "output_type": "display_data"
    }
   ],
   "source": [
    "plt.figure(figsize=(15, 7))\n",
    "sns.lineplot(x='date', y='value', data=df_new[(df_new[\"year\"] == 2019) & (df_new[\"day\"] == 30) & (df_new[\"month\"] == 6)] )\n",
    "plt.title(\"Zmiana zapotrzebowania na energie w ciagu jednego dnia\")"
   ]
  },
  {
   "cell_type": "code",
   "execution_count": 19,
   "id": "electrical-macedonia",
   "metadata": {},
   "outputs": [],
   "source": [
    "df_all_statistics = df_new.copy()"
   ]
  },
  {
   "cell_type": "code",
   "execution_count": 20,
   "id": "technical-perspective",
   "metadata": {},
   "outputs": [],
   "source": [
    "feats = [col for col in df_all_statistics.columns if col not in ('id','date','value','dayofyear_1d')]\n",
    "\n",
    "df_train = df_all_statistics[ df_all_statistics[\"value\"].notnull() ]\n",
    "df_test = df_all_statistics[ df_all_statistics[\"value\"].isnull() ].copy()\n",
    "\n",
    "X_train = df_train[feats].values\n",
    "y_train = df_train[\"value\"].values\n",
    "X_test = df_test[feats].values"
   ]
  },
  {
   "cell_type": "markdown",
   "id": "saving-beatles",
   "metadata": {},
   "source": [
    "## 🤖 Trenujemy i prognozujemy "
   ]
  },
  {
   "cell_type": "code",
   "execution_count": 21,
   "id": "cloudy-calendar",
   "metadata": {
    "scrolled": true
   },
   "outputs": [],
   "source": [
    "def fit_predict_feat_importance(model):\n",
    "    model.fit(X_train, y_train)\n",
    "    y_pred =  model.predict(X_test)\n",
    "    imp = PermutationImportance(model, random_state=0).fit(X_train,y_train)\n",
    "    title='Feature Importance'\n",
    "    skplt.estimators.plot_feature_importances(model, feature_names=feats, title=title, x_tick_rotation=90, figsize=(15, 5));\n",
    "    res_eli5 = eli5.show_weights(imp, feature_names=feats, top=30)\n",
    "    return res_eli5\n",
    "# model = CatBoostRegressor(iterations = 100)\n",
    "# #model = XGBRegressor()\n",
    "# model.fit(X_train, y_train)\n",
    "# df_test[\"value\"] = model.predict(X_test)"
   ]
  },
  {
   "cell_type": "code",
   "execution_count": 22,
   "id": "illegal-theology",
   "metadata": {},
   "outputs": [
    {
     "data": {
      "text/html": [
       "\n",
       "    <style>\n",
       "    table.eli5-weights tr:hover {\n",
       "        filter: brightness(85%);\n",
       "    }\n",
       "</style>\n",
       "\n",
       "\n",
       "\n",
       "    \n",
       "\n",
       "    \n",
       "\n",
       "    \n",
       "\n",
       "    \n",
       "\n",
       "    \n",
       "\n",
       "    \n",
       "\n",
       "\n",
       "    \n",
       "\n",
       "    \n",
       "\n",
       "    \n",
       "\n",
       "    \n",
       "\n",
       "    \n",
       "\n",
       "    \n",
       "\n",
       "\n",
       "    \n",
       "\n",
       "    \n",
       "\n",
       "    \n",
       "\n",
       "    \n",
       "\n",
       "    \n",
       "        <table class=\"eli5-weights eli5-feature-importances\" style=\"border-collapse: collapse; border: none; margin-top: 0em; table-layout: auto;\">\n",
       "    <thead>\n",
       "    <tr style=\"border: none;\">\n",
       "        <th style=\"padding: 0 1em 0 0.5em; text-align: right; border: none;\">Weight</th>\n",
       "        <th style=\"padding: 0 0.5em 0 0.5em; text-align: left; border: none;\">Feature</th>\n",
       "    </tr>\n",
       "    </thead>\n",
       "    <tbody>\n",
       "    \n",
       "        <tr style=\"background-color: hsl(120, 100.00%, 80.00%); border: none;\">\n",
       "            <td style=\"padding: 0 1em 0 0.5em; text-align: right; border: none;\">\n",
       "                1.1591\n",
       "                \n",
       "                    &plusmn; 0.0093\n",
       "                \n",
       "            </td>\n",
       "            <td style=\"padding: 0 0.5em 0 0.5em; text-align: left; border: none;\">\n",
       "                group_mean_hour_dayofweek_month\n",
       "            </td>\n",
       "        </tr>\n",
       "    \n",
       "        <tr style=\"background-color: hsl(120, 100.00%, 96.98%); border: none;\">\n",
       "            <td style=\"padding: 0 1em 0 0.5em; text-align: right; border: none;\">\n",
       "                0.0778\n",
       "                \n",
       "                    &plusmn; 0.0014\n",
       "                \n",
       "            </td>\n",
       "            <td style=\"padding: 0 0.5em 0 0.5em; text-align: left; border: none;\">\n",
       "                value_1dayofyear\n",
       "            </td>\n",
       "        </tr>\n",
       "    \n",
       "        <tr style=\"background-color: hsl(120, 100.00%, 97.67%); border: none;\">\n",
       "            <td style=\"padding: 0 1em 0 0.5em; text-align: right; border: none;\">\n",
       "                0.0539\n",
       "                \n",
       "                    &plusmn; 0.0009\n",
       "                \n",
       "            </td>\n",
       "            <td style=\"padding: 0 0.5em 0 0.5em; text-align: left; border: none;\">\n",
       "                dayofyear\n",
       "            </td>\n",
       "        </tr>\n",
       "    \n",
       "        <tr style=\"background-color: hsl(120, 100.00%, 98.10%); border: none;\">\n",
       "            <td style=\"padding: 0 1em 0 0.5em; text-align: right; border: none;\">\n",
       "                0.0402\n",
       "                \n",
       "                    &plusmn; 0.0011\n",
       "                \n",
       "            </td>\n",
       "            <td style=\"padding: 0 0.5em 0 0.5em; text-align: left; border: none;\">\n",
       "                day\n",
       "            </td>\n",
       "        </tr>\n",
       "    \n",
       "        <tr style=\"background-color: hsl(120, 100.00%, 98.55%); border: none;\">\n",
       "            <td style=\"padding: 0 1em 0 0.5em; text-align: right; border: none;\">\n",
       "                0.0274\n",
       "                \n",
       "                    &plusmn; 0.0009\n",
       "                \n",
       "            </td>\n",
       "            <td style=\"padding: 0 0.5em 0 0.5em; text-align: left; border: none;\">\n",
       "                group_std_hour_dayofweek_month\n",
       "            </td>\n",
       "        </tr>\n",
       "    \n",
       "        <tr style=\"background-color: hsl(120, 100.00%, 98.56%); border: none;\">\n",
       "            <td style=\"padding: 0 1em 0 0.5em; text-align: right; border: none;\">\n",
       "                0.0271\n",
       "                \n",
       "                    &plusmn; 0.0005\n",
       "                \n",
       "            </td>\n",
       "            <td style=\"padding: 0 0.5em 0 0.5em; text-align: left; border: none;\">\n",
       "                year\n",
       "            </td>\n",
       "        </tr>\n",
       "    \n",
       "        <tr style=\"background-color: hsl(120, 100.00%, 99.07%); border: none;\">\n",
       "            <td style=\"padding: 0 1em 0 0.5em; text-align: right; border: none;\">\n",
       "                0.0145\n",
       "                \n",
       "                    &plusmn; 0.0003\n",
       "                \n",
       "            </td>\n",
       "            <td style=\"padding: 0 0.5em 0 0.5em; text-align: left; border: none;\">\n",
       "                is_leap_year\n",
       "            </td>\n",
       "        </tr>\n",
       "    \n",
       "        <tr style=\"background-color: hsl(120, 100.00%, 99.38%); border: none;\">\n",
       "            <td style=\"padding: 0 1em 0 0.5em; text-align: right; border: none;\">\n",
       "                0.0081\n",
       "                \n",
       "                    &plusmn; 0.0001\n",
       "                \n",
       "            </td>\n",
       "            <td style=\"padding: 0 0.5em 0 0.5em; text-align: left; border: none;\">\n",
       "                weekofyear\n",
       "            </td>\n",
       "        </tr>\n",
       "    \n",
       "        <tr style=\"background-color: hsl(120, 100.00%, 99.41%); border: none;\">\n",
       "            <td style=\"padding: 0 1em 0 0.5em; text-align: right; border: none;\">\n",
       "                0.0076\n",
       "                \n",
       "                    &plusmn; 0.0002\n",
       "                \n",
       "            </td>\n",
       "            <td style=\"padding: 0 0.5em 0 0.5em; text-align: left; border: none;\">\n",
       "                week\n",
       "            </td>\n",
       "        </tr>\n",
       "    \n",
       "        <tr style=\"background-color: hsl(120, 100.00%, 99.44%); border: none;\">\n",
       "            <td style=\"padding: 0 1em 0 0.5em; text-align: right; border: none;\">\n",
       "                0.0070\n",
       "                \n",
       "                    &plusmn; 0.0002\n",
       "                \n",
       "            </td>\n",
       "            <td style=\"padding: 0 0.5em 0 0.5em; text-align: left; border: none;\">\n",
       "                group_mean_hour_month\n",
       "            </td>\n",
       "        </tr>\n",
       "    \n",
       "        <tr style=\"background-color: hsl(120, 100.00%, 99.49%); border: none;\">\n",
       "            <td style=\"padding: 0 1em 0 0.5em; text-align: right; border: none;\">\n",
       "                0.0061\n",
       "                \n",
       "                    &plusmn; 0.0001\n",
       "                \n",
       "            </td>\n",
       "            <td style=\"padding: 0 0.5em 0 0.5em; text-align: left; border: none;\">\n",
       "                group_mean_hour_dayofweek\n",
       "            </td>\n",
       "        </tr>\n",
       "    \n",
       "        <tr style=\"background-color: hsl(120, 100.00%, 99.60%); border: none;\">\n",
       "            <td style=\"padding: 0 1em 0 0.5em; text-align: right; border: none;\">\n",
       "                0.0043\n",
       "                \n",
       "                    &plusmn; 0.0002\n",
       "                \n",
       "            </td>\n",
       "            <td style=\"padding: 0 0.5em 0 0.5em; text-align: left; border: none;\">\n",
       "                dayofweek\n",
       "            </td>\n",
       "        </tr>\n",
       "    \n",
       "        <tr style=\"background-color: hsl(120, 100.00%, 99.69%); border: none;\">\n",
       "            <td style=\"padding: 0 1em 0 0.5em; text-align: right; border: none;\">\n",
       "                0.0030\n",
       "                \n",
       "                    &plusmn; 0.0000\n",
       "                \n",
       "            </td>\n",
       "            <td style=\"padding: 0 0.5em 0 0.5em; text-align: left; border: none;\">\n",
       "                daysinmonth\n",
       "            </td>\n",
       "        </tr>\n",
       "    \n",
       "        <tr style=\"background-color: hsl(120, 100.00%, 99.77%); border: none;\">\n",
       "            <td style=\"padding: 0 1em 0 0.5em; text-align: right; border: none;\">\n",
       "                0.0020\n",
       "                \n",
       "                    &plusmn; 0.0001\n",
       "                \n",
       "            </td>\n",
       "            <td style=\"padding: 0 0.5em 0 0.5em; text-align: left; border: none;\">\n",
       "                weekday\n",
       "            </td>\n",
       "        </tr>\n",
       "    \n",
       "        <tr style=\"background-color: hsl(120, 100.00%, 99.82%); border: none;\">\n",
       "            <td style=\"padding: 0 1em 0 0.5em; text-align: right; border: none;\">\n",
       "                0.0014\n",
       "                \n",
       "                    &plusmn; 0.0001\n",
       "                \n",
       "            </td>\n",
       "            <td style=\"padding: 0 0.5em 0 0.5em; text-align: left; border: none;\">\n",
       "                month\n",
       "            </td>\n",
       "        </tr>\n",
       "    \n",
       "        <tr style=\"background-color: hsl(120, 100.00%, 99.84%); border: none;\">\n",
       "            <td style=\"padding: 0 1em 0 0.5em; text-align: right; border: none;\">\n",
       "                0.0012\n",
       "                \n",
       "                    &plusmn; 0.0001\n",
       "                \n",
       "            </td>\n",
       "            <td style=\"padding: 0 0.5em 0 0.5em; text-align: left; border: none;\">\n",
       "                is_year_start\n",
       "            </td>\n",
       "        </tr>\n",
       "    \n",
       "        <tr style=\"background-color: hsl(120, 100.00%, 99.85%); border: none;\">\n",
       "            <td style=\"padding: 0 1em 0 0.5em; text-align: right; border: none;\">\n",
       "                0.0010\n",
       "                \n",
       "                    &plusmn; 0.0000\n",
       "                \n",
       "            </td>\n",
       "            <td style=\"padding: 0 0.5em 0 0.5em; text-align: left; border: none;\">\n",
       "                group_std_hour_month\n",
       "            </td>\n",
       "        </tr>\n",
       "    \n",
       "        <tr style=\"background-color: hsl(120, 100.00%, 99.87%); border: none;\">\n",
       "            <td style=\"padding: 0 1em 0 0.5em; text-align: right; border: none;\">\n",
       "                0.0009\n",
       "                \n",
       "                    &plusmn; 0.0000\n",
       "                \n",
       "            </td>\n",
       "            <td style=\"padding: 0 0.5em 0 0.5em; text-align: left; border: none;\">\n",
       "                hour\n",
       "            </td>\n",
       "        </tr>\n",
       "    \n",
       "        <tr style=\"background-color: hsl(120, 100.00%, 99.88%); border: none;\">\n",
       "            <td style=\"padding: 0 1em 0 0.5em; text-align: right; border: none;\">\n",
       "                0.0008\n",
       "                \n",
       "                    &plusmn; 0.0000\n",
       "                \n",
       "            </td>\n",
       "            <td style=\"padding: 0 0.5em 0 0.5em; text-align: left; border: none;\">\n",
       "                group_std_hour_dayofweek\n",
       "            </td>\n",
       "        </tr>\n",
       "    \n",
       "        <tr style=\"background-color: hsl(120, 100.00%, 99.93%); border: none;\">\n",
       "            <td style=\"padding: 0 1em 0 0.5em; text-align: right; border: none;\">\n",
       "                0.0004\n",
       "                \n",
       "                    &plusmn; 0.0000\n",
       "                \n",
       "            </td>\n",
       "            <td style=\"padding: 0 0.5em 0 0.5em; text-align: left; border: none;\">\n",
       "                quarter\n",
       "            </td>\n",
       "        </tr>\n",
       "    \n",
       "        <tr style=\"background-color: hsl(120, 100.00%, 99.93%); border: none;\">\n",
       "            <td style=\"padding: 0 1em 0 0.5em; text-align: right; border: none;\">\n",
       "                0.0004\n",
       "                \n",
       "                    &plusmn; 0.0000\n",
       "                \n",
       "            </td>\n",
       "            <td style=\"padding: 0 0.5em 0 0.5em; text-align: left; border: none;\">\n",
       "                is_quarter_start\n",
       "            </td>\n",
       "        </tr>\n",
       "    \n",
       "        <tr style=\"background-color: hsl(120, 100.00%, 99.93%); border: none;\">\n",
       "            <td style=\"padding: 0 1em 0 0.5em; text-align: right; border: none;\">\n",
       "                0.0003\n",
       "                \n",
       "                    &plusmn; 0.0000\n",
       "                \n",
       "            </td>\n",
       "            <td style=\"padding: 0 0.5em 0 0.5em; text-align: left; border: none;\">\n",
       "                is_month_start\n",
       "            </td>\n",
       "        </tr>\n",
       "    \n",
       "        <tr style=\"background-color: hsl(120, 100.00%, 99.98%); border: none;\">\n",
       "            <td style=\"padding: 0 1em 0 0.5em; text-align: right; border: none;\">\n",
       "                0.0001\n",
       "                \n",
       "                    &plusmn; 0.0000\n",
       "                \n",
       "            </td>\n",
       "            <td style=\"padding: 0 0.5em 0 0.5em; text-align: left; border: none;\">\n",
       "                is_month_end\n",
       "            </td>\n",
       "        </tr>\n",
       "    \n",
       "        <tr style=\"background-color: hsl(120, 100.00%, 99.98%); border: none;\">\n",
       "            <td style=\"padding: 0 1em 0 0.5em; text-align: right; border: none;\">\n",
       "                0.0000\n",
       "                \n",
       "                    &plusmn; 0.0000\n",
       "                \n",
       "            </td>\n",
       "            <td style=\"padding: 0 0.5em 0 0.5em; text-align: left; border: none;\">\n",
       "                is_year_end\n",
       "            </td>\n",
       "        </tr>\n",
       "    \n",
       "        <tr style=\"background-color: hsl(120, 100.00%, 99.99%); border: none;\">\n",
       "            <td style=\"padding: 0 1em 0 0.5em; text-align: right; border: none;\">\n",
       "                0.0000\n",
       "                \n",
       "                    &plusmn; 0.0000\n",
       "                \n",
       "            </td>\n",
       "            <td style=\"padding: 0 0.5em 0 0.5em; text-align: left; border: none;\">\n",
       "                is_quarter_end\n",
       "            </td>\n",
       "        </tr>\n",
       "    \n",
       "    \n",
       "    </tbody>\n",
       "</table>\n",
       "    \n",
       "\n",
       "    \n",
       "\n",
       "\n",
       "    \n",
       "\n",
       "    \n",
       "\n",
       "    \n",
       "\n",
       "    \n",
       "\n",
       "    \n",
       "\n",
       "    \n",
       "\n",
       "\n",
       "\n"
      ],
      "text/plain": [
       "<IPython.core.display.HTML object>"
      ]
     },
     "execution_count": 22,
     "metadata": {},
     "output_type": "execute_result"
    },
    {
     "data": {
      "image/png": "[encoded data removed]",
      "text/plain": [
       "<Figure size 1080x360 with 1 Axes>"
      ]
     },
     "metadata": {
      "needs_background": "light"
     },
     "output_type": "display_data"
    }
   ],
   "source": [
    "fit_predict_feat_importance(CatBoostRegressor(verbose = False))"
   ]
  },
  {
   "cell_type": "code",
   "execution_count": 23,
   "id": "provincial-watts",
   "metadata": {},
   "outputs": [
    {
     "data": {
      "text/html": [
       "\n",
       "    <style>\n",
       "    table.eli5-weights tr:hover {\n",
       "        filter: brightness(85%);\n",
       "    }\n",
       "</style>\n",
       "\n",
       "\n",
       "\n",
       "    \n",
       "\n",
       "    \n",
       "\n",
       "    \n",
       "\n",
       "    \n",
       "\n",
       "    \n",
       "\n",
       "    \n",
       "\n",
       "\n",
       "    \n",
       "\n",
       "    \n",
       "\n",
       "    \n",
       "\n",
       "    \n",
       "\n",
       "    \n",
       "\n",
       "    \n",
       "\n",
       "\n",
       "    \n",
       "\n",
       "    \n",
       "\n",
       "    \n",
       "\n",
       "    \n",
       "\n",
       "    \n",
       "        <table class=\"eli5-weights eli5-feature-importances\" style=\"border-collapse: collapse; border: none; margin-top: 0em; table-layout: auto;\">\n",
       "    <thead>\n",
       "    <tr style=\"border: none;\">\n",
       "        <th style=\"padding: 0 1em 0 0.5em; text-align: right; border: none;\">Weight</th>\n",
       "        <th style=\"padding: 0 0.5em 0 0.5em; text-align: left; border: none;\">Feature</th>\n",
       "    </tr>\n",
       "    </thead>\n",
       "    <tbody>\n",
       "    \n",
       "        <tr style=\"background-color: hsl(120, 100.00%, 80.00%); border: none;\">\n",
       "            <td style=\"padding: 0 1em 0 0.5em; text-align: right; border: none;\">\n",
       "                1.2573\n",
       "                \n",
       "                    &plusmn; 0.0092\n",
       "                \n",
       "            </td>\n",
       "            <td style=\"padding: 0 0.5em 0 0.5em; text-align: left; border: none;\">\n",
       "                group_mean_hour_dayofweek_month\n",
       "            </td>\n",
       "        </tr>\n",
       "    \n",
       "        <tr style=\"background-color: hsl(120, 100.00%, 96.59%); border: none;\">\n",
       "            <td style=\"padding: 0 1em 0 0.5em; text-align: right; border: none;\">\n",
       "                0.1005\n",
       "                \n",
       "                    &plusmn; 0.0014\n",
       "                \n",
       "            </td>\n",
       "            <td style=\"padding: 0 0.5em 0 0.5em; text-align: left; border: none;\">\n",
       "                value_1dayofyear\n",
       "            </td>\n",
       "        </tr>\n",
       "    \n",
       "        <tr style=\"background-color: hsl(120, 100.00%, 97.06%); border: none;\">\n",
       "            <td style=\"padding: 0 1em 0 0.5em; text-align: right; border: none;\">\n",
       "                0.0814\n",
       "                \n",
       "                    &plusmn; 0.0023\n",
       "                \n",
       "            </td>\n",
       "            <td style=\"padding: 0 0.5em 0 0.5em; text-align: left; border: none;\">\n",
       "                dayofyear\n",
       "            </td>\n",
       "        </tr>\n",
       "    \n",
       "        <tr style=\"background-color: hsl(120, 100.00%, 98.46%); border: none;\">\n",
       "            <td style=\"padding: 0 1em 0 0.5em; text-align: right; border: none;\">\n",
       "                0.0324\n",
       "                \n",
       "                    &plusmn; 0.0012\n",
       "                \n",
       "            </td>\n",
       "            <td style=\"padding: 0 0.5em 0 0.5em; text-align: left; border: none;\">\n",
       "                day\n",
       "            </td>\n",
       "        </tr>\n",
       "    \n",
       "        <tr style=\"background-color: hsl(120, 100.00%, 98.74%); border: none;\">\n",
       "            <td style=\"padding: 0 1em 0 0.5em; text-align: right; border: none;\">\n",
       "                0.0242\n",
       "                \n",
       "                    &plusmn; 0.0005\n",
       "                \n",
       "            </td>\n",
       "            <td style=\"padding: 0 0.5em 0 0.5em; text-align: left; border: none;\">\n",
       "                year\n",
       "            </td>\n",
       "        </tr>\n",
       "    \n",
       "        <tr style=\"background-color: hsl(120, 100.00%, 98.85%); border: none;\">\n",
       "            <td style=\"padding: 0 1em 0 0.5em; text-align: right; border: none;\">\n",
       "                0.0212\n",
       "                \n",
       "                    &plusmn; 0.0003\n",
       "                \n",
       "            </td>\n",
       "            <td style=\"padding: 0 0.5em 0 0.5em; text-align: left; border: none;\">\n",
       "                week\n",
       "            </td>\n",
       "        </tr>\n",
       "    \n",
       "        <tr style=\"background-color: hsl(120, 100.00%, 98.89%); border: none;\">\n",
       "            <td style=\"padding: 0 1em 0 0.5em; text-align: right; border: none;\">\n",
       "                0.0201\n",
       "                \n",
       "                    &plusmn; 0.0003\n",
       "                \n",
       "            </td>\n",
       "            <td style=\"padding: 0 0.5em 0 0.5em; text-align: left; border: none;\">\n",
       "                group_std_hour_dayofweek_month\n",
       "            </td>\n",
       "        </tr>\n",
       "    \n",
       "        <tr style=\"background-color: hsl(120, 100.00%, 99.02%); border: none;\">\n",
       "            <td style=\"padding: 0 1em 0 0.5em; text-align: right; border: none;\">\n",
       "                0.0170\n",
       "                \n",
       "                    &plusmn; 0.0004\n",
       "                \n",
       "            </td>\n",
       "            <td style=\"padding: 0 0.5em 0 0.5em; text-align: left; border: none;\">\n",
       "                dayofweek\n",
       "            </td>\n",
       "        </tr>\n",
       "    \n",
       "        <tr style=\"background-color: hsl(120, 100.00%, 99.09%); border: none;\">\n",
       "            <td style=\"padding: 0 1em 0 0.5em; text-align: right; border: none;\">\n",
       "                0.0152\n",
       "                \n",
       "                    &plusmn; 0.0002\n",
       "                \n",
       "            </td>\n",
       "            <td style=\"padding: 0 0.5em 0 0.5em; text-align: left; border: none;\">\n",
       "                month\n",
       "            </td>\n",
       "        </tr>\n",
       "    \n",
       "        <tr style=\"background-color: hsl(120, 100.00%, 99.25%); border: none;\">\n",
       "            <td style=\"padding: 0 1em 0 0.5em; text-align: right; border: none;\">\n",
       "                0.0115\n",
       "                \n",
       "                    &plusmn; 0.0002\n",
       "                \n",
       "            </td>\n",
       "            <td style=\"padding: 0 0.5em 0 0.5em; text-align: left; border: none;\">\n",
       "                is_leap_year\n",
       "            </td>\n",
       "        </tr>\n",
       "    \n",
       "        <tr style=\"background-color: hsl(120, 100.00%, 99.46%); border: none;\">\n",
       "            <td style=\"padding: 0 1em 0 0.5em; text-align: right; border: none;\">\n",
       "                0.0073\n",
       "                \n",
       "                    &plusmn; 0.0002\n",
       "                \n",
       "            </td>\n",
       "            <td style=\"padding: 0 0.5em 0 0.5em; text-align: left; border: none;\">\n",
       "                group_mean_hour_dayofweek\n",
       "            </td>\n",
       "        </tr>\n",
       "    \n",
       "        <tr style=\"background-color: hsl(120, 100.00%, 99.53%); border: none;\">\n",
       "            <td style=\"padding: 0 1em 0 0.5em; text-align: right; border: none;\">\n",
       "                0.0059\n",
       "                \n",
       "                    &plusmn; 0.0004\n",
       "                \n",
       "            </td>\n",
       "            <td style=\"padding: 0 0.5em 0 0.5em; text-align: left; border: none;\">\n",
       "                group_mean_hour_month\n",
       "            </td>\n",
       "        </tr>\n",
       "    \n",
       "        <tr style=\"background-color: hsl(120, 100.00%, 99.77%); border: none;\">\n",
       "            <td style=\"padding: 0 1em 0 0.5em; text-align: right; border: none;\">\n",
       "                0.0022\n",
       "                \n",
       "                    &plusmn; 0.0001\n",
       "                \n",
       "            </td>\n",
       "            <td style=\"padding: 0 0.5em 0 0.5em; text-align: left; border: none;\">\n",
       "                hour\n",
       "            </td>\n",
       "        </tr>\n",
       "    \n",
       "        <tr style=\"background-color: hsl(120, 100.00%, 99.79%); border: none;\">\n",
       "            <td style=\"padding: 0 1em 0 0.5em; text-align: right; border: none;\">\n",
       "                0.0018\n",
       "                \n",
       "                    &plusmn; 0.0000\n",
       "                \n",
       "            </td>\n",
       "            <td style=\"padding: 0 0.5em 0 0.5em; text-align: left; border: none;\">\n",
       "                group_std_hour_dayofweek\n",
       "            </td>\n",
       "        </tr>\n",
       "    \n",
       "        <tr style=\"background-color: hsl(120, 100.00%, 99.81%); border: none;\">\n",
       "            <td style=\"padding: 0 1em 0 0.5em; text-align: right; border: none;\">\n",
       "                0.0017\n",
       "                \n",
       "                    &plusmn; 0.0001\n",
       "                \n",
       "            </td>\n",
       "            <td style=\"padding: 0 0.5em 0 0.5em; text-align: left; border: none;\">\n",
       "                daysinmonth\n",
       "            </td>\n",
       "        </tr>\n",
       "    \n",
       "        <tr style=\"background-color: hsl(120, 100.00%, 99.85%); border: none;\">\n",
       "            <td style=\"padding: 0 1em 0 0.5em; text-align: right; border: none;\">\n",
       "                0.0012\n",
       "                \n",
       "                    &plusmn; 0.0000\n",
       "                \n",
       "            </td>\n",
       "            <td style=\"padding: 0 0.5em 0 0.5em; text-align: left; border: none;\">\n",
       "                group_std_hour_month\n",
       "            </td>\n",
       "        </tr>\n",
       "    \n",
       "        <tr style=\"background-color: hsl(120, 100.00%, 99.93%); border: none;\">\n",
       "            <td style=\"padding: 0 1em 0 0.5em; text-align: right; border: none;\">\n",
       "                0.0004\n",
       "                \n",
       "                    &plusmn; 0.0000\n",
       "                \n",
       "            </td>\n",
       "            <td style=\"padding: 0 0.5em 0 0.5em; text-align: left; border: none;\">\n",
       "                is_quarter_start\n",
       "            </td>\n",
       "        </tr>\n",
       "    \n",
       "        <tr style=\"background-color: hsl(120, 100.00%, 99.94%); border: none;\">\n",
       "            <td style=\"padding: 0 1em 0 0.5em; text-align: right; border: none;\">\n",
       "                0.0003\n",
       "                \n",
       "                    &plusmn; 0.0000\n",
       "                \n",
       "            </td>\n",
       "            <td style=\"padding: 0 0.5em 0 0.5em; text-align: left; border: none;\">\n",
       "                is_month_end\n",
       "            </td>\n",
       "        </tr>\n",
       "    \n",
       "        <tr style=\"background-color: hsl(120, 100.00%, 99.98%); border: none;\">\n",
       "            <td style=\"padding: 0 1em 0 0.5em; text-align: right; border: none;\">\n",
       "                0.0001\n",
       "                \n",
       "                    &plusmn; 0.0000\n",
       "                \n",
       "            </td>\n",
       "            <td style=\"padding: 0 0.5em 0 0.5em; text-align: left; border: none;\">\n",
       "                is_quarter_end\n",
       "            </td>\n",
       "        </tr>\n",
       "    \n",
       "        <tr style=\"background-color: hsl(120, 100.00%, 99.99%); border: none;\">\n",
       "            <td style=\"padding: 0 1em 0 0.5em; text-align: right; border: none;\">\n",
       "                0.0000\n",
       "                \n",
       "                    &plusmn; 0.0000\n",
       "                \n",
       "            </td>\n",
       "            <td style=\"padding: 0 0.5em 0 0.5em; text-align: left; border: none;\">\n",
       "                is_year_end\n",
       "            </td>\n",
       "        </tr>\n",
       "    \n",
       "        <tr style=\"background-color: hsl(0, 100.00%, 100.00%); border: none;\">\n",
       "            <td style=\"padding: 0 1em 0 0.5em; text-align: right; border: none;\">\n",
       "                0\n",
       "                \n",
       "                    &plusmn; 0.0000\n",
       "                \n",
       "            </td>\n",
       "            <td style=\"padding: 0 0.5em 0 0.5em; text-align: left; border: none;\">\n",
       "                weekday\n",
       "            </td>\n",
       "        </tr>\n",
       "    \n",
       "        <tr style=\"background-color: hsl(0, 100.00%, 100.00%); border: none;\">\n",
       "            <td style=\"padding: 0 1em 0 0.5em; text-align: right; border: none;\">\n",
       "                0\n",
       "                \n",
       "                    &plusmn; 0.0000\n",
       "                \n",
       "            </td>\n",
       "            <td style=\"padding: 0 0.5em 0 0.5em; text-align: left; border: none;\">\n",
       "                is_month_start\n",
       "            </td>\n",
       "        </tr>\n",
       "    \n",
       "        <tr style=\"background-color: hsl(0, 100.00%, 100.00%); border: none;\">\n",
       "            <td style=\"padding: 0 1em 0 0.5em; text-align: right; border: none;\">\n",
       "                0\n",
       "                \n",
       "                    &plusmn; 0.0000\n",
       "                \n",
       "            </td>\n",
       "            <td style=\"padding: 0 0.5em 0 0.5em; text-align: left; border: none;\">\n",
       "                weekofyear\n",
       "            </td>\n",
       "        </tr>\n",
       "    \n",
       "        <tr style=\"background-color: hsl(0, 100.00%, 100.00%); border: none;\">\n",
       "            <td style=\"padding: 0 1em 0 0.5em; text-align: right; border: none;\">\n",
       "                0\n",
       "                \n",
       "                    &plusmn; 0.0000\n",
       "                \n",
       "            </td>\n",
       "            <td style=\"padding: 0 0.5em 0 0.5em; text-align: left; border: none;\">\n",
       "                is_year_start\n",
       "            </td>\n",
       "        </tr>\n",
       "    \n",
       "        <tr style=\"background-color: hsl(0, 100.00%, 100.00%); border: none;\">\n",
       "            <td style=\"padding: 0 1em 0 0.5em; text-align: right; border: none;\">\n",
       "                0\n",
       "                \n",
       "                    &plusmn; 0.0000\n",
       "                \n",
       "            </td>\n",
       "            <td style=\"padding: 0 0.5em 0 0.5em; text-align: left; border: none;\">\n",
       "                quarter\n",
       "            </td>\n",
       "        </tr>\n",
       "    \n",
       "    \n",
       "    </tbody>\n",
       "</table>\n",
       "    \n",
       "\n",
       "    \n",
       "\n",
       "\n",
       "    \n",
       "\n",
       "    \n",
       "\n",
       "    \n",
       "\n",
       "    \n",
       "\n",
       "    \n",
       "\n",
       "    \n",
       "\n",
       "\n",
       "\n"
      ],
      "text/plain": [
       "<IPython.core.display.HTML object>"
      ]
     },
     "execution_count": 23,
     "metadata": {},
     "output_type": "execute_result"
    },
    {
     "data": {
      "image/png": "[encoded data removed]",
      "text/plain": [
       "<Figure size 1080x360 with 1 Axes>"
      ]
     },
     "metadata": {
      "needs_background": "light"
     },
     "output_type": "display_data"
    }
   ],
   "source": [
    "fit_predict_feat_importance(XGBRegressor())"
   ]
  },
  {
   "cell_type": "markdown",
   "id": "prescribed-sensitivity",
   "metadata": {},
   "source": [
    "## Walidacja"
   ]
  },
  {
   "cell_type": "code",
   "execution_count": 24,
   "id": "aggressive-camping",
   "metadata": {},
   "outputs": [],
   "source": [
    "X = df_train.drop(['value'],axis = 1)[feats]\n",
    "y = df_train['value']"
   ]
  },
  {
   "cell_type": "code",
   "execution_count": 26,
   "id": "southwest-nicaragua",
   "metadata": {
    "scrolled": true
   },
   "outputs": [
    {
     "name": "stderr",
     "output_type": "stream",
     "text": [
      "  0%|          | 0/2 [00:00<?, ?it/s]"
     ]
    },
    {
     "name": "stdout",
     "output_type": "stream",
     "text": [
      "(21285, 25) ----- (5232, 25)\n",
      "(21262, 25) ----- (5255, 25)\n",
      "(21286, 25) ----- (5231, 25)\n",
      "(20950, 25) ----- (5567, 25)\n",
      "(21285, 25) ----- (5232, 25)\n"
     ]
    },
    {
     "name": "stderr",
     "output_type": "stream",
     "text": [
      " 50%|█████     | 1/2 [00:20<00:20, 20.82s/it]"
     ]
    },
    {
     "name": "stdout",
     "output_type": "stream",
     "text": [
      "(21285, 25) ----- (5232, 25)\n",
      "(21262, 25) ----- (5255, 25)\n",
      "(21286, 25) ----- (5231, 25)\n",
      "(20950, 25) ----- (5567, 25)\n",
      "(21285, 25) ----- (5232, 25)\n"
     ]
    },
    {
     "name": "stderr",
     "output_type": "stream",
     "text": [
      "100%|██████████| 2/2 [00:41<00:00, 20.87s/it]\n"
     ]
    },
    {
     "data": {
      "text/html": [
       "<div>\n",
       "<style scoped>\n",
       "    .dataframe tbody tr th:only-of-type {\n",
       "        vertical-align: middle;\n",
       "    }\n",
       "\n",
       "    .dataframe tbody tr th {\n",
       "        vertical-align: top;\n",
       "    }\n",
       "\n",
       "    .dataframe thead th {\n",
       "        text-align: right;\n",
       "    }\n",
       "</style>\n",
       "<table border=\"1\" class=\"dataframe\">\n",
       "  <thead>\n",
       "    <tr style=\"text-align: right;\">\n",
       "      <th></th>\n",
       "      <th>Algorithm</th>\n",
       "      <th>Mean of MAE</th>\n",
       "      <th>Std of MAE</th>\n",
       "    </tr>\n",
       "  </thead>\n",
       "  <tbody>\n",
       "    <tr>\n",
       "      <th>1</th>\n",
       "      <td>XGBoost</td>\n",
       "      <td>491.21</td>\n",
       "      <td>491.21</td>\n",
       "    </tr>\n",
       "    <tr>\n",
       "      <th>0</th>\n",
       "      <td>CatBoost</td>\n",
       "      <td>444.83</td>\n",
       "      <td>444.83</td>\n",
       "    </tr>\n",
       "  </tbody>\n",
       "</table>\n",
       "</div>"
      ],
      "text/plain": [
       "  Algorithm  Mean of MAE  Std of MAE\n",
       "1   XGBoost       491.21      491.21\n",
       "0  CatBoost       444.83      444.83"
      ]
     },
     "execution_count": 26,
     "metadata": {},
     "output_type": "execute_result"
    }
   ],
   "source": [
    "scores = []\n",
    "names = []\n",
    "models = []\n",
    "\n",
    "#tscv = TimeSeriesSplit(n_splits=5)\n",
    "group_kfold = GroupKFold(n_splits=5)\n",
    "#models.append(('Linear Regression', LinearRegression()))\n",
    "#models.append(('Decision Tree', DecisionTreeRegressor(random_state = 0)))\n",
    "#models.append(('Random Forest', RandomForestRegressor(random_state=0)))\n",
    "models.append(('CatBoost', CatBoostRegressor(random_state= 0, verbose = 0)))\n",
    "models.append(('XGBoost', XGBRegressor(random_state= 0, verbosity = 0)))\n",
    "\n",
    "col = ['Algorithm','Mean of MAE', 'Std of MAE']\n",
    "model_results = pd.DataFrame(columns=col)\n",
    "\n",
    "i = 0\n",
    "\n",
    "for name, model in tqdm(models):    \n",
    "\n",
    "    mae_results = []\n",
    "\n",
    "    #scores = []\n",
    "    #for train_idx, test_idx in tscv.split(X,y):\n",
    "    for train_idx, test_idx in group_kfold.split(X,y,X['day']):\n",
    "        \n",
    "        X_train, X_test = X.iloc[train_idx], X.iloc[test_idx]\n",
    "        y_train, y_test = y.iloc[train_idx], y.iloc[test_idx]\n",
    "        \n",
    "        print(X_train.shape,\"-----\", X_test.shape)\n",
    "        \n",
    "        \n",
    "        model.fit(X_train, y_train)\n",
    "        y_pred = model.predict(X_test)\n",
    "        \n",
    "        mae = mean_absolute_error(y_test, y_pred)\n",
    "        \n",
    "        mae_results.append(mae)\n",
    "        \n",
    "    names.append(name)    \n",
    "    scores.append(mae_results)\n",
    "    model_results.loc[i] = [name,\n",
    "                            round(np.mean(mae_results), 2),\n",
    "                            round(np.mean(mae_results), 2)]\n",
    "    i += 1\n",
    "\n",
    "model_results.sort_values(by=['Mean of MAE'], ascending=False)"
   ]
  },
  {
   "cell_type": "code",
   "execution_count": 27,
   "id": "governing-acoustic",
   "metadata": {
    "scrolled": false
   },
   "outputs": [
    {
     "data": {
      "image/png": "[encoded data removed]",
      "text/plain": [
       "<Figure size 1080x504 with 1 Axes>"
      ]
     },
     "metadata": {
      "needs_background": "light"
     },
     "output_type": "display_data"
    }
   ],
   "source": [
    "fig = plt.figure(figsize=(15, 7))\n",
    "ax = fig.add_subplot(111)\n",
    "plt.boxplot(scores)\n",
    "ax.set_xticklabels(names)\n",
    "\n",
    "plt.title('Porownanie metryki MAE pomiedzy modelami, gdzie cechami sa same daty \\n',horizontalalignment=\"center\", fontstyle = \"normal\", fontsize = \"22\", fontfamily = \"sans-serif\")\n",
    "plt.xticks(rotation=0, horizontalalignment=\"center\")\n",
    "plt.yticks(rotation=0, horizontalalignment=\"right\")\n",
    "plt.show()"
   ]
  },
  {
   "cell_type": "markdown",
   "id": "isolated-employer",
   "metadata": {},
   "source": [
    "## Hyperopt"
   ]
  },
  {
   "cell_type": "code",
   "execution_count": 45,
   "id": "becoming-airplane",
   "metadata": {},
   "outputs": [],
   "source": [
    "feats = [col for col in df_all_statistics.columns if col not in ('id','date','value','dayofyear_1d','group_std_hour_dayofweek',)]\n",
    "#                                                                  'quarter', 'is_quarter_start', 'is_month_start','is_month_end',\n",
    "#                                                                  'is_year_end')]"
   ]
  },
  {
   "cell_type": "code",
   "execution_count": 46,
   "id": "amended-oklahoma",
   "metadata": {},
   "outputs": [],
   "source": [
    "X = df_train.drop(['value'],axis = 1)[feats]\n",
    "y = df_train['value']\n",
    "X_test = df_test[feats].values"
   ]
  },
  {
   "cell_type": "code",
   "execution_count": 47,
   "id": "amazing-stocks",
   "metadata": {},
   "outputs": [],
   "source": [
    "def run_model(model,X,y):\n",
    "    group_kfold = GroupKFold(n_splits=5)\n",
    "    mae_results = []    \n",
    "    for train_idx, test_idx in group_kfold.split(X,y,X['day']):\n",
    "        X_train, X_test = X.iloc[train_idx], X.iloc[test_idx]\n",
    "        y_train, y_test = y.iloc[train_idx], y.iloc[test_idx]\n",
    "\n",
    "\n",
    "        model.fit(X_train, y_train)\n",
    "        y_pred = model.predict(X_test)\n",
    "\n",
    "        mae = mean_absolute_error(y_test, y_pred)\n",
    "        mae_results.append(mae)\n",
    "        \n",
    "        \n",
    "    return np.mean(mae_results)"
   ]
  },
  {
   "cell_type": "code",
   "execution_count": 48,
   "id": "early-baltimore",
   "metadata": {},
   "outputs": [],
   "source": [
    "def obj_func(params):\n",
    "    print(params)\n",
    "    \n",
    "    mae_score = run_model(XGBRegressor(**params),X,y)\n",
    "    \n",
    "    return{'loss': mae_score, 'status': STATUS_OK}"
   ]
  },
  {
   "cell_type": "markdown",
   "id": "graphic-bruce",
   "metadata": {},
   "source": [
    "### XGBoost"
   ]
  },
  {
   "cell_type": "code",
   "execution_count": 29,
   "id": "amino-peripheral",
   "metadata": {
    "scrolled": true
   },
   "outputs": [],
   "source": [
    "xgb_reg_params = {\n",
    "'learning_rate':     hp.choice('learning_rate',          np.arange(0.01,0.1,0.01)),\n",
    "'max_depth':         hp.choice(\"max_depth\",              np.arange(4,8,1,dtype = int)),\n",
    "'colsample_bytree':  hp.uniform ('x_colsample_bytree', 0.8, 1.),\n",
    "'subsample': hp.uniform ('x_subsample', 0.7, 1.),\n",
    "'n_estimators': 120,\n",
    "'verbosity': 0,\n",
    "'seed': 0\n",
    "}\n",
    "best = fmin(obj_func,xgb_reg_params,algo = tpe.suggest,max_evals = 20)"
   ]
  },
  {
   "cell_type": "code",
   "execution_count": null,
   "id": "compound-jacksonville",
   "metadata": {},
   "outputs": [],
   "source": [
    "space_eval(xgb_reg_params,best)"
   ]
  },
  {
   "cell_type": "markdown",
   "id": "frequent-project",
   "metadata": {},
   "source": [
    "### CatBoost"
   ]
  },
  {
   "cell_type": "code",
   "execution_count": 54,
   "id": "floating-complement",
   "metadata": {},
   "outputs": [],
   "source": [
    "def obj_func(params):\n",
    "    print(params)\n",
    "    \n",
    "    mae_score = run_model(CatBoostRegressor(**params),X,y)\n",
    "    \n",
    "    return{'loss': mae_score, 'status': STATUS_OK}"
   ]
  },
  {
   "cell_type": "code",
   "execution_count": 55,
   "id": "champion-thousand",
   "metadata": {},
   "outputs": [
    {
     "name": "stdout",
     "output_type": "stream",
     "text": [
      "{'learning_rate': 0.01, 'max_depth': 4, 'verbose': False}\n",
      "{'learning_rate': 0.03, 'max_depth': 8, 'verbose': False}                      \n",
      "{'learning_rate': 0.01, 'max_depth': 7, 'verbose': False}                      \n",
      "{'learning_rate': 0.05, 'max_depth': 10, 'verbose': False}                     \n",
      "{'learning_rate': 0.09, 'max_depth': 8, 'verbose': False}                      \n",
      "{'learning_rate': 0.01, 'max_depth': 11, 'verbose': False}                     \n",
      "{'learning_rate': 0.03, 'max_depth': 5, 'verbose': False}                      \n",
      "{'learning_rate': 0.04, 'max_depth': 11, 'verbose': False}                     \n",
      "{'learning_rate': 0.03, 'max_depth': 9, 'verbose': False}                      \n",
      "{'learning_rate': 0.06999999999999999, 'max_depth': 4, 'verbose': False}       \n",
      "{'learning_rate': 0.060000000000000005, 'max_depth': 11, 'verbose': False}      \n",
      "{'learning_rate': 0.09, 'max_depth': 7, 'verbose': False}                       \n",
      "{'learning_rate': 0.03, 'max_depth': 7, 'verbose': False}                       \n",
      "{'learning_rate': 0.02, 'max_depth': 7, 'verbose': False}                       \n",
      "{'learning_rate': 0.05, 'max_depth': 4, 'verbose': False}                       \n",
      "{'learning_rate': 0.03, 'max_depth': 5, 'verbose': False}                       \n",
      "{'learning_rate': 0.05, 'max_depth': 6, 'verbose': False}                       \n",
      "{'learning_rate': 0.08, 'max_depth': 8, 'verbose': False}                       \n",
      "{'learning_rate': 0.08, 'max_depth': 5, 'verbose': False}                       \n",
      "{'learning_rate': 0.03, 'max_depth': 6, 'verbose': False}                       \n",
      "100%|██████████| 20/20 [08:09<00:00, 24.46s/trial, best loss: 455.7263261074813]\n"
     ]
    }
   ],
   "source": [
    "ctb_reg_params = {\n",
    "'learning_rate':     hp.choice('learning_rate',          np.arange(0.01,0.1,0.01)),\n",
    "'max_depth':         hp.choice(\"max_depth\",              np.arange(4,12,1,dtype = int)),\n",
    "'verbose': False\n",
    "}\n",
    "best = fmin(obj_func,ctb_reg_params,algo = tpe.suggest,max_evals = 20)"
   ]
  },
  {
   "cell_type": "code",
   "execution_count": 56,
   "id": "french-enemy",
   "metadata": {},
   "outputs": [
    {
     "data": {
      "text/plain": [
       "{'learning_rate': 0.060000000000000005, 'max_depth': 11, 'verbose': False}"
      ]
     },
     "execution_count": 56,
     "metadata": {},
     "output_type": "execute_result"
    }
   ],
   "source": [
    "space_eval(ctb_reg_params,best) ## 441.603635812428"
   ]
  },
  {
   "cell_type": "markdown",
   "id": "alone-broadway",
   "metadata": {},
   "source": [
    "## Predykcja"
   ]
  },
  {
   "cell_type": "code",
   "execution_count": 62,
   "id": "saving-procedure",
   "metadata": {},
   "outputs": [],
   "source": [
    "X = df_train.drop(['value'],axis = 1)[feats]\n",
    "y = df_train['value']\n",
    "X_test = df_test[feats].values"
   ]
  },
  {
   "cell_type": "code",
   "execution_count": 28,
   "id": "dangerous-aaron",
   "metadata": {
    "scrolled": true
   },
   "outputs": [],
   "source": [
    "model = CatBoostRegressor(learning_rate = 0.05,max_depth = 7,loss_function = \"MAE\",n_estimators= 40000)\n",
    "model.fit(X, y)\n",
    "df_test[\"value\"] = model.predict(X_test)"
   ]
  },
  {
   "cell_type": "code",
   "execution_count": null,
   "id": "laden-canon",
   "metadata": {},
   "outputs": [],
   "source": [
    "# model = XGBRegressor(learning_rate = ,max_depth = ,colsample_bytree = ,\n",
    "#                     subsample = ,n_estimators = 120)\n",
    "# model.fit(X_train, y_train)\n",
    "# df_test[\"value\"] = model.predict(X_test)"
   ]
  },
  {
   "cell_type": "markdown",
   "id": "single-peoples",
   "metadata": {},
   "source": [
    "## ✔️ Zapisujemy wynik i dodajemy na Kaggle"
   ]
  },
  {
   "cell_type": "code",
   "execution_count": 64,
   "id": "descending-boutique",
   "metadata": {},
   "outputs": [],
   "source": [
    "df_test[ [\"id\", \"value\"] ].to_csv(\"../output/CatBoostLateSubmission.csv\", index=False)"
   ]
  },
  {
   "cell_type": "markdown",
   "id": "smart-criminal",
   "metadata": {},
   "source": [
    "Notatki Live, po testach:\n",
    "- Model podstawowy uzyskał średni błąd na Kaggle: 2695.06438\n",
    "- Model catboost (bez żadnych argumentów), wytrenowany na podstawie cech z daty uzyskał średni błąd na Kaggle: 440.88227\n",
    "- Model catboost (bez żadnych argumentów), wytrenowany na podstawie cech z daty i sredniej/std/sum uzyskal sredni blad na Kaggle: 464\n",
    "- Model catboost (bez żadnych argumentów), wytrenowany na podstawie cech z daty, statystyk i przesunietych wartosci uzyskał średni błąd na Kaggle: 440\n",
    "- Model XGBoost (bez żadnych argumentów), wytrenowany na podstawie cech z daty, statystyk i przesunietych wartosci uzyskał średni błąd na Kaggle: 465.93"
   ]
  }
 ],
 "metadata": {
  "kernelspec": {
   "display_name": "Python 3",
   "language": "python",
   "name": "python3"
  },
  "language_info": {
   "codemirror_mode": {
    "name": "ipython",
    "version": 3
   },
   "file_extension": ".py",
   "mimetype": "text/x-python",
   "name": "python",
   "nbconvert_exporter": "python",
   "pygments_lexer": "ipython3",
   "version": "3.8.6"
  }
 },
 "nbformat": 4,
 "nbformat_minor": 5
}
