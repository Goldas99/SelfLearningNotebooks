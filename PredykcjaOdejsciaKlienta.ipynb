{
 "cells": [
  {
   "cell_type": "markdown",
   "metadata": {},
   "source": [
    "## Wstęp, opis podejścia do problemu"
   ]
  },
  {
   "cell_type": "markdown",
   "metadata": {},
   "source": [
    "Witam, poniższy notebook zawiera predykcje czy klient zrezygnuje z usługi, czy nie. Jest to powszechnie znany problem klasyfikacji binarnej, wraz z niezbalansowanymi klasami.Zbior treningowy zostal uzyty jako zarowno zbior treningowy jak i walidacyjny, finalne predykcje zostaly przeprowadzone na danych testowych. Wyprobowalem nastepujace algorytmy: KNN, Regresja Logistyczna, XGBoost, Random Forest, Decision Tree oraz Naive Bayes. Najlepsze wyniki udało się uzyskac przy XGBoost oraz regresji Logistycznej. Zdecydowałem się zoptymalizować model XGBoost, jednak w dalszych pracach wskazane byłoby zoptymalizowac inne modele, zaczynajac od modelu Regresji Logistycznej.  \n",
    "<br> <b>Celem </b> bylo zbudowanie <b> prototypu </b>, przedstawienie podejscia do problemu oraz zaprezentowanie znajomosci modeli/narzedzi/bibliotek tj. XGBoost, hyperopt, Eli5 oraz zaproponowane we wnioskach H2O. Podczas realizacji zadania skupiłem się na najważniejszych aspektach z punktu widzenia Data Science. We wnioskach zaproponowałem możliwe udoskonalenia oraz eksperymenty, które mogą wpłynąć na końcowy rezultat."
   ]
  },
  {
   "cell_type": "markdown",
   "metadata": {},
   "source": [
    "### Import bibliotek"
   ]
  },
  {
   "cell_type": "code",
   "execution_count": 41,
   "metadata": {},
   "outputs": [],
   "source": [
    "# Podstawowe biblioteki\n",
    "import numpy as np\n",
    "import matplotlib.pyplot as plt\n",
    "import pandas as pd\n",
    "from scipy import stats\n",
    "\n",
    "# Przygotowanie danych\n",
    "from sklearn.preprocessing import StandardScaler,MinMaxScaler\n",
    "\n",
    "# Modele\n",
    "from sklearn.neighbors import KNeighborsClassifier\n",
    "from xgboost import XGBClassifier\n",
    "from sklearn.linear_model import LogisticRegression\n",
    "from sklearn.neighbors import KNeighborsClassifier\n",
    "from sklearn.naive_bayes import GaussianNB\n",
    "from sklearn.tree import DecisionTreeClassifier\n",
    "from sklearn.ensemble import RandomForestClassifier\n",
    "\n",
    "# Poprawa Modelu \n",
    "from sklearn.metrics import confusion_matrix, accuracy_score \n",
    "from sklearn.metrics import f1_score, precision_score, recall_score\n",
    "from statsmodels.stats.outliers_influence import variance_inflation_factor\n",
    "from sklearn.model_selection import cross_val_score\n",
    "from sklearn.model_selection import StratifiedKFold\n",
    "\n",
    "# Wizualizacja\n",
    "import seaborn as sns\n",
    "from matplotlib import pyplot\n",
    "import matplotlib.pyplot as plt\n",
    "import matplotlib.pylab as pylab\n",
    "import matplotlib \n",
    "%matplotlib inline\n",
    "color = sns.color_palette()\n",
    "import matplotlib.ticker as mtick\n",
    "from IPython.display import display\n",
    "pd.options.display.max_columns = None\n",
    "from pandas.plotting import scatter_matrix\n",
    "\n",
    "# Utilities\n",
    "import os\n",
    "import re\n",
    "import sys\n",
    "import string\n",
    "import time\n",
    "from datetime import datetime\n",
    "from time import time\n",
    "from scipy.stats import pointbiserialr\n",
    "from tqdm import tqdm\n",
    "import eli5\n",
    "from eli5.sklearn import PermutationImportance\n",
    "from hyperopt import hp, fmin, tpe, STATUS_OK, space_eval"
   ]
  },
  {
   "cell_type": "markdown",
   "metadata": {},
   "source": [
    "### Import danych"
   ]
  },
  {
   "cell_type": "code",
   "execution_count": 42,
   "metadata": {},
   "outputs": [],
   "source": [
    "df_train = pd.read_csv('ZADANIE_CHURN_TRAIN_V1.csv')\n",
    "df_test = pd.read_csv('ZADANIE_CHURN_TEST_V1.csv')"
   ]
  },
  {
   "cell_type": "markdown",
   "metadata": {},
   "source": [
    "### Spojrzenie na dane"
   ]
  },
  {
   "cell_type": "code",
   "execution_count": 43,
   "metadata": {
    "scrolled": true
   },
   "outputs": [
    {
     "data": {
      "text/html": [
       "<div>\n",
       "<style scoped>\n",
       "    .dataframe tbody tr th:only-of-type {\n",
       "        vertical-align: middle;\n",
       "    }\n",
       "\n",
       "    .dataframe tbody tr th {\n",
       "        vertical-align: top;\n",
       "    }\n",
       "\n",
       "    .dataframe thead th {\n",
       "        text-align: right;\n",
       "    }\n",
       "</style>\n",
       "<table border=\"1\" class=\"dataframe\">\n",
       "  <thead>\n",
       "    <tr style=\"text-align: right;\">\n",
       "      <th></th>\n",
       "      <th>KLIENT_ID</th>\n",
       "      <th>Churn</th>\n",
       "      <th>reve_msc</th>\n",
       "      <th>liczba_min_msc</th>\n",
       "      <th>commitment_msc</th>\n",
       "      <th>roaming_calls</th>\n",
       "      <th>procentowa_zmiana_min</th>\n",
       "      <th>procentowa_zmiana_reve</th>\n",
       "      <th>dropped_calls</th>\n",
       "      <th>polaczenia_nieodebrane</th>\n",
       "      <th>rozmowy_obs_kli_ilosc</th>\n",
       "      <th>usage_data_MB</th>\n",
       "      <th>liczba_polaczen_out</th>\n",
       "      <th>liczba_polaczen_in</th>\n",
       "      <th>staz_klienta</th>\n",
       "      <th>liczba_msc_do_konca_umowy</th>\n",
       "      <th>liczba_kontrakow</th>\n",
       "      <th>liczba_kontrakow_do_utrzymania</th>\n",
       "      <th>CODE</th>\n",
       "      <th>rodzaj_terminala</th>\n",
       "      <th>ile_dni_kli_ma_obecny_terminal</th>\n",
       "      <th>wiek_klienta</th>\n",
       "      <th>czy_klient_kupowal_na_raty</th>\n",
       "      <th>czy_klient_ma_oferte_SIM_only</th>\n",
       "      <th>czy_klient_ma_zgode_na_kontakt</th>\n",
       "      <th>czy_klient_skladal_reklamacje</th>\n",
       "      <th>czy_klient_byl_windykowany</th>\n",
       "      <th>telefon_utrzymaniowy</th>\n",
       "      <th>akceptacja_oferty_utrzymaniowej</th>\n",
       "      <th>credit_scoring</th>\n",
       "      <th>data_ostatniej_interakcji</th>\n",
       "    </tr>\n",
       "  </thead>\n",
       "  <tbody>\n",
       "    <tr>\n",
       "      <th>33403</th>\n",
       "      <td>33404</td>\n",
       "      <td>TAK</td>\n",
       "      <td>105.94</td>\n",
       "      <td>1142.0</td>\n",
       "      <td>56.0</td>\n",
       "      <td>21.0</td>\n",
       "      <td>446.0</td>\n",
       "      <td>62.6</td>\n",
       "      <td>4.0</td>\n",
       "      <td>87.3</td>\n",
       "      <td>0</td>\n",
       "      <td>10345</td>\n",
       "      <td>35</td>\n",
       "      <td>50</td>\n",
       "      <td>12</td>\n",
       "      <td>1</td>\n",
       "      <td>1</td>\n",
       "      <td>1</td>\n",
       "      <td>913</td>\n",
       "      <td>0</td>\n",
       "      <td>113.0</td>\n",
       "      <td>38.0</td>\n",
       "      <td>TAK</td>\n",
       "      <td>TAK</td>\n",
       "      <td>NIE</td>\n",
       "      <td>NIE</td>\n",
       "      <td>NIE</td>\n",
       "      <td>1</td>\n",
       "      <td>0</td>\n",
       "      <td>2</td>\n",
       "      <td>2021-09-12</td>\n",
       "    </tr>\n",
       "    <tr>\n",
       "      <th>6391</th>\n",
       "      <td>6392</td>\n",
       "      <td>NIE</td>\n",
       "      <td>75.21</td>\n",
       "      <td>721.0</td>\n",
       "      <td>62.0</td>\n",
       "      <td>10.0</td>\n",
       "      <td>50.0</td>\n",
       "      <td>-11.3</td>\n",
       "      <td>1.0</td>\n",
       "      <td>39.7</td>\n",
       "      <td>3</td>\n",
       "      <td>23625</td>\n",
       "      <td>93</td>\n",
       "      <td>18</td>\n",
       "      <td>15</td>\n",
       "      <td>1</td>\n",
       "      <td>1</td>\n",
       "      <td>1</td>\n",
       "      <td>639</td>\n",
       "      <td>2</td>\n",
       "      <td>188.0</td>\n",
       "      <td>38.0</td>\n",
       "      <td>NIE</td>\n",
       "      <td>NIE</td>\n",
       "      <td>NIE</td>\n",
       "      <td>NIE</td>\n",
       "      <td>NIE</td>\n",
       "      <td>1</td>\n",
       "      <td>1</td>\n",
       "      <td>1</td>\n",
       "      <td>2021-12-31</td>\n",
       "    </tr>\n",
       "    <tr>\n",
       "      <th>13316</th>\n",
       "      <td>13317</td>\n",
       "      <td>TAK</td>\n",
       "      <td>137.84</td>\n",
       "      <td>78.0</td>\n",
       "      <td>134.0</td>\n",
       "      <td>16.0</td>\n",
       "      <td>-28.0</td>\n",
       "      <td>25.4</td>\n",
       "      <td>1.3</td>\n",
       "      <td>9.3</td>\n",
       "      <td>0</td>\n",
       "      <td>163</td>\n",
       "      <td>15</td>\n",
       "      <td>4</td>\n",
       "      <td>18</td>\n",
       "      <td>3</td>\n",
       "      <td>2</td>\n",
       "      <td>2</td>\n",
       "      <td>865</td>\n",
       "      <td>1</td>\n",
       "      <td>709.0</td>\n",
       "      <td>35.0</td>\n",
       "      <td>NIE</td>\n",
       "      <td>NIE</td>\n",
       "      <td>NIE</td>\n",
       "      <td>NIE</td>\n",
       "      <td>NIE</td>\n",
       "      <td>0</td>\n",
       "      <td>0</td>\n",
       "      <td>1</td>\n",
       "      <td>2021-12-25</td>\n",
       "    </tr>\n",
       "    <tr>\n",
       "      <th>8461</th>\n",
       "      <td>8462</td>\n",
       "      <td>NIE</td>\n",
       "      <td>29.99</td>\n",
       "      <td>17.0</td>\n",
       "      <td>30.0</td>\n",
       "      <td>0.0</td>\n",
       "      <td>5.0</td>\n",
       "      <td>0.0</td>\n",
       "      <td>0.0</td>\n",
       "      <td>1.3</td>\n",
       "      <td>0</td>\n",
       "      <td>5441</td>\n",
       "      <td>0</td>\n",
       "      <td>0</td>\n",
       "      <td>11</td>\n",
       "      <td>1</td>\n",
       "      <td>1</td>\n",
       "      <td>1</td>\n",
       "      <td>1192</td>\n",
       "      <td>0</td>\n",
       "      <td>826.0</td>\n",
       "      <td>35.0</td>\n",
       "      <td>NIE</td>\n",
       "      <td>NIE</td>\n",
       "      <td>TAK</td>\n",
       "      <td>TAK</td>\n",
       "      <td>NIE</td>\n",
       "      <td>0</td>\n",
       "      <td>0</td>\n",
       "      <td>1</td>\n",
       "      <td>2021-09-25</td>\n",
       "    </tr>\n",
       "    <tr>\n",
       "      <th>47380</th>\n",
       "      <td>47381</td>\n",
       "      <td>NIE</td>\n",
       "      <td>92.70</td>\n",
       "      <td>742.0</td>\n",
       "      <td>37.0</td>\n",
       "      <td>150.0</td>\n",
       "      <td>-742.0</td>\n",
       "      <td>-127.8</td>\n",
       "      <td>51.3</td>\n",
       "      <td>77.7</td>\n",
       "      <td>15</td>\n",
       "      <td>4458</td>\n",
       "      <td>76</td>\n",
       "      <td>29</td>\n",
       "      <td>2</td>\n",
       "      <td>1</td>\n",
       "      <td>1</td>\n",
       "      <td>1</td>\n",
       "      <td>262</td>\n",
       "      <td>0</td>\n",
       "      <td>97.0</td>\n",
       "      <td>35.0</td>\n",
       "      <td>NIE</td>\n",
       "      <td>TAK</td>\n",
       "      <td>NIE</td>\n",
       "      <td>NIE</td>\n",
       "      <td>NIE</td>\n",
       "      <td>0</td>\n",
       "      <td>0</td>\n",
       "      <td>5</td>\n",
       "      <td>2021-12-22</td>\n",
       "    </tr>\n",
       "  </tbody>\n",
       "</table>\n",
       "</div>"
      ],
      "text/plain": [
       "       KLIENT_ID Churn  reve_msc  liczba_min_msc  commitment_msc  \\\n",
       "33403      33404   TAK    105.94          1142.0            56.0   \n",
       "6391        6392   NIE     75.21           721.0            62.0   \n",
       "13316      13317   TAK    137.84            78.0           134.0   \n",
       "8461        8462   NIE     29.99            17.0            30.0   \n",
       "47380      47381   NIE     92.70           742.0            37.0   \n",
       "\n",
       "       roaming_calls  procentowa_zmiana_min  procentowa_zmiana_reve  \\\n",
       "33403           21.0                  446.0                    62.6   \n",
       "6391            10.0                   50.0                   -11.3   \n",
       "13316           16.0                  -28.0                    25.4   \n",
       "8461             0.0                    5.0                     0.0   \n",
       "47380          150.0                 -742.0                  -127.8   \n",
       "\n",
       "       dropped_calls  polaczenia_nieodebrane  rozmowy_obs_kli_ilosc  \\\n",
       "33403            4.0                    87.3                      0   \n",
       "6391             1.0                    39.7                      3   \n",
       "13316            1.3                     9.3                      0   \n",
       "8461             0.0                     1.3                      0   \n",
       "47380           51.3                    77.7                     15   \n",
       "\n",
       "       usage_data_MB  liczba_polaczen_out  liczba_polaczen_in  staz_klienta  \\\n",
       "33403          10345                   35                  50            12   \n",
       "6391           23625                   93                  18            15   \n",
       "13316            163                   15                   4            18   \n",
       "8461            5441                    0                   0            11   \n",
       "47380           4458                   76                  29             2   \n",
       "\n",
       "       liczba_msc_do_konca_umowy  liczba_kontrakow  \\\n",
       "33403                          1                 1   \n",
       "6391                           1                 1   \n",
       "13316                          3                 2   \n",
       "8461                           1                 1   \n",
       "47380                          1                 1   \n",
       "\n",
       "       liczba_kontrakow_do_utrzymania  CODE  rodzaj_terminala  \\\n",
       "33403                               1   913                 0   \n",
       "6391                                1   639                 2   \n",
       "13316                               2   865                 1   \n",
       "8461                                1  1192                 0   \n",
       "47380                               1   262                 0   \n",
       "\n",
       "       ile_dni_kli_ma_obecny_terminal  wiek_klienta  \\\n",
       "33403                           113.0          38.0   \n",
       "6391                            188.0          38.0   \n",
       "13316                           709.0          35.0   \n",
       "8461                            826.0          35.0   \n",
       "47380                            97.0          35.0   \n",
       "\n",
       "      czy_klient_kupowal_na_raty czy_klient_ma_oferte_SIM_only  \\\n",
       "33403                        TAK                           TAK   \n",
       "6391                         NIE                           NIE   \n",
       "13316                        NIE                           NIE   \n",
       "8461                         NIE                           NIE   \n",
       "47380                        NIE                           TAK   \n",
       "\n",
       "      czy_klient_ma_zgode_na_kontakt czy_klient_skladal_reklamacje  \\\n",
       "33403                            NIE                           NIE   \n",
       "6391                             NIE                           NIE   \n",
       "13316                            NIE                           NIE   \n",
       "8461                             TAK                           TAK   \n",
       "47380                            NIE                           NIE   \n",
       "\n",
       "      czy_klient_byl_windykowany  telefon_utrzymaniowy  \\\n",
       "33403                        NIE                     1   \n",
       "6391                         NIE                     1   \n",
       "13316                        NIE                     0   \n",
       "8461                         NIE                     0   \n",
       "47380                        NIE                     0   \n",
       "\n",
       "       akceptacja_oferty_utrzymaniowej  credit_scoring  \\\n",
       "33403                                0               2   \n",
       "6391                                 1               1   \n",
       "13316                                0               1   \n",
       "8461                                 0               1   \n",
       "47380                                0               5   \n",
       "\n",
       "      data_ostatniej_interakcji  \n",
       "33403                2021-09-12  \n",
       "6391                 2021-12-31  \n",
       "13316                2021-12-25  \n",
       "8461                 2021-09-25  \n",
       "47380                2021-12-22  "
      ]
     },
     "execution_count": 43,
     "metadata": {},
     "output_type": "execute_result"
    }
   ],
   "source": [
    "df_train.sample(5)"
   ]
  },
  {
   "cell_type": "code",
   "execution_count": 44,
   "metadata": {
    "scrolled": false
   },
   "outputs": [
    {
     "data": {
      "text/html": [
       "<div>\n",
       "<style scoped>\n",
       "    .dataframe tbody tr th:only-of-type {\n",
       "        vertical-align: middle;\n",
       "    }\n",
       "\n",
       "    .dataframe tbody tr th {\n",
       "        vertical-align: top;\n",
       "    }\n",
       "\n",
       "    .dataframe thead th {\n",
       "        text-align: right;\n",
       "    }\n",
       "</style>\n",
       "<table border=\"1\" class=\"dataframe\">\n",
       "  <thead>\n",
       "    <tr style=\"text-align: right;\">\n",
       "      <th></th>\n",
       "      <th>count</th>\n",
       "      <th>mean</th>\n",
       "      <th>std</th>\n",
       "      <th>min</th>\n",
       "      <th>25%</th>\n",
       "      <th>50%</th>\n",
       "      <th>75%</th>\n",
       "      <th>max</th>\n",
       "    </tr>\n",
       "  </thead>\n",
       "  <tbody>\n",
       "    <tr>\n",
       "      <th>KLIENT_ID</th>\n",
       "      <td>51047.0</td>\n",
       "      <td>25524.000000</td>\n",
       "      <td>14736.143933</td>\n",
       "      <td>1.00</td>\n",
       "      <td>12762.50</td>\n",
       "      <td>25524.00</td>\n",
       "      <td>38285.500</td>\n",
       "      <td>51047.00</td>\n",
       "    </tr>\n",
       "    <tr>\n",
       "      <th>reve_msc</th>\n",
       "      <td>50891.0</td>\n",
       "      <td>58.834492</td>\n",
       "      <td>44.507336</td>\n",
       "      <td>-6.17</td>\n",
       "      <td>33.61</td>\n",
       "      <td>48.46</td>\n",
       "      <td>71.065</td>\n",
       "      <td>1223.38</td>\n",
       "    </tr>\n",
       "    <tr>\n",
       "      <th>liczba_min_msc</th>\n",
       "      <td>50891.0</td>\n",
       "      <td>525.653416</td>\n",
       "      <td>529.871063</td>\n",
       "      <td>0.00</td>\n",
       "      <td>158.00</td>\n",
       "      <td>366.00</td>\n",
       "      <td>723.000</td>\n",
       "      <td>7359.00</td>\n",
       "    </tr>\n",
       "    <tr>\n",
       "      <th>commitment_msc</th>\n",
       "      <td>50891.0</td>\n",
       "      <td>46.830088</td>\n",
       "      <td>23.848871</td>\n",
       "      <td>-11.00</td>\n",
       "      <td>30.00</td>\n",
       "      <td>45.00</td>\n",
       "      <td>60.000</td>\n",
       "      <td>400.00</td>\n",
       "    </tr>\n",
       "    <tr>\n",
       "      <th>roaming_calls</th>\n",
       "      <td>50891.0</td>\n",
       "      <td>40.027785</td>\n",
       "      <td>96.588076</td>\n",
       "      <td>0.00</td>\n",
       "      <td>0.00</td>\n",
       "      <td>3.00</td>\n",
       "      <td>41.000</td>\n",
       "      <td>4321.00</td>\n",
       "    </tr>\n",
       "    <tr>\n",
       "      <th>procentowa_zmiana_min</th>\n",
       "      <td>50680.0</td>\n",
       "      <td>-11.547908</td>\n",
       "      <td>257.514772</td>\n",
       "      <td>-3875.00</td>\n",
       "      <td>-83.00</td>\n",
       "      <td>-5.00</td>\n",
       "      <td>66.000</td>\n",
       "      <td>5192.00</td>\n",
       "    </tr>\n",
       "    <tr>\n",
       "      <th>procentowa_zmiana_reve</th>\n",
       "      <td>50680.0</td>\n",
       "      <td>-1.191985</td>\n",
       "      <td>39.574915</td>\n",
       "      <td>-1107.70</td>\n",
       "      <td>-7.10</td>\n",
       "      <td>-0.30</td>\n",
       "      <td>1.600</td>\n",
       "      <td>2483.50</td>\n",
       "    </tr>\n",
       "    <tr>\n",
       "      <th>dropped_calls</th>\n",
       "      <td>51047.0</td>\n",
       "      <td>6.011489</td>\n",
       "      <td>9.043955</td>\n",
       "      <td>0.00</td>\n",
       "      <td>0.70</td>\n",
       "      <td>3.00</td>\n",
       "      <td>7.700</td>\n",
       "      <td>221.70</td>\n",
       "    </tr>\n",
       "    <tr>\n",
       "      <th>polaczenia_nieodebrane</th>\n",
       "      <td>51047.0</td>\n",
       "      <td>28.288981</td>\n",
       "      <td>38.876194</td>\n",
       "      <td>0.00</td>\n",
       "      <td>5.30</td>\n",
       "      <td>16.30</td>\n",
       "      <td>36.300</td>\n",
       "      <td>848.70</td>\n",
       "    </tr>\n",
       "    <tr>\n",
       "      <th>rozmowy_obs_kli_ilosc</th>\n",
       "      <td>51047.0</td>\n",
       "      <td>1.860246</td>\n",
       "      <td>5.102843</td>\n",
       "      <td>0.00</td>\n",
       "      <td>0.00</td>\n",
       "      <td>0.00</td>\n",
       "      <td>2.000</td>\n",
       "      <td>327.00</td>\n",
       "    </tr>\n",
       "    <tr>\n",
       "      <th>usage_data_MB</th>\n",
       "      <td>51047.0</td>\n",
       "      <td>7993.563520</td>\n",
       "      <td>6008.787658</td>\n",
       "      <td>0.00</td>\n",
       "      <td>3223.00</td>\n",
       "      <td>6761.00</td>\n",
       "      <td>11517.000</td>\n",
       "      <td>40694.00</td>\n",
       "    </tr>\n",
       "    <tr>\n",
       "      <th>liczba_polaczen_out</th>\n",
       "      <td>51047.0</td>\n",
       "      <td>25.375987</td>\n",
       "      <td>35.210967</td>\n",
       "      <td>0.00</td>\n",
       "      <td>3.00</td>\n",
       "      <td>14.00</td>\n",
       "      <td>34.000</td>\n",
       "      <td>644.00</td>\n",
       "    </tr>\n",
       "    <tr>\n",
       "      <th>liczba_polaczen_in</th>\n",
       "      <td>51047.0</td>\n",
       "      <td>8.170882</td>\n",
       "      <td>16.671551</td>\n",
       "      <td>0.00</td>\n",
       "      <td>0.00</td>\n",
       "      <td>2.00</td>\n",
       "      <td>9.000</td>\n",
       "      <td>519.00</td>\n",
       "    </tr>\n",
       "    <tr>\n",
       "      <th>staz_klienta</th>\n",
       "      <td>51047.0</td>\n",
       "      <td>14.994162</td>\n",
       "      <td>15.060208</td>\n",
       "      <td>0.00</td>\n",
       "      <td>5.00</td>\n",
       "      <td>10.00</td>\n",
       "      <td>20.000</td>\n",
       "      <td>179.00</td>\n",
       "    </tr>\n",
       "    <tr>\n",
       "      <th>liczba_msc_do_konca_umowy</th>\n",
       "      <td>51047.0</td>\n",
       "      <td>1.052187</td>\n",
       "      <td>1.108297</td>\n",
       "      <td>0.00</td>\n",
       "      <td>0.00</td>\n",
       "      <td>1.00</td>\n",
       "      <td>1.000</td>\n",
       "      <td>16.00</td>\n",
       "    </tr>\n",
       "    <tr>\n",
       "      <th>liczba_kontrakow</th>\n",
       "      <td>51047.0</td>\n",
       "      <td>1.532157</td>\n",
       "      <td>1.223384</td>\n",
       "      <td>1.00</td>\n",
       "      <td>1.00</td>\n",
       "      <td>1.00</td>\n",
       "      <td>2.000</td>\n",
       "      <td>196.00</td>\n",
       "    </tr>\n",
       "    <tr>\n",
       "      <th>liczba_kontrakow_do_utrzymania</th>\n",
       "      <td>51047.0</td>\n",
       "      <td>1.354340</td>\n",
       "      <td>0.675477</td>\n",
       "      <td>0.00</td>\n",
       "      <td>1.00</td>\n",
       "      <td>1.00</td>\n",
       "      <td>2.000</td>\n",
       "      <td>53.00</td>\n",
       "    </tr>\n",
       "    <tr>\n",
       "      <th>CODE</th>\n",
       "      <td>51047.0</td>\n",
       "      <td>800.420985</td>\n",
       "      <td>604.373146</td>\n",
       "      <td>0.00</td>\n",
       "      <td>321.00</td>\n",
       "      <td>678.00</td>\n",
       "      <td>1148.000</td>\n",
       "      <td>4187.00</td>\n",
       "    </tr>\n",
       "    <tr>\n",
       "      <th>rodzaj_terminala</th>\n",
       "      <td>51047.0</td>\n",
       "      <td>0.761024</td>\n",
       "      <td>0.703033</td>\n",
       "      <td>0.00</td>\n",
       "      <td>0.00</td>\n",
       "      <td>1.00</td>\n",
       "      <td>1.000</td>\n",
       "      <td>6.00</td>\n",
       "    </tr>\n",
       "    <tr>\n",
       "      <th>ile_dni_kli_ma_obecny_terminal</th>\n",
       "      <td>51046.0</td>\n",
       "      <td>380.545841</td>\n",
       "      <td>253.801982</td>\n",
       "      <td>-5.00</td>\n",
       "      <td>205.00</td>\n",
       "      <td>329.00</td>\n",
       "      <td>515.000</td>\n",
       "      <td>1812.00</td>\n",
       "    </tr>\n",
       "    <tr>\n",
       "      <th>wiek_klienta</th>\n",
       "      <td>50138.0</td>\n",
       "      <td>41.053213</td>\n",
       "      <td>11.176116</td>\n",
       "      <td>18.00</td>\n",
       "      <td>35.00</td>\n",
       "      <td>36.00</td>\n",
       "      <td>48.000</td>\n",
       "      <td>99.00</td>\n",
       "    </tr>\n",
       "    <tr>\n",
       "      <th>telefon_utrzymaniowy</th>\n",
       "      <td>51047.0</td>\n",
       "      <td>0.037201</td>\n",
       "      <td>0.206483</td>\n",
       "      <td>0.00</td>\n",
       "      <td>0.00</td>\n",
       "      <td>0.00</td>\n",
       "      <td>0.000</td>\n",
       "      <td>4.00</td>\n",
       "    </tr>\n",
       "    <tr>\n",
       "      <th>akceptacja_oferty_utrzymaniowej</th>\n",
       "      <td>51047.0</td>\n",
       "      <td>0.018277</td>\n",
       "      <td>0.142458</td>\n",
       "      <td>0.00</td>\n",
       "      <td>0.00</td>\n",
       "      <td>0.00</td>\n",
       "      <td>0.000</td>\n",
       "      <td>3.00</td>\n",
       "    </tr>\n",
       "    <tr>\n",
       "      <th>credit_scoring</th>\n",
       "      <td>51047.0</td>\n",
       "      <td>2.886967</td>\n",
       "      <td>1.583360</td>\n",
       "      <td>1.00</td>\n",
       "      <td>2.00</td>\n",
       "      <td>2.00</td>\n",
       "      <td>4.000</td>\n",
       "      <td>7.00</td>\n",
       "    </tr>\n",
       "  </tbody>\n",
       "</table>\n",
       "</div>"
      ],
      "text/plain": [
       "                                   count          mean           std      min  \\\n",
       "KLIENT_ID                        51047.0  25524.000000  14736.143933     1.00   \n",
       "reve_msc                         50891.0     58.834492     44.507336    -6.17   \n",
       "liczba_min_msc                   50891.0    525.653416    529.871063     0.00   \n",
       "commitment_msc                   50891.0     46.830088     23.848871   -11.00   \n",
       "roaming_calls                    50891.0     40.027785     96.588076     0.00   \n",
       "procentowa_zmiana_min            50680.0    -11.547908    257.514772 -3875.00   \n",
       "procentowa_zmiana_reve           50680.0     -1.191985     39.574915 -1107.70   \n",
       "dropped_calls                    51047.0      6.011489      9.043955     0.00   \n",
       "polaczenia_nieodebrane           51047.0     28.288981     38.876194     0.00   \n",
       "rozmowy_obs_kli_ilosc            51047.0      1.860246      5.102843     0.00   \n",
       "usage_data_MB                    51047.0   7993.563520   6008.787658     0.00   \n",
       "liczba_polaczen_out              51047.0     25.375987     35.210967     0.00   \n",
       "liczba_polaczen_in               51047.0      8.170882     16.671551     0.00   \n",
       "staz_klienta                     51047.0     14.994162     15.060208     0.00   \n",
       "liczba_msc_do_konca_umowy        51047.0      1.052187      1.108297     0.00   \n",
       "liczba_kontrakow                 51047.0      1.532157      1.223384     1.00   \n",
       "liczba_kontrakow_do_utrzymania   51047.0      1.354340      0.675477     0.00   \n",
       "CODE                             51047.0    800.420985    604.373146     0.00   \n",
       "rodzaj_terminala                 51047.0      0.761024      0.703033     0.00   \n",
       "ile_dni_kli_ma_obecny_terminal   51046.0    380.545841    253.801982    -5.00   \n",
       "wiek_klienta                     50138.0     41.053213     11.176116    18.00   \n",
       "telefon_utrzymaniowy             51047.0      0.037201      0.206483     0.00   \n",
       "akceptacja_oferty_utrzymaniowej  51047.0      0.018277      0.142458     0.00   \n",
       "credit_scoring                   51047.0      2.886967      1.583360     1.00   \n",
       "\n",
       "                                      25%       50%        75%       max  \n",
       "KLIENT_ID                        12762.50  25524.00  38285.500  51047.00  \n",
       "reve_msc                            33.61     48.46     71.065   1223.38  \n",
       "liczba_min_msc                     158.00    366.00    723.000   7359.00  \n",
       "commitment_msc                      30.00     45.00     60.000    400.00  \n",
       "roaming_calls                        0.00      3.00     41.000   4321.00  \n",
       "procentowa_zmiana_min              -83.00     -5.00     66.000   5192.00  \n",
       "procentowa_zmiana_reve              -7.10     -0.30      1.600   2483.50  \n",
       "dropped_calls                        0.70      3.00      7.700    221.70  \n",
       "polaczenia_nieodebrane               5.30     16.30     36.300    848.70  \n",
       "rozmowy_obs_kli_ilosc                0.00      0.00      2.000    327.00  \n",
       "usage_data_MB                     3223.00   6761.00  11517.000  40694.00  \n",
       "liczba_polaczen_out                  3.00     14.00     34.000    644.00  \n",
       "liczba_polaczen_in                   0.00      2.00      9.000    519.00  \n",
       "staz_klienta                         5.00     10.00     20.000    179.00  \n",
       "liczba_msc_do_konca_umowy            0.00      1.00      1.000     16.00  \n",
       "liczba_kontrakow                     1.00      1.00      2.000    196.00  \n",
       "liczba_kontrakow_do_utrzymania       1.00      1.00      2.000     53.00  \n",
       "CODE                               321.00    678.00   1148.000   4187.00  \n",
       "rodzaj_terminala                     0.00      1.00      1.000      6.00  \n",
       "ile_dni_kli_ma_obecny_terminal     205.00    329.00    515.000   1812.00  \n",
       "wiek_klienta                        35.00     36.00     48.000     99.00  \n",
       "telefon_utrzymaniowy                 0.00      0.00      0.000      4.00  \n",
       "akceptacja_oferty_utrzymaniowej      0.00      0.00      0.000      3.00  \n",
       "credit_scoring                       2.00      2.00      4.000      7.00  "
      ]
     },
     "execution_count": 44,
     "metadata": {},
     "output_type": "execute_result"
    }
   ],
   "source": [
    "df_train.describe().T"
   ]
  },
  {
   "cell_type": "code",
   "execution_count": 45,
   "metadata": {},
   "outputs": [
    {
     "name": "stdout",
     "output_type": "stream",
     "text": [
      "<class 'pandas.core.frame.DataFrame'>\n",
      "RangeIndex: 51047 entries, 0 to 51046\n",
      "Data columns (total 31 columns):\n",
      " #   Column                           Non-Null Count  Dtype  \n",
      "---  ------                           --------------  -----  \n",
      " 0   KLIENT_ID                        51047 non-null  int64  \n",
      " 1   Churn                            51047 non-null  object \n",
      " 2   reve_msc                         50891 non-null  float64\n",
      " 3   liczba_min_msc                   50891 non-null  float64\n",
      " 4   commitment_msc                   50891 non-null  float64\n",
      " 5   roaming_calls                    50891 non-null  float64\n",
      " 6   procentowa_zmiana_min            50680 non-null  float64\n",
      " 7   procentowa_zmiana_reve           50680 non-null  float64\n",
      " 8   dropped_calls                    51047 non-null  float64\n",
      " 9   polaczenia_nieodebrane           51047 non-null  float64\n",
      " 10  rozmowy_obs_kli_ilosc            51047 non-null  int64  \n",
      " 11  usage_data_MB                    51047 non-null  int64  \n",
      " 12  liczba_polaczen_out              51047 non-null  int64  \n",
      " 13  liczba_polaczen_in               51047 non-null  int64  \n",
      " 14  staz_klienta                     51047 non-null  int64  \n",
      " 15  liczba_msc_do_konca_umowy        51047 non-null  int64  \n",
      " 16  liczba_kontrakow                 51047 non-null  int64  \n",
      " 17  liczba_kontrakow_do_utrzymania   51047 non-null  int64  \n",
      " 18  CODE                             51047 non-null  int64  \n",
      " 19  rodzaj_terminala                 51047 non-null  int64  \n",
      " 20  ile_dni_kli_ma_obecny_terminal   51046 non-null  float64\n",
      " 21  wiek_klienta                     50138 non-null  float64\n",
      " 22  czy_klient_kupowal_na_raty       51047 non-null  object \n",
      " 23  czy_klient_ma_oferte_SIM_only    51047 non-null  object \n",
      " 24  czy_klient_ma_zgode_na_kontakt   51047 non-null  object \n",
      " 25  czy_klient_skladal_reklamacje    51047 non-null  object \n",
      " 26  czy_klient_byl_windykowany       51047 non-null  object \n",
      " 27  telefon_utrzymaniowy             51047 non-null  int64  \n",
      " 28  akceptacja_oferty_utrzymaniowej  51047 non-null  int64  \n",
      " 29  credit_scoring                   51047 non-null  int64  \n",
      " 30  data_ostatniej_interakcji        51047 non-null  object \n",
      "dtypes: float64(10), int64(14), object(7)\n",
      "memory usage: 12.1+ MB\n"
     ]
    }
   ],
   "source": [
    "df_train.info()"
   ]
  },
  {
   "cell_type": "code",
   "execution_count": 46,
   "metadata": {
    "scrolled": false
   },
   "outputs": [
    {
     "name": "stdout",
     "output_type": "stream",
     "text": [
      "<class 'pandas.core.frame.DataFrame'>\n",
      "RangeIndex: 20000 entries, 0 to 19999\n",
      "Data columns (total 30 columns):\n",
      " #   Column                           Non-Null Count  Dtype  \n",
      "---  ------                           --------------  -----  \n",
      " 0   KLIENT_ID                        20000 non-null  int64  \n",
      " 1   reve_msc                         19940 non-null  float64\n",
      " 2   liczba_min_msc                   19940 non-null  float64\n",
      " 3   commitment_msc                   19940 non-null  float64\n",
      " 4   roaming_calls                    19940 non-null  float64\n",
      " 5   procentowa_zmiana_min            19865 non-null  float64\n",
      " 6   procentowa_zmiana_reve           19865 non-null  float64\n",
      " 7   dropped_calls                    20000 non-null  float64\n",
      " 8   polaczenia_nieodebrane           20000 non-null  float64\n",
      " 9   rozmowy_obs_kli_ilosc            20000 non-null  int64  \n",
      " 10  usage_data_MB                    20000 non-null  int64  \n",
      " 11  liczba_polaczen_out              20000 non-null  int64  \n",
      " 12  liczba_polaczen_in               20000 non-null  int64  \n",
      " 13  staz_klienta                     20000 non-null  int64  \n",
      " 14  liczba_msc_do_konca_umowy        20000 non-null  int64  \n",
      " 15  liczba_kontrakow                 20000 non-null  int64  \n",
      " 16  liczba_kontrakow_do_utrzymania   20000 non-null  int64  \n",
      " 17  CODE                             20000 non-null  int64  \n",
      " 18  rodzaj_terminala                 20000 non-null  int64  \n",
      " 19  ile_dni_kli_ma_obecny_terminal   20000 non-null  int64  \n",
      " 20  wiek_klienta                     19665 non-null  float64\n",
      " 21  czy_klient_kupowal_na_raty       20000 non-null  object \n",
      " 22  czy_klient_ma_oferte_SIM_only    20000 non-null  object \n",
      " 23  czy_klient_ma_zgode_na_kontakt   20000 non-null  object \n",
      " 24  czy_klient_skladal_reklamacje    20000 non-null  object \n",
      " 25  czy_klient_byl_windykowany       20000 non-null  object \n",
      " 26  telefon_utrzymaniowy             20000 non-null  int64  \n",
      " 27  akceptacja_oferty_utrzymaniowej  20000 non-null  int64  \n",
      " 28  credit_scoring                   20000 non-null  int64  \n",
      " 29  data_ostatniej_interakcji        20000 non-null  object \n",
      "dtypes: float64(9), int64(15), object(6)\n",
      "memory usage: 4.6+ MB\n"
     ]
    }
   ],
   "source": [
    "df_test.info()"
   ]
  },
  {
   "cell_type": "code",
   "execution_count": 47,
   "metadata": {},
   "outputs": [
    {
     "data": {
      "text/plain": [
       "{int64: ['KLIENT_ID', 'rozmowy_obs_kli_ilosc', 'usage_data_MB', 'liczba_polaczen_out', 'liczba_polaczen_in', 'staz_klienta', 'liczba_msc_do_konca_umowy', 'liczba_kontrakow', 'liczba_kontrakow_do_utrzymania', 'CODE', 'rodzaj_terminala', 'telefon_utrzymaniowy', 'akceptacja_oferty_utrzymaniowej', 'credit_scoring'], float64: ['reve_msc', 'liczba_min_msc', 'commitment_msc', 'roaming_calls', 'procentowa_zmiana_min', 'procentowa_zmiana_reve', 'dropped_calls', 'polaczenia_nieodebrane', 'ile_dni_kli_ma_obecny_terminal', 'wiek_klienta'], object: ['Churn', 'czy_klient_kupowal_na_raty', 'czy_klient_ma_oferte_SIM_only', 'czy_klient_ma_zgode_na_kontakt', 'czy_klient_skladal_reklamacje', 'czy_klient_byl_windykowany', 'data_ostatniej_interakcji']}"
      ]
     },
     "execution_count": 47,
     "metadata": {},
     "output_type": "execute_result"
    }
   ],
   "source": [
    "df_train.columns.to_series().groupby(df_train.dtypes).groups"
   ]
  },
  {
   "cell_type": "markdown",
   "metadata": {},
   "source": [
    "Wnioski:\n",
    "- kolumny numeryczne: reve_msc, commitment_msc, roaming_calls, procentowa_zmiana_min, procentowa_zmiana_reve, ile_dni_kli_ma_obecny_terminal, wiek_klienta maja niekompletne dane, warto zastapic mediana. \n",
    "- typy kolumn: numeryczne, data i binarne. Kategoryjna zmienna: rodzaj terminala,telefon_utrzymaniowy, akceptacja_oferty_utrzymaniowej\n",
    "- niektore nazwy kolumn sa niezrozumiale "
   ]
  },
  {
   "cell_type": "markdown",
   "metadata": {},
   "source": [
    "## EDA"
   ]
  },
  {
   "cell_type": "code",
   "execution_count": 48,
   "metadata": {
    "scrolled": true
   },
   "outputs": [
    {
     "data": {
      "text/plain": [
       "<AxesSubplot:>"
      ]
     },
     "execution_count": 48,
     "metadata": {},
     "output_type": "execute_result"
    },
    {
     "data": {
      "image/png": "[encoded data removed]",
      "text/plain": [
       "<Figure size 432x288 with 1 Axes>"
      ]
     },
     "metadata": {
      "needs_background": "light"
     },
     "output_type": "display_data"
    }
   ],
   "source": [
    "# target niezbalansowany, wiec przy uczeniu mozemy ustawic wagi dla klas i metryka docelowa to F1 score! \n",
    "df_train['Churn'].value_counts().plot(kind = 'bar')"
   ]
  },
  {
   "cell_type": "markdown",
   "metadata": {},
   "source": [
    "#### Transformacja Daty"
   ]
  },
  {
   "cell_type": "code",
   "execution_count": 49,
   "metadata": {},
   "outputs": [],
   "source": [
    "def date_feature_engineering(df):\n",
    "    df['data_ostatniej_interakcji'] = pd.to_datetime(df['data_ostatniej_interakcji'],yearfirst=True)\n",
    "#     df[\"dayofweek\"] = df[\"data_ostatniej_interakcji\"].dt.dayofweek\n",
    "#     df[\"dayofyear\"] = df[\"data_ostatniej_interakcji\"].dt.dayofyear\n",
    "#     df[\"week\"] = df[\"data_ostatniej_interakcji\"].dt.week\n",
    "#     df[\"month\"] = df[\"data_ostatniej_interakcji\"].dt.month\n",
    "#     df[\"quarter\"] = df[\"data_ostatniej_interakcji\"].dt.quarter\n",
    "#     df[\"year\"] = df[\"data_ostatniej_interakcji\"].dt.year\n",
    "    df_final = df.drop(['data_ostatniej_interakcji'],axis = 1)\n",
    "    return df_final"
   ]
  },
  {
   "cell_type": "code",
   "execution_count": 50,
   "metadata": {
    "scrolled": true
   },
   "outputs": [],
   "source": [
    "df_train_date_transformed = date_feature_engineering(df_train)\n",
    "df_test_date_transformed = date_feature_engineering(df_test)"
   ]
  },
  {
   "cell_type": "markdown",
   "metadata": {},
   "source": [
    "#### Zastepowanie Nan'ow mediana"
   ]
  },
  {
   "cell_type": "code",
   "execution_count": 51,
   "metadata": {
    "scrolled": true
   },
   "outputs": [],
   "source": [
    "df_train_na_filled = df_train_date_transformed.fillna(df_train_date_transformed.median())\n",
    "df_test_na_filled = df_test_date_transformed.fillna(df_test_date_transformed.median())"
   ]
  },
  {
   "cell_type": "markdown",
   "metadata": {},
   "source": [
    "#### Zmiana kolumn TAK/NIE na 1/0"
   ]
  },
  {
   "cell_type": "code",
   "execution_count": 52,
   "metadata": {},
   "outputs": [],
   "source": [
    "object_columns = [column for column in df_train_na_filled.columns if df_train_na_filled[column].dtype == 'object']\n",
    "\n",
    "def transformacja_stringow(df,object_columns):\n",
    "    for col in object_columns:\n",
    "        try:\n",
    "            df[col] = df[col].apply(lambda x: 1 if x == 'TAK' else 0)\n",
    "        except:\n",
    "            print(\"There is no column:\", col )\n",
    "    return df"
   ]
  },
  {
   "cell_type": "code",
   "execution_count": 53,
   "metadata": {
    "scrolled": true
   },
   "outputs": [
    {
     "name": "stdout",
     "output_type": "stream",
     "text": [
      "There is no column: Churn\n"
     ]
    }
   ],
   "source": [
    "df_train_string_transformed = transformacja_stringow(df_train_na_filled,object_columns)\n",
    "df_test_string_transformed = transformacja_stringow(df_test_na_filled,object_columns)"
   ]
  },
  {
   "cell_type": "code",
   "execution_count": 54,
   "metadata": {
    "scrolled": false
   },
   "outputs": [
    {
     "name": "stdout",
     "output_type": "stream",
     "text": [
      "P-value for column procentowa_zmiana_reve isn too big and is equal: 0.011730788936117278\n",
      "P-value for column usage_data_MB isn too big and is equal: 0.174833317137826\n",
      "P-value for column CODE isn too big and is equal: 0.10667163022913517\n"
     ]
    },
    {
     "data": {
      "text/plain": [
       "<BarContainer object of 16 artists>"
      ]
     },
     "execution_count": 54,
     "metadata": {},
     "output_type": "execute_result"
    },
    {
     "data": {
      "image/png": "[encoded data removed]",
      "text/plain": [
       "<Figure size 1440x720 with 1 Axes>"
      ]
     },
     "metadata": {
      "needs_background": "light"
     },
     "output_type": "display_data"
    }
   ],
   "source": [
    "# Sprawdzam korelacje pomiedzy targetem (churn), a innymi zmiennymi.\n",
    "# Korelacja point biserial zostala zastosowana pomiedzy target (zmienna binarna) a zmienna ciagla\n",
    "\n",
    "continuos_cols = ['reve_msc','liczba_min_msc', 'commitment_msc', 'roaming_calls', 'procentowa_zmiana_min', \n",
    "                  'procentowa_zmiana_reve','dropped_calls','polaczenia_nieodebrane','rozmowy_obs_kli_ilosc',\n",
    "                  'usage_data_MB','liczba_polaczen_out','liczba_polaczen_in','staz_klienta','liczba_kontrakow',\n",
    "                  'liczba_kontrakow_do_utrzymania','ile_dni_kli_ma_obecny_terminal','CODE', 'liczba_msc_do_konca_umowy',\n",
    "                  'wiek_klienta']\n",
    "pbc_dict = dict()\n",
    "for col in continuos_cols:\n",
    "    pbc, pval = pointbiserialr(df_train_string_transformed[col],df_train_string_transformed['Churn'])\n",
    "    # sprawdzenie czy korelacja jest istotna statystycznie\n",
    "    if pval < 0.01:\n",
    "        pbc_dict[col] = pbc\n",
    "    else:\n",
    "        print(\"P-value for column\", col, \"isn too big and is equal:\", pval)\n",
    "        \n",
    "#sortowanie\n",
    "pbc_dict = dict(sorted(pbc_dict.items(), key=lambda item: item[1]))\n",
    "        \n",
    "names = list(pbc_dict.keys())\n",
    "point_biserial_values = list(pbc_dict.values())\n",
    "\n",
    "plt.figure(figsize = (20,10))\n",
    "plt.barh(range(len(pbc_dict)),point_biserial_values,tick_label = names )"
   ]
  },
  {
   "cell_type": "markdown",
   "metadata": {},
   "source": [
    "Otrzymane korelacje sa bardzo slabe (bliskie zeru). Jednakze mozemy minimalnie zauwazyc, ze im wieksze zobowiazanie, tym mniejsza szansa na odejscie klienta oraz im wiecej dni klient ma obecny terminal, tym wieksza szansa na odejscie. Jednak, trzeba pamiętać, że korelacje sa tak niskie, ze wysnuwanie wnioskow nie jest wiarygodne (<b>\"correlation is not causation\" </b>)  "
   ]
  },
  {
   "cell_type": "markdown",
   "metadata": {},
   "source": [
    "### Histogramy zmiennych numerycznych"
   ]
  },
  {
   "cell_type": "code",
   "execution_count": 55,
   "metadata": {},
   "outputs": [
    {
     "data": {
      "image/png": "[encoded data removed]",
      "text/plain": [
       "<Figure size 1080x864 with 18 Axes>"
      ]
     },
     "metadata": {
      "needs_background": "light"
     },
     "output_type": "display_data"
    }
   ],
   "source": [
    "df_temp = df_train_string_transformed[['reve_msc','liczba_min_msc', 'commitment_msc', 'roaming_calls', 'procentowa_zmiana_min', \n",
    "                  'procentowa_zmiana_reve','dropped_calls','rozmowy_obs_kli_ilosc',\n",
    "                  'usage_data_MB','liczba_polaczen_out','liczba_polaczen_in','staz_klienta','liczba_kontrakow',\n",
    "                  'liczba_kontrakow_do_utrzymania','ile_dni_kli_ma_obecny_terminal','CODE', 'liczba_msc_do_konca_umowy',\n",
    "                  'wiek_klienta']]\n",
    "#Histogram:\n",
    "    \n",
    "fig = plt.figure(figsize=(15, 12))\n",
    "plt.suptitle('Histograms of Numerical Columns\\n',horizontalalignment=\"center\",fontstyle = \"normal\", fontsize = 24, fontfamily = \"sans-serif\")\n",
    "for i in range(df_temp.shape[1]):\n",
    "    plt.subplot(6, 3, i + 1)\n",
    "    f = plt.gca()\n",
    "    f.set_title(df_temp.columns.values[i])\n",
    "    \n",
    "    vals = np.size(df_temp.iloc[:, i].unique())\n",
    "    if vals >= 100:\n",
    "        vals = 100\n",
    "    \n",
    "    plt.hist(df_temp.iloc[:, i], bins=vals)\n",
    "    plt.tight_layout(rect=[0, 0.03, 1, 0.95])"
   ]
  },
  {
   "cell_type": "markdown",
   "metadata": {},
   "source": [
    "Kilka podstawowych obserwacji:\n",
    "- niektore kolumny mozemy zlogarytmowac, poniewaz widzimy skosnosc (skewness)\n",
    "- mamy przewazajacy wiek pomiedzy 30 a 40 lat\n",
    "- w zbiorze sa glownie klienci ktorzy maja od 1 do 15 kontrakow\n",
    "- usage_data_MB ma bardzo podobny ksztalt do CODE i ma wartosci 10 razy wieksze\n",
    "- wiekszosci klientow w zbiorze konczy sie umowa za mniej niz 3 miesiace\n",
    "- staz klienta -> wiekszosc klientow to nowi klienci\n",
    "- miesieczne zobowiazanie znajduja sie glownie w przedziale od 10 do 100, sa pewne wieksze grupy zobowiazan. Dodatkowo pojawiaja sie ujemne wartosci, przydalaby sie konsultacja z zespolem z czego to wynika. To moga byc na przyklad anomalie."
   ]
  },
  {
   "cell_type": "markdown",
   "metadata": {},
   "source": [
    "### Bar ploty zmiennych kategorycznych"
   ]
  },
  {
   "cell_type": "code",
   "execution_count": 56,
   "metadata": {},
   "outputs": [
    {
     "data": {
      "image/png": "[encoded data removed]",
      "text/plain": [
       "<Figure size 1080x864 with 9 Axes>"
      ]
     },
     "metadata": {
      "needs_background": "light"
     },
     "output_type": "display_data"
    }
   ],
   "source": [
    "categorical= ['rodzaj_terminala','czy_klient_kupowal_na_raty','czy_klient_ma_oferte_SIM_only',\n",
    "              'czy_klient_ma_zgode_na_kontakt','czy_klient_skladal_reklamacje','czy_klient_byl_windykowany',\n",
    "              'telefon_utrzymaniowy','akceptacja_oferty_utrzymaniowej','credit_scoring']\n",
    "fig, axes = plt.subplots(nrows = 3,ncols = 3,\n",
    "figsize = (15,12))\n",
    "for i, item in enumerate(categorical):\n",
    "    if i < 3:\n",
    "        ax = df_train_string_transformed[item].value_counts().plot(\n",
    "        kind = 'bar',ax=axes[i,0],\n",
    "        rot = 0, color ='#f3babc' )\n",
    "        \n",
    "    elif i >=3 and i < 6:\n",
    "        ax = df_train_string_transformed[item].value_counts().plot(\n",
    "        kind = 'bar',ax=axes[i-3,1],\n",
    "        rot = 0,color ='#9b9c9a')\n",
    "        \n",
    "    elif i < 9:\n",
    "        ax = df_train_string_transformed[item].value_counts().plot(\n",
    "        kind = 'bar',ax=axes[i-6,2],rot = 0,\n",
    "        color = '#ec838a')\n",
    "    ax.set_title(item)"
   ]
  },
  {
   "cell_type": "markdown",
   "metadata": {},
   "source": [
    "Kilka podstawowych obserwacji:\n",
    "- malo klientow bylo windykowanych\n",
    "- malo klientow ma oferte SIM only\n",
    "- wiekszosc klientow ma credit_scoring = 2\n",
    "- mniej klientow kupywalo na raty\n",
    "- terminale 1 i 0 przewazaja\n",
    "- wiekszosc wartosci w telefonie utrzymaniowym to 0 i tak samo w akceptacji"
   ]
  },
  {
   "cell_type": "markdown",
   "metadata": {},
   "source": [
    "### Churn w zaleznosci od  Liczba kontrakow"
   ]
  },
  {
   "cell_type": "code",
   "execution_count": 57,
   "metadata": {
    "scrolled": false
   },
   "outputs": [
    {
     "data": {
      "image/png": "[encoded data removed]",
      "text/plain": [
       "<Figure size 864x504 with 1 Axes>"
      ]
     },
     "metadata": {
      "needs_background": "light"
     },
     "output_type": "display_data"
    }
   ],
   "source": [
    "import matplotlib.ticker as mtick\n",
    "temp =df_train_string_transformed.groupby(['liczba_kontrakow','Churn']).size().unstack()\n",
    "temp.rename(columns={0:'NIE', 1:'TAK'}, inplace=True)\n",
    "colors  = ['#ec838a','#9b9c9a']\n",
    "ax = (temp.T*100.0 / temp.T.sum()).T.plot(kind='bar',width = 0.3,stacked = True,rot = 0,figsize = (12,7),color = colors)\n",
    "plt.ylabel('Proportion of Customers\\n',horizontalalignment=\"center\",fontstyle = \"normal\", fontsize = \"large\", fontfamily = \"sans-serif\")\n",
    "plt.xlabel('liczba_kontrakow\\n',horizontalalignment=\"center\",fontstyle = \"normal\", fontsize = \"large\", fontfamily = \"sans-serif\")\n",
    "plt.title('Churn Rate w zaleznosci od liczba_kontrakow \\n',horizontalalignment=\"center\", fontstyle = \"normal\", fontsize = \"22\", fontfamily = \"sans-serif\")\n",
    "plt.legend(fontsize = \"medium\")\n",
    "plt.xticks(rotation=0, horizontalalignment=\"center\")\n",
    "plt.yticks(rotation=0, horizontalalignment=\"right\")\n",
    "ax.yaxis.set_major_formatter(mtick.PercentFormatter())\n",
    "for p in ax.patches:\n",
    "    width, height = p.get_width(), p.get_height()\n",
    "    x, y = p.get_xy() \n",
    "    ax.text(x+width/2, \n",
    "            y+height/2, \n",
    "            '{:.1f}%'.format(height), \n",
    "            horizontalalignment='center', \n",
    "            verticalalignment='center')\n",
    "ax.autoscale(enable=False, axis='both', tight=False)"
   ]
  },
  {
   "cell_type": "markdown",
   "metadata": {},
   "source": [
    "Im wieksza liczba kontrakow tym wiekszy churn rate, wyjatkiem jest liczba_kontrakow rowna 12"
   ]
  },
  {
   "cell_type": "markdown",
   "metadata": {},
   "source": [
    "### Churn w zaleznosci od Credit Scoring"
   ]
  },
  {
   "cell_type": "code",
   "execution_count": 58,
   "metadata": {
    "scrolled": false
   },
   "outputs": [
    {
     "name": "stderr",
     "output_type": "stream",
     "text": [
      "C:\\Users\\agole\\anaconda3\\lib\\site-packages\\seaborn\\_decorators.py:36: FutureWarning: Pass the following variable as a keyword arg: x. From version 0.12, the only valid positional argument will be `data`, and passing other arguments without an explicit keyword will result in an error or misinterpretation.\n",
      "  warnings.warn(\n"
     ]
    },
    {
     "data": {
      "text/plain": [
       "<AxesSubplot:xlabel='credit_scoring', ylabel='count'>"
      ]
     },
     "execution_count": 58,
     "metadata": {},
     "output_type": "execute_result"
    },
    {
     "data": {
      "image/png": "[encoded data removed]",
      "text/plain": [
       "<Figure size 432x288 with 1 Axes>"
      ]
     },
     "metadata": {
      "needs_background": "light"
     },
     "output_type": "display_data"
    }
   ],
   "source": [
    "sns.countplot(df_train_string_transformed['credit_scoring'])"
   ]
  },
  {
   "cell_type": "markdown",
   "metadata": {},
   "source": [
    "Wiekszosc klientow ma Credit Scoring rowny 2"
   ]
  },
  {
   "cell_type": "code",
   "execution_count": 59,
   "metadata": {
    "scrolled": false
   },
   "outputs": [
    {
     "data": {
      "image/png": "[encoded data removed]",
      "text/plain": [
       "<Figure size 864x504 with 1 Axes>"
      ]
     },
     "metadata": {
      "needs_background": "light"
     },
     "output_type": "display_data"
    }
   ],
   "source": [
    "import matplotlib.ticker as mtick\n",
    "temp =df_train_string_transformed.groupby(['credit_scoring','Churn']).size().unstack()\n",
    "temp.rename(columns={0:'NIE', 1:'TAK'}, inplace=True)\n",
    "colors  = ['#ec838a','#9b9c9a']\n",
    "ax = (temp.T*100.0 / temp.T.sum()).T.plot(kind='bar',width = 0.3,stacked = True,rot = 0,figsize = (12,7),color = colors)\n",
    "plt.ylabel('Proportion of Customers\\n',horizontalalignment=\"center\",fontstyle = \"normal\", fontsize = \"large\", fontfamily = \"sans-serif\")\n",
    "plt.xlabel('Credit Scoring\\n',horizontalalignment=\"center\",fontstyle = \"normal\", fontsize = \"large\", fontfamily = \"sans-serif\")\n",
    "plt.title('Churn Rate w zaleznosci od Credit scoring \\n',horizontalalignment=\"center\", fontstyle = \"normal\", fontsize = \"22\", fontfamily = \"sans-serif\")\n",
    "plt.legend(fontsize = \"medium\")\n",
    "plt.xticks(rotation=0, horizontalalignment=\"center\")\n",
    "plt.yticks(rotation=0, horizontalalignment=\"right\")\n",
    "ax.yaxis.set_major_formatter(mtick.PercentFormatter())\n",
    "for p in ax.patches:\n",
    "    width, height = p.get_width(), p.get_height()\n",
    "    x, y = p.get_xy() \n",
    "    ax.text(x+width/2, \n",
    "            y+height/2, \n",
    "            '{:.1f}%'.format(height), \n",
    "            horizontalalignment='center', \n",
    "            verticalalignment='center')\n",
    "ax.autoscale(enable=False, axis='both', tight=False)"
   ]
  },
  {
   "cell_type": "markdown",
   "metadata": {},
   "source": [
    "Najmniejszy churn rate jest gdy credit scoring wynosi 5 "
   ]
  },
  {
   "cell_type": "markdown",
   "metadata": {},
   "source": [
    "### Churn w zaleznosci Czy klient byl windykowany"
   ]
  },
  {
   "cell_type": "code",
   "execution_count": 60,
   "metadata": {
    "scrolled": false
   },
   "outputs": [
    {
     "data": {
      "image/png": "[encoded data removed]",
      "text/plain": [
       "<Figure size 864x504 with 1 Axes>"
      ]
     },
     "metadata": {
      "needs_background": "light"
     },
     "output_type": "display_data"
    }
   ],
   "source": [
    "import matplotlib.ticker as mtick\n",
    "temp =df_train_string_transformed.groupby(['czy_klient_byl_windykowany','Churn']).size().unstack()\n",
    "temp.rename(columns={0:'NIE', 1:'TAK'}, inplace=True)\n",
    "colors  = ['#ec838a','#9b9c9a']\n",
    "ax = (temp.T*100.0 / temp.T.sum()).T.plot(kind='bar',width = 0.3,stacked = True,rot = 0,figsize = (12,7),color = colors)\n",
    "plt.ylabel('Proportion of Customers\\n',horizontalalignment=\"center\",fontstyle = \"normal\", fontsize = \"large\", fontfamily = \"sans-serif\")\n",
    "plt.xlabel('Czy klient byl windykowany\\n',horizontalalignment=\"center\",fontstyle = \"normal\", fontsize = \"large\", fontfamily = \"sans-serif\")\n",
    "plt.title('Churn Rate w zaleznosci Czy klient byl windykowany \\n',horizontalalignment=\"center\", fontstyle = \"normal\", fontsize = \"22\", fontfamily = \"sans-serif\")\n",
    "plt.legend(fontsize = \"medium\")\n",
    "plt.xticks(rotation=0, horizontalalignment=\"center\")\n",
    "plt.yticks(rotation=0, horizontalalignment=\"right\")\n",
    "ax.yaxis.set_major_formatter(mtick.PercentFormatter())\n",
    "for p in ax.patches:\n",
    "    width, height = p.get_width(), p.get_height()\n",
    "    x, y = p.get_xy() \n",
    "    ax.text(x+width/2, \n",
    "            y+height/2, \n",
    "            '{:.1f}%'.format(height), \n",
    "            horizontalalignment='center', \n",
    "            verticalalignment='center')\n",
    "ax.autoscale(enable=False, axis='both', tight=False)"
   ]
  },
  {
   "cell_type": "markdown",
   "metadata": {},
   "source": [
    "Identyczne proporcje, informacja czy klient byl windykowany nie przedstawia zadnej roznicy w zmiennej docelowej"
   ]
  },
  {
   "cell_type": "markdown",
   "metadata": {},
   "source": [
    "### Churn w zaleznosci od rodzaju terminala"
   ]
  },
  {
   "cell_type": "code",
   "execution_count": 61,
   "metadata": {},
   "outputs": [
    {
     "data": {
      "image/png": "[encoded data removed]",
      "text/plain": [
       "<Figure size 864x504 with 1 Axes>"
      ]
     },
     "metadata": {
      "needs_background": "light"
     },
     "output_type": "display_data"
    }
   ],
   "source": [
    "import matplotlib.ticker as mtick\n",
    "temp =df_train_string_transformed.groupby(['rodzaj_terminala','Churn']).size().unstack()\n",
    "temp.rename(columns={0:'NIE', 1:'TAK'}, inplace=True)\n",
    "colors  = ['#ec838a','#9b9c9a']\n",
    "ax = (temp.T*100.0 / temp.T.sum()).T.plot(kind='bar',width = 0.3,stacked = True,rot = 0,figsize = (12,7),color = colors)\n",
    "plt.ylabel('Proportion of Customers\\n',horizontalalignment=\"center\",fontstyle = \"normal\", fontsize = \"large\", fontfamily = \"sans-serif\")\n",
    "plt.xlabel('rodzaj terminala\\n',horizontalalignment=\"center\",fontstyle = \"normal\", fontsize = \"large\", fontfamily = \"sans-serif\")\n",
    "plt.title('Churn Rate w zaleznosci od rodzaju terminala \\n',horizontalalignment=\"center\", fontstyle = \"normal\", fontsize = \"22\", fontfamily = \"sans-serif\")\n",
    "plt.legend(fontsize = \"medium\")\n",
    "plt.xticks(rotation=0, horizontalalignment=\"center\")\n",
    "plt.yticks(rotation=0, horizontalalignment=\"right\")\n",
    "ax.yaxis.set_major_formatter(mtick.PercentFormatter())\n",
    "for p in ax.patches:\n",
    "    width, height = p.get_width(), p.get_height()\n",
    "    x, y = p.get_xy() \n",
    "    ax.text(x+width/2, \n",
    "            y+height/2, \n",
    "            '{:.1f}%'.format(height), \n",
    "            horizontalalignment='center', \n",
    "            verticalalignment='center')\n",
    "ax.autoscale(enable=False, axis='both', tight=False)"
   ]
  },
  {
   "cell_type": "markdown",
   "metadata": {},
   "source": [
    "Gdy rodzaj terminala wynosi 5 lub 6 to churn nie wystepuje"
   ]
  },
  {
   "cell_type": "code",
   "execution_count": 62,
   "metadata": {},
   "outputs": [
    {
     "data": {
      "image/png": "[encoded data removed]",
      "text/plain": [
       "<Figure size 1152x720 with 1 Axes>"
      ]
     },
     "metadata": {
      "needs_background": "light"
     },
     "output_type": "display_data"
    }
   ],
   "source": [
    "import matplotlib.ticker as mtick\n",
    "temp =df_train_string_transformed.groupby(['wiek_klienta','Churn']).size().unstack()\n",
    "temp.rename(columns={0:'NIE', 1:'TAK'}, inplace=True)\n",
    "colors  = ['#ec838a','#9b9c9a']\n",
    "ax = (temp.T*100.0 / temp.T.sum()).T.plot(kind='bar',width = 0.3,stacked = True,rot = 0,figsize = (16,10),color = colors)\n",
    "plt.ylabel('Proportion of Customers\\n',horizontalalignment=\"center\",fontstyle = \"normal\", fontsize = \"large\", fontfamily = \"sans-serif\")\n",
    "plt.xlabel('Wiek\\n',horizontalalignment=\"center\",fontstyle = \"normal\", fontsize = \"large\", fontfamily = \"sans-serif\")\n",
    "plt.title('Churn Rate w zaleznosci od wieku \\n',horizontalalignment=\"center\", fontstyle = \"normal\", fontsize = \"22\", fontfamily = \"sans-serif\")\n",
    "plt.legend(fontsize = \"medium\")\n",
    "plt.xticks(rotation=0, horizontalalignment=\"center\")\n",
    "plt.yticks(rotation=0, horizontalalignment=\"right\")\n",
    "ax.yaxis.set_major_formatter(mtick.PercentFormatter())\n",
    "for p in ax.patches:\n",
    "    width, height = p.get_width(), p.get_height()\n",
    "    x, y = p.get_xy() \n",
    "    ax.text(x+width/2, \n",
    "            y+height/2, \n",
    "            '{:.1f}%'.format(height), \n",
    "            horizontalalignment='center', \n",
    "            verticalalignment='center')\n",
    "ax.autoscale(enable=False, axis='both', tight=False)"
   ]
  },
  {
   "cell_type": "markdown",
   "metadata": {},
   "source": [
    "Im wyzszy wiek klienta tym mniejszy churn rate. Warto stworzyc kategorie 18-22, 23-58, 59+"
   ]
  },
  {
   "cell_type": "markdown",
   "metadata": {},
   "source": [
    "EDA Wnioski:\n",
    "- Otrzymane korelacje sa bardzo slabe (bliskie zeru). Jednakze mozemy minimalnie zauwazyc, ze im wieksze zobowiazanie, tym mniejsza szansa na odejscie klienta oraz im wiecej dni klient ma obecny terminal, tym wieksza szansa na odejscie. Jednak, trzeba pamiętać, że korelacje sa tak niskie, ze wysnuwanie wnioskow nie jest wiarygodne (<b>\"correlation is not causation\" </b>)   \n",
    "- niektore kolumny mozemy zlogarytmowac, poniewaz widzimy skosnosc (skewness)\n",
    "- mamy przewazajacy wiek pomiedzy 30 a 40 lat\n",
    "- w zbiorze sa glownie klienci ktorzy maja od 1 do 15 kontrakow\n",
    "- usage_data_MB ma bardzo podobny ksztalt do CODE i ma wartosci 10 razy wieksze\n",
    "- wiekszosci klientow w zbiorze konczy sie umowa za mniej niz 3 miesiace\n",
    "- staz klienta -> wiekszosc klientow to nowi klienci\n",
    "- miesieczne zobowiazanie znajduja sie glownie w przedziale od 10 do 100, sa pewne wieksze grupy zobowiazan. Dodatkowo pojawiaja sie ujemne wartosci, przydalaby sie konsultacja z zespolem z czego to wynika. To moga byc na przyklad anomalie.\n",
    "- malo klientow bylo windykowanych\n",
    "- malo klientow ma oferte SIM only\n",
    "- wiekszosc klientow ma credit_scoring = 2\n",
    "- mniej klientow kupywalo na raty\n",
    "- terminale 1 i 0 przewazaja\n",
    "- wiekszosc wartosci w telefonie utrzymaniowym to 0 i tak samo w akceptacji\n",
    "- Im wieksza liczba kontrakow tym wiekszy churn rate\n",
    "- Gdy rodzaj terminala wynosi 5 lub 6 to churn nie wystepuje\n",
    "- Identyczne proporcje, informacja czy klient byl windykowany nie przedstawia zadnej roznicy w zmiennej docelowej\n",
    "- Najmniejszy churn rate jest gdy credit scoring wynosi 5 \n",
    "- Wiekszosc klientow ma Credit Scoring rowny 2\n",
    "- Im wyzszy wiek klienta tym mniejszy churn rate. Warto stworzyc kategorie 18-22, 23-58, 59+"
   ]
  },
  {
   "cell_type": "markdown",
   "metadata": {},
   "source": [
    "# Przygotowanie Danych"
   ]
  },
  {
   "cell_type": "markdown",
   "metadata": {},
   "source": [
    "#### Outlierzy"
   ]
  },
  {
   "cell_type": "code",
   "execution_count": 63,
   "metadata": {},
   "outputs": [],
   "source": [
    "def removing_outliers(df):\n",
    "    no_rows_begin = df.shape[0]\n",
    "    \n",
    "    df_transform0 = df[(df['reve_msc'] <= 700) & (df['reve_msc'] >= 0)]\n",
    "    print('Number of deleted rows:',no_rows_begin - df_transform0.shape[0])\n",
    "    \n",
    "    df_transform1 = df_transform0[df_transform0['commitment_msc'] >= 0]\n",
    "    print('Number of deleted rows:',no_rows_begin - df_transform1.shape[0])\n",
    "    \n",
    "    df_transform2 = df_transform1[df_transform1['liczba_kontrakow'] != 196]\n",
    "    print('Number of deleted rows:',no_rows_begin - df_transform2.shape[0])\n",
    "    \n",
    "    df_final = df_transform2[df_transform2['ile_dni_kli_ma_obecny_terminal'] > 0]\n",
    "    print('Percent of deleted rows comparing to default data:',round((((no_rows_begin - df_final.shape[0])/no_rows_begin)*100),2), '%')\n",
    "    \n",
    "    return df_final"
   ]
  },
  {
   "cell_type": "code",
   "execution_count": 64,
   "metadata": {
    "scrolled": true
   },
   "outputs": [
    {
     "name": "stdout",
     "output_type": "stream",
     "text": [
      "Number of deleted rows: 11\n",
      "Number of deleted rows: 17\n",
      "Number of deleted rows: 18\n",
      "Percent of deleted rows comparing to default data: 0.23 %\n"
     ]
    }
   ],
   "source": [
    "df_train_without_outliers = removing_outliers(df_train_string_transformed)"
   ]
  },
  {
   "cell_type": "markdown",
   "metadata": {},
   "source": [
    "###  Sprawdzenie wspolliniowosci (multicollinearity) uzywajac VIF"
   ]
  },
  {
   "cell_type": "code",
   "execution_count": 65,
   "metadata": {},
   "outputs": [],
   "source": [
    "def calc_vif(df):\n",
    "    # Calculating VIF\n",
    "    vif = pd.DataFrame()\n",
    "    vif[\"variables\"] = df.columns\n",
    "    vif[\"VIF\"] = [variance_inflation_factor(df.values, i) for i in range(df.shape[1])]\n",
    "    return(vif)\n"
   ]
  },
  {
   "cell_type": "code",
   "execution_count": 66,
   "metadata": {
    "scrolled": true
   },
   "outputs": [
    {
     "data": {
      "text/html": [
       "<div>\n",
       "<style scoped>\n",
       "    .dataframe tbody tr th:only-of-type {\n",
       "        vertical-align: middle;\n",
       "    }\n",
       "\n",
       "    .dataframe tbody tr th {\n",
       "        vertical-align: top;\n",
       "    }\n",
       "\n",
       "    .dataframe thead th {\n",
       "        text-align: right;\n",
       "    }\n",
       "</style>\n",
       "<table border=\"1\" class=\"dataframe\">\n",
       "  <thead>\n",
       "    <tr style=\"text-align: right;\">\n",
       "      <th></th>\n",
       "      <th>variables</th>\n",
       "      <th>VIF</th>\n",
       "    </tr>\n",
       "  </thead>\n",
       "  <tbody>\n",
       "    <tr>\n",
       "      <th>0</th>\n",
       "      <td>Churn</td>\n",
       "      <td>1.432317</td>\n",
       "    </tr>\n",
       "    <tr>\n",
       "      <th>1</th>\n",
       "      <td>reve_msc</td>\n",
       "      <td>22.969757</td>\n",
       "    </tr>\n",
       "    <tr>\n",
       "      <th>2</th>\n",
       "      <td>liczba_min_msc</td>\n",
       "      <td>8.064200</td>\n",
       "    </tr>\n",
       "    <tr>\n",
       "      <th>3</th>\n",
       "      <td>commitment_msc</td>\n",
       "      <td>16.102521</td>\n",
       "    </tr>\n",
       "    <tr>\n",
       "      <th>4</th>\n",
       "      <td>roaming_calls</td>\n",
       "      <td>6.005739</td>\n",
       "    </tr>\n",
       "    <tr>\n",
       "      <th>5</th>\n",
       "      <td>procentowa_zmiana_min</td>\n",
       "      <td>1.655851</td>\n",
       "    </tr>\n",
       "    <tr>\n",
       "      <th>6</th>\n",
       "      <td>procentowa_zmiana_reve</td>\n",
       "      <td>1.642206</td>\n",
       "    </tr>\n",
       "    <tr>\n",
       "      <th>7</th>\n",
       "      <td>dropped_calls</td>\n",
       "      <td>2.541828</td>\n",
       "    </tr>\n",
       "    <tr>\n",
       "      <th>8</th>\n",
       "      <td>polaczenia_nieodebrane</td>\n",
       "      <td>3.085045</td>\n",
       "    </tr>\n",
       "    <tr>\n",
       "      <th>9</th>\n",
       "      <td>rozmowy_obs_kli_ilosc</td>\n",
       "      <td>1.451523</td>\n",
       "    </tr>\n",
       "    <tr>\n",
       "      <th>10</th>\n",
       "      <td>usage_data_MB</td>\n",
       "      <td>2.660161</td>\n",
       "    </tr>\n",
       "    <tr>\n",
       "      <th>11</th>\n",
       "      <td>liczba_polaczen_out</td>\n",
       "      <td>4.678791</td>\n",
       "    </tr>\n",
       "    <tr>\n",
       "      <th>12</th>\n",
       "      <td>liczba_polaczen_in</td>\n",
       "      <td>2.718799</td>\n",
       "    </tr>\n",
       "    <tr>\n",
       "      <th>13</th>\n",
       "      <td>staz_klienta</td>\n",
       "      <td>2.138976</td>\n",
       "    </tr>\n",
       "    <tr>\n",
       "      <th>14</th>\n",
       "      <td>liczba_msc_do_konca_umowy</td>\n",
       "      <td>2.439407</td>\n",
       "    </tr>\n",
       "    <tr>\n",
       "      <th>15</th>\n",
       "      <td>liczba_kontrakow</td>\n",
       "      <td>11.702109</td>\n",
       "    </tr>\n",
       "    <tr>\n",
       "      <th>16</th>\n",
       "      <td>liczba_kontrakow_do_utrzymania</td>\n",
       "      <td>16.912242</td>\n",
       "    </tr>\n",
       "    <tr>\n",
       "      <th>17</th>\n",
       "      <td>CODE</td>\n",
       "      <td>2.648337</td>\n",
       "    </tr>\n",
       "    <tr>\n",
       "      <th>18</th>\n",
       "      <td>rodzaj_terminala</td>\n",
       "      <td>2.117017</td>\n",
       "    </tr>\n",
       "    <tr>\n",
       "      <th>19</th>\n",
       "      <td>ile_dni_kli_ma_obecny_terminal</td>\n",
       "      <td>3.701929</td>\n",
       "    </tr>\n",
       "    <tr>\n",
       "      <th>20</th>\n",
       "      <td>wiek_klienta</td>\n",
       "      <td>11.484158</td>\n",
       "    </tr>\n",
       "    <tr>\n",
       "      <th>21</th>\n",
       "      <td>czy_klient_kupowal_na_raty</td>\n",
       "      <td>1.558233</td>\n",
       "    </tr>\n",
       "    <tr>\n",
       "      <th>22</th>\n",
       "      <td>czy_klient_ma_oferte_SIM_only</td>\n",
       "      <td>1.201175</td>\n",
       "    </tr>\n",
       "    <tr>\n",
       "      <th>23</th>\n",
       "      <td>czy_klient_ma_zgode_na_kontakt</td>\n",
       "      <td>24.975336</td>\n",
       "    </tr>\n",
       "    <tr>\n",
       "      <th>24</th>\n",
       "      <td>czy_klient_skladal_reklamacje</td>\n",
       "      <td>25.895375</td>\n",
       "    </tr>\n",
       "    <tr>\n",
       "      <th>25</th>\n",
       "      <td>czy_klient_byl_windykowany</td>\n",
       "      <td>1.027212</td>\n",
       "    </tr>\n",
       "    <tr>\n",
       "      <th>26</th>\n",
       "      <td>telefon_utrzymaniowy</td>\n",
       "      <td>2.256001</td>\n",
       "    </tr>\n",
       "    <tr>\n",
       "      <th>27</th>\n",
       "      <td>akceptacja_oferty_utrzymaniowej</td>\n",
       "      <td>2.212749</td>\n",
       "    </tr>\n",
       "    <tr>\n",
       "      <th>28</th>\n",
       "      <td>credit_scoring</td>\n",
       "      <td>4.203120</td>\n",
       "    </tr>\n",
       "  </tbody>\n",
       "</table>\n",
       "</div>"
      ],
      "text/plain": [
       "                          variables        VIF\n",
       "0                             Churn   1.432317\n",
       "1                          reve_msc  22.969757\n",
       "2                    liczba_min_msc   8.064200\n",
       "3                    commitment_msc  16.102521\n",
       "4                     roaming_calls   6.005739\n",
       "5             procentowa_zmiana_min   1.655851\n",
       "6            procentowa_zmiana_reve   1.642206\n",
       "7                     dropped_calls   2.541828\n",
       "8            polaczenia_nieodebrane   3.085045\n",
       "9             rozmowy_obs_kli_ilosc   1.451523\n",
       "10                    usage_data_MB   2.660161\n",
       "11              liczba_polaczen_out   4.678791\n",
       "12               liczba_polaczen_in   2.718799\n",
       "13                     staz_klienta   2.138976\n",
       "14        liczba_msc_do_konca_umowy   2.439407\n",
       "15                 liczba_kontrakow  11.702109\n",
       "16   liczba_kontrakow_do_utrzymania  16.912242\n",
       "17                             CODE   2.648337\n",
       "18                 rodzaj_terminala   2.117017\n",
       "19   ile_dni_kli_ma_obecny_terminal   3.701929\n",
       "20                     wiek_klienta  11.484158\n",
       "21       czy_klient_kupowal_na_raty   1.558233\n",
       "22    czy_klient_ma_oferte_SIM_only   1.201175\n",
       "23   czy_klient_ma_zgode_na_kontakt  24.975336\n",
       "24    czy_klient_skladal_reklamacje  25.895375\n",
       "25       czy_klient_byl_windykowany   1.027212\n",
       "26             telefon_utrzymaniowy   2.256001\n",
       "27  akceptacja_oferty_utrzymaniowej   2.212749\n",
       "28                   credit_scoring   4.203120"
      ]
     },
     "execution_count": 66,
     "metadata": {},
     "output_type": "execute_result"
    }
   ],
   "source": [
    "calc_vif(df_train_without_outliers.drop(['KLIENT_ID'],axis = 1))"
   ]
  },
  {
   "cell_type": "code",
   "execution_count": 67,
   "metadata": {
    "scrolled": true
   },
   "outputs": [
    {
     "data": {
      "text/html": [
       "<div>\n",
       "<style scoped>\n",
       "    .dataframe tbody tr th:only-of-type {\n",
       "        vertical-align: middle;\n",
       "    }\n",
       "\n",
       "    .dataframe tbody tr th {\n",
       "        vertical-align: top;\n",
       "    }\n",
       "\n",
       "    .dataframe thead th {\n",
       "        text-align: right;\n",
       "    }\n",
       "</style>\n",
       "<table border=\"1\" class=\"dataframe\">\n",
       "  <thead>\n",
       "    <tr style=\"text-align: right;\">\n",
       "      <th></th>\n",
       "      <th>variables</th>\n",
       "      <th>VIF</th>\n",
       "    </tr>\n",
       "  </thead>\n",
       "  <tbody>\n",
       "    <tr>\n",
       "      <th>0</th>\n",
       "      <td>Churn</td>\n",
       "      <td>1.430931</td>\n",
       "    </tr>\n",
       "    <tr>\n",
       "      <th>1</th>\n",
       "      <td>commitment_msc</td>\n",
       "      <td>5.483702</td>\n",
       "    </tr>\n",
       "    <tr>\n",
       "      <th>2</th>\n",
       "      <td>roaming_calls</td>\n",
       "      <td>1.474304</td>\n",
       "    </tr>\n",
       "    <tr>\n",
       "      <th>3</th>\n",
       "      <td>procentowa_zmiana_min</td>\n",
       "      <td>1.654480</td>\n",
       "    </tr>\n",
       "    <tr>\n",
       "      <th>4</th>\n",
       "      <td>procentowa_zmiana_reve</td>\n",
       "      <td>1.640059</td>\n",
       "    </tr>\n",
       "    <tr>\n",
       "      <th>5</th>\n",
       "      <td>dropped_calls</td>\n",
       "      <td>2.453847</td>\n",
       "    </tr>\n",
       "    <tr>\n",
       "      <th>6</th>\n",
       "      <td>polaczenia_nieodebrane</td>\n",
       "      <td>2.910773</td>\n",
       "    </tr>\n",
       "    <tr>\n",
       "      <th>7</th>\n",
       "      <td>rozmowy_obs_kli_ilosc</td>\n",
       "      <td>1.400799</td>\n",
       "    </tr>\n",
       "    <tr>\n",
       "      <th>8</th>\n",
       "      <td>usage_data_MB</td>\n",
       "      <td>2.654310</td>\n",
       "    </tr>\n",
       "    <tr>\n",
       "      <th>9</th>\n",
       "      <td>liczba_polaczen_out</td>\n",
       "      <td>4.460825</td>\n",
       "    </tr>\n",
       "    <tr>\n",
       "      <th>10</th>\n",
       "      <td>liczba_polaczen_in</td>\n",
       "      <td>2.669469</td>\n",
       "    </tr>\n",
       "    <tr>\n",
       "      <th>11</th>\n",
       "      <td>staz_klienta</td>\n",
       "      <td>2.133830</td>\n",
       "    </tr>\n",
       "    <tr>\n",
       "      <th>12</th>\n",
       "      <td>liczba_msc_do_konca_umowy</td>\n",
       "      <td>2.220143</td>\n",
       "    </tr>\n",
       "    <tr>\n",
       "      <th>13</th>\n",
       "      <td>liczba_kontrakow</td>\n",
       "      <td>4.516692</td>\n",
       "    </tr>\n",
       "    <tr>\n",
       "      <th>14</th>\n",
       "      <td>CODE</td>\n",
       "      <td>2.642001</td>\n",
       "    </tr>\n",
       "    <tr>\n",
       "      <th>15</th>\n",
       "      <td>rodzaj_terminala</td>\n",
       "      <td>2.114108</td>\n",
       "    </tr>\n",
       "    <tr>\n",
       "      <th>16</th>\n",
       "      <td>ile_dni_kli_ma_obecny_terminal</td>\n",
       "      <td>3.654862</td>\n",
       "    </tr>\n",
       "    <tr>\n",
       "      <th>17</th>\n",
       "      <td>wiek_klienta</td>\n",
       "      <td>11.158247</td>\n",
       "    </tr>\n",
       "    <tr>\n",
       "      <th>18</th>\n",
       "      <td>czy_klient_kupowal_na_raty</td>\n",
       "      <td>1.550835</td>\n",
       "    </tr>\n",
       "    <tr>\n",
       "      <th>19</th>\n",
       "      <td>czy_klient_ma_oferte_SIM_only</td>\n",
       "      <td>1.200422</td>\n",
       "    </tr>\n",
       "    <tr>\n",
       "      <th>20</th>\n",
       "      <td>czy_klient_skladal_reklamacje</td>\n",
       "      <td>2.210278</td>\n",
       "    </tr>\n",
       "    <tr>\n",
       "      <th>21</th>\n",
       "      <td>czy_klient_byl_windykowany</td>\n",
       "      <td>1.026915</td>\n",
       "    </tr>\n",
       "    <tr>\n",
       "      <th>22</th>\n",
       "      <td>telefon_utrzymaniowy</td>\n",
       "      <td>2.253737</td>\n",
       "    </tr>\n",
       "    <tr>\n",
       "      <th>23</th>\n",
       "      <td>akceptacja_oferty_utrzymaniowej</td>\n",
       "      <td>2.212315</td>\n",
       "    </tr>\n",
       "    <tr>\n",
       "      <th>24</th>\n",
       "      <td>credit_scoring</td>\n",
       "      <td>4.184139</td>\n",
       "    </tr>\n",
       "  </tbody>\n",
       "</table>\n",
       "</div>"
      ],
      "text/plain": [
       "                          variables        VIF\n",
       "0                             Churn   1.430931\n",
       "1                    commitment_msc   5.483702\n",
       "2                     roaming_calls   1.474304\n",
       "3             procentowa_zmiana_min   1.654480\n",
       "4            procentowa_zmiana_reve   1.640059\n",
       "5                     dropped_calls   2.453847\n",
       "6            polaczenia_nieodebrane   2.910773\n",
       "7             rozmowy_obs_kli_ilosc   1.400799\n",
       "8                     usage_data_MB   2.654310\n",
       "9               liczba_polaczen_out   4.460825\n",
       "10               liczba_polaczen_in   2.669469\n",
       "11                     staz_klienta   2.133830\n",
       "12        liczba_msc_do_konca_umowy   2.220143\n",
       "13                 liczba_kontrakow   4.516692\n",
       "14                             CODE   2.642001\n",
       "15                 rodzaj_terminala   2.114108\n",
       "16   ile_dni_kli_ma_obecny_terminal   3.654862\n",
       "17                     wiek_klienta  11.158247\n",
       "18       czy_klient_kupowal_na_raty   1.550835\n",
       "19    czy_klient_ma_oferte_SIM_only   1.200422\n",
       "20    czy_klient_skladal_reklamacje   2.210278\n",
       "21       czy_klient_byl_windykowany   1.026915\n",
       "22             telefon_utrzymaniowy   2.253737\n",
       "23  akceptacja_oferty_utrzymaniowej   2.212315\n",
       "24                   credit_scoring   4.184139"
      ]
     },
     "execution_count": 67,
     "metadata": {},
     "output_type": "execute_result"
    }
   ],
   "source": [
    "# Po usunieciu KLIENT_ID,reve_msc,liczba_kontrakow_do_utrzymania i czy_klient_ma_zgode_na_kontakt \n",
    "# pozbywamy sie w duzej mierze wspoliniowosci\n",
    "df_train_dropped_cols_multilinearity = df_train_without_outliers.drop(['KLIENT_ID','reve_msc','liczba_min_msc',\n",
    "                                                                         'liczba_kontrakow_do_utrzymania',\n",
    "                                                                         'czy_klient_ma_zgode_na_kontakt'],axis = 1)\n",
    "klient_id = df_test_string_transformed['KLIENT_ID']\n",
    "df_test_dropped_cols_multilinearity = df_test_string_transformed.drop(['KLIENT_ID','reve_msc','liczba_min_msc',\n",
    "                                                                         'liczba_kontrakow_do_utrzymania',\n",
    "                                                                         'czy_klient_ma_zgode_na_kontakt'],axis = 1)\n",
    "calc_vif(df_train_dropped_cols_multilinearity)"
   ]
  },
  {
   "cell_type": "markdown",
   "metadata": {},
   "source": [
    "#### Logarytmizacja\n"
   ]
  },
  {
   "cell_type": "code",
   "execution_count": 68,
   "metadata": {},
   "outputs": [],
   "source": [
    "# Logarytmizujemy kolumny\n",
    "# columns_to_log = ['reve_msc','roaming_calls','dropped_calls','polaczenia_nieodebrane','usage_data_MB','liczba_polaczen_out',\n",
    "#                   'liczba_polaczen_in','staz_klienta','CODE','ile_dni_kli_ma_obecny_terminal']\n",
    "columns_to_log = ['roaming_calls','dropped_calls','polaczenia_nieodebrane','usage_data_MB','liczba_polaczen_out',\n",
    "                  'liczba_polaczen_in','staz_klienta','CODE','ile_dni_kli_ma_obecny_terminal']\n",
    "\n",
    "def logarytmizacja(df,columns_to_log):\n",
    "    for col in columns_to_log:\n",
    "        df[col] = np.log(df[col] - (df[col].min() - 1))\n",
    "    return df"
   ]
  },
  {
   "cell_type": "code",
   "execution_count": 69,
   "metadata": {
    "scrolled": false
   },
   "outputs": [],
   "source": [
    "df_train_logarithmed = logarytmizacja(df_train_dropped_cols_multilinearity,columns_to_log)\n",
    "df_test_logarithmed = logarytmizacja(df_test_dropped_cols_multilinearity,columns_to_log)"
   ]
  },
  {
   "cell_type": "markdown",
   "metadata": {},
   "source": [
    "#### Utworzenie grup wiekowych"
   ]
  },
  {
   "cell_type": "code",
   "execution_count": 70,
   "metadata": {},
   "outputs": [],
   "source": [
    "# warto stworzyc kategorie 18-22, 23-58, 59+\n",
    "def transformacja_wieku(df):\n",
    "    df[\"wiek_22\"] = df['wiek_klienta'].apply(lambda x: 1 if x <= 22 else 0)\n",
    "    df[\"58_wiek_23\"] = df['wiek_klienta'].apply(lambda x: 1 if (x <= 58) & (x >=23) else 0)\n",
    "    df[\"wiek_59plus\"] = df['wiek_klienta'].apply(lambda x: 1 if x >=59 else 0)\n",
    "    df.drop(['wiek_klienta'],axis = 1, inplace = True)\n",
    "    \n",
    "    return df\n"
   ]
  },
  {
   "cell_type": "code",
   "execution_count": 71,
   "metadata": {
    "scrolled": true
   },
   "outputs": [
    {
     "data": {
      "text/html": [
       "<div>\n",
       "<style scoped>\n",
       "    .dataframe tbody tr th:only-of-type {\n",
       "        vertical-align: middle;\n",
       "    }\n",
       "\n",
       "    .dataframe tbody tr th {\n",
       "        vertical-align: top;\n",
       "    }\n",
       "\n",
       "    .dataframe thead th {\n",
       "        text-align: right;\n",
       "    }\n",
       "</style>\n",
       "<table border=\"1\" class=\"dataframe\">\n",
       "  <thead>\n",
       "    <tr style=\"text-align: right;\">\n",
       "      <th></th>\n",
       "      <th>commitment_msc</th>\n",
       "      <th>roaming_calls</th>\n",
       "      <th>procentowa_zmiana_min</th>\n",
       "      <th>procentowa_zmiana_reve</th>\n",
       "      <th>dropped_calls</th>\n",
       "      <th>polaczenia_nieodebrane</th>\n",
       "      <th>rozmowy_obs_kli_ilosc</th>\n",
       "      <th>usage_data_MB</th>\n",
       "      <th>liczba_polaczen_out</th>\n",
       "      <th>liczba_polaczen_in</th>\n",
       "      <th>staz_klienta</th>\n",
       "      <th>liczba_msc_do_konca_umowy</th>\n",
       "      <th>liczba_kontrakow</th>\n",
       "      <th>CODE</th>\n",
       "      <th>rodzaj_terminala</th>\n",
       "      <th>ile_dni_kli_ma_obecny_terminal</th>\n",
       "      <th>czy_klient_kupowal_na_raty</th>\n",
       "      <th>czy_klient_ma_oferte_SIM_only</th>\n",
       "      <th>czy_klient_skladal_reklamacje</th>\n",
       "      <th>czy_klient_byl_windykowany</th>\n",
       "      <th>telefon_utrzymaniowy</th>\n",
       "      <th>akceptacja_oferty_utrzymaniowej</th>\n",
       "      <th>credit_scoring</th>\n",
       "      <th>wiek_22</th>\n",
       "      <th>58_wiek_23</th>\n",
       "      <th>wiek_59plus</th>\n",
       "    </tr>\n",
       "  </thead>\n",
       "  <tbody>\n",
       "    <tr>\n",
       "      <th>0</th>\n",
       "      <td>37.0</td>\n",
       "      <td>3.178054</td>\n",
       "      <td>532.0</td>\n",
       "      <td>51.0</td>\n",
       "      <td>2.230014</td>\n",
       "      <td>4.131961</td>\n",
       "      <td>2</td>\n",
       "      <td>8.764366</td>\n",
       "      <td>3.850148</td>\n",
       "      <td>1.945910</td>\n",
       "      <td>4.700480</td>\n",
       "      <td>1</td>\n",
       "      <td>1</td>\n",
       "      <td>6.436150</td>\n",
       "      <td>2</td>\n",
       "      <td>5.505332</td>\n",
       "      <td>0</td>\n",
       "      <td>0</td>\n",
       "      <td>1</td>\n",
       "      <td>0</td>\n",
       "      <td>0</td>\n",
       "      <td>0</td>\n",
       "      <td>5</td>\n",
       "      <td>0</td>\n",
       "      <td>1</td>\n",
       "      <td>0</td>\n",
       "    </tr>\n",
       "    <tr>\n",
       "      <th>1</th>\n",
       "      <td>72.0</td>\n",
       "      <td>0.000000</td>\n",
       "      <td>38.0</td>\n",
       "      <td>0.0</td>\n",
       "      <td>2.370244</td>\n",
       "      <td>4.356709</td>\n",
       "      <td>9</td>\n",
       "      <td>9.886341</td>\n",
       "      <td>2.772589</td>\n",
       "      <td>0.693147</td>\n",
       "      <td>3.871201</td>\n",
       "      <td>0</td>\n",
       "      <td>1</td>\n",
       "      <td>6.683361</td>\n",
       "      <td>1</td>\n",
       "      <td>6.086775</td>\n",
       "      <td>0</td>\n",
       "      <td>0</td>\n",
       "      <td>0</td>\n",
       "      <td>0</td>\n",
       "      <td>0</td>\n",
       "      <td>0</td>\n",
       "      <td>1</td>\n",
       "      <td>0</td>\n",
       "      <td>1</td>\n",
       "      <td>0</td>\n",
       "    </tr>\n",
       "    <tr>\n",
       "      <th>2</th>\n",
       "      <td>50.0</td>\n",
       "      <td>6.042633</td>\n",
       "      <td>198.0</td>\n",
       "      <td>23.3</td>\n",
       "      <td>2.617396</td>\n",
       "      <td>5.176150</td>\n",
       "      <td>11</td>\n",
       "      <td>9.806316</td>\n",
       "      <td>4.644391</td>\n",
       "      <td>0.000000</td>\n",
       "      <td>4.060443</td>\n",
       "      <td>1</td>\n",
       "      <td>1</td>\n",
       "      <td>6.003887</td>\n",
       "      <td>2</td>\n",
       "      <td>6.559615</td>\n",
       "      <td>0</td>\n",
       "      <td>0</td>\n",
       "      <td>0</td>\n",
       "      <td>0</td>\n",
       "      <td>0</td>\n",
       "      <td>0</td>\n",
       "      <td>3</td>\n",
       "      <td>0</td>\n",
       "      <td>1</td>\n",
       "      <td>0</td>\n",
       "    </tr>\n",
       "    <tr>\n",
       "      <th>3</th>\n",
       "      <td>30.0</td>\n",
       "      <td>2.833213</td>\n",
       "      <td>30.0</td>\n",
       "      <td>7.3</td>\n",
       "      <td>1.098612</td>\n",
       "      <td>2.906901</td>\n",
       "      <td>0</td>\n",
       "      <td>9.437396</td>\n",
       "      <td>2.197225</td>\n",
       "      <td>1.791759</td>\n",
       "      <td>3.401197</td>\n",
       "      <td>4</td>\n",
       "      <td>3</td>\n",
       "      <td>5.937536</td>\n",
       "      <td>1</td>\n",
       "      <td>3.988984</td>\n",
       "      <td>1</td>\n",
       "      <td>0</td>\n",
       "      <td>1</td>\n",
       "      <td>1</td>\n",
       "      <td>0</td>\n",
       "      <td>0</td>\n",
       "      <td>1</td>\n",
       "      <td>0</td>\n",
       "      <td>1</td>\n",
       "      <td>0</td>\n",
       "    </tr>\n",
       "    <tr>\n",
       "      <th>4</th>\n",
       "      <td>50.0</td>\n",
       "      <td>0.000000</td>\n",
       "      <td>169.0</td>\n",
       "      <td>1.0</td>\n",
       "      <td>1.308333</td>\n",
       "      <td>3.799974</td>\n",
       "      <td>4</td>\n",
       "      <td>8.880864</td>\n",
       "      <td>3.951244</td>\n",
       "      <td>2.197225</td>\n",
       "      <td>4.025352</td>\n",
       "      <td>1</td>\n",
       "      <td>1</td>\n",
       "      <td>5.765191</td>\n",
       "      <td>0</td>\n",
       "      <td>6.025866</td>\n",
       "      <td>0</td>\n",
       "      <td>0</td>\n",
       "      <td>1</td>\n",
       "      <td>0</td>\n",
       "      <td>0</td>\n",
       "      <td>0</td>\n",
       "      <td>1</td>\n",
       "      <td>0</td>\n",
       "      <td>1</td>\n",
       "      <td>0</td>\n",
       "    </tr>\n",
       "    <tr>\n",
       "      <th>...</th>\n",
       "      <td>...</td>\n",
       "      <td>...</td>\n",
       "      <td>...</td>\n",
       "      <td>...</td>\n",
       "      <td>...</td>\n",
       "      <td>...</td>\n",
       "      <td>...</td>\n",
       "      <td>...</td>\n",
       "      <td>...</td>\n",
       "      <td>...</td>\n",
       "      <td>...</td>\n",
       "      <td>...</td>\n",
       "      <td>...</td>\n",
       "      <td>...</td>\n",
       "      <td>...</td>\n",
       "      <td>...</td>\n",
       "      <td>...</td>\n",
       "      <td>...</td>\n",
       "      <td>...</td>\n",
       "      <td>...</td>\n",
       "      <td>...</td>\n",
       "      <td>...</td>\n",
       "      <td>...</td>\n",
       "      <td>...</td>\n",
       "      <td>...</td>\n",
       "      <td>...</td>\n",
       "    </tr>\n",
       "    <tr>\n",
       "      <th>19995</th>\n",
       "      <td>88.0</td>\n",
       "      <td>0.693147</td>\n",
       "      <td>0.0</td>\n",
       "      <td>0.0</td>\n",
       "      <td>2.564949</td>\n",
       "      <td>2.791165</td>\n",
       "      <td>0</td>\n",
       "      <td>8.151045</td>\n",
       "      <td>2.302585</td>\n",
       "      <td>1.386294</td>\n",
       "      <td>2.995732</td>\n",
       "      <td>3</td>\n",
       "      <td>3</td>\n",
       "      <td>6.366470</td>\n",
       "      <td>1</td>\n",
       "      <td>5.463832</td>\n",
       "      <td>0</td>\n",
       "      <td>0</td>\n",
       "      <td>0</td>\n",
       "      <td>0</td>\n",
       "      <td>0</td>\n",
       "      <td>0</td>\n",
       "      <td>1</td>\n",
       "      <td>0</td>\n",
       "      <td>0</td>\n",
       "      <td>1</td>\n",
       "    </tr>\n",
       "    <tr>\n",
       "      <th>19996</th>\n",
       "      <td>45.0</td>\n",
       "      <td>1.098612</td>\n",
       "      <td>-4.0</td>\n",
       "      <td>-0.3</td>\n",
       "      <td>0.000000</td>\n",
       "      <td>1.098612</td>\n",
       "      <td>0</td>\n",
       "      <td>9.233764</td>\n",
       "      <td>0.000000</td>\n",
       "      <td>0.000000</td>\n",
       "      <td>3.218876</td>\n",
       "      <td>0</td>\n",
       "      <td>1</td>\n",
       "      <td>3.044522</td>\n",
       "      <td>1</td>\n",
       "      <td>6.658011</td>\n",
       "      <td>0</td>\n",
       "      <td>0</td>\n",
       "      <td>0</td>\n",
       "      <td>0</td>\n",
       "      <td>0</td>\n",
       "      <td>0</td>\n",
       "      <td>1</td>\n",
       "      <td>0</td>\n",
       "      <td>1</td>\n",
       "      <td>0</td>\n",
       "    </tr>\n",
       "    <tr>\n",
       "      <th>19997</th>\n",
       "      <td>45.0</td>\n",
       "      <td>1.098612</td>\n",
       "      <td>-4.0</td>\n",
       "      <td>-0.3</td>\n",
       "      <td>0.000000</td>\n",
       "      <td>0.000000</td>\n",
       "      <td>0</td>\n",
       "      <td>7.896925</td>\n",
       "      <td>0.693147</td>\n",
       "      <td>0.000000</td>\n",
       "      <td>2.564949</td>\n",
       "      <td>1</td>\n",
       "      <td>1</td>\n",
       "      <td>4.779123</td>\n",
       "      <td>1</td>\n",
       "      <td>6.658011</td>\n",
       "      <td>0</td>\n",
       "      <td>0</td>\n",
       "      <td>0</td>\n",
       "      <td>0</td>\n",
       "      <td>0</td>\n",
       "      <td>0</td>\n",
       "      <td>1</td>\n",
       "      <td>0</td>\n",
       "      <td>1</td>\n",
       "      <td>0</td>\n",
       "    </tr>\n",
       "    <tr>\n",
       "      <th>19998</th>\n",
       "      <td>45.0</td>\n",
       "      <td>1.098612</td>\n",
       "      <td>-4.0</td>\n",
       "      <td>-0.3</td>\n",
       "      <td>2.995732</td>\n",
       "      <td>3.321432</td>\n",
       "      <td>4</td>\n",
       "      <td>5.950643</td>\n",
       "      <td>3.583519</td>\n",
       "      <td>1.386294</td>\n",
       "      <td>2.302585</td>\n",
       "      <td>0</td>\n",
       "      <td>1</td>\n",
       "      <td>6.549651</td>\n",
       "      <td>1</td>\n",
       "      <td>3.637586</td>\n",
       "      <td>0</td>\n",
       "      <td>0</td>\n",
       "      <td>0</td>\n",
       "      <td>0</td>\n",
       "      <td>0</td>\n",
       "      <td>0</td>\n",
       "      <td>3</td>\n",
       "      <td>0</td>\n",
       "      <td>1</td>\n",
       "      <td>0</td>\n",
       "    </tr>\n",
       "    <tr>\n",
       "      <th>19999</th>\n",
       "      <td>45.0</td>\n",
       "      <td>1.098612</td>\n",
       "      <td>-4.0</td>\n",
       "      <td>-0.3</td>\n",
       "      <td>1.386294</td>\n",
       "      <td>2.587764</td>\n",
       "      <td>0</td>\n",
       "      <td>9.076352</td>\n",
       "      <td>2.079442</td>\n",
       "      <td>0.000000</td>\n",
       "      <td>3.332205</td>\n",
       "      <td>1</td>\n",
       "      <td>1</td>\n",
       "      <td>7.229839</td>\n",
       "      <td>2</td>\n",
       "      <td>6.734592</td>\n",
       "      <td>1</td>\n",
       "      <td>0</td>\n",
       "      <td>1</td>\n",
       "      <td>0</td>\n",
       "      <td>0</td>\n",
       "      <td>0</td>\n",
       "      <td>4</td>\n",
       "      <td>0</td>\n",
       "      <td>1</td>\n",
       "      <td>0</td>\n",
       "    </tr>\n",
       "  </tbody>\n",
       "</table>\n",
       "<p>20000 rows × 26 columns</p>\n",
       "</div>"
      ],
      "text/plain": [
       "       commitment_msc  roaming_calls  procentowa_zmiana_min  \\\n",
       "0                37.0       3.178054                  532.0   \n",
       "1                72.0       0.000000                   38.0   \n",
       "2                50.0       6.042633                  198.0   \n",
       "3                30.0       2.833213                   30.0   \n",
       "4                50.0       0.000000                  169.0   \n",
       "...               ...            ...                    ...   \n",
       "19995            88.0       0.693147                    0.0   \n",
       "19996            45.0       1.098612                   -4.0   \n",
       "19997            45.0       1.098612                   -4.0   \n",
       "19998            45.0       1.098612                   -4.0   \n",
       "19999            45.0       1.098612                   -4.0   \n",
       "\n",
       "       procentowa_zmiana_reve  dropped_calls  polaczenia_nieodebrane  \\\n",
       "0                        51.0       2.230014                4.131961   \n",
       "1                         0.0       2.370244                4.356709   \n",
       "2                        23.3       2.617396                5.176150   \n",
       "3                         7.3       1.098612                2.906901   \n",
       "4                         1.0       1.308333                3.799974   \n",
       "...                       ...            ...                     ...   \n",
       "19995                     0.0       2.564949                2.791165   \n",
       "19996                    -0.3       0.000000                1.098612   \n",
       "19997                    -0.3       0.000000                0.000000   \n",
       "19998                    -0.3       2.995732                3.321432   \n",
       "19999                    -0.3       1.386294                2.587764   \n",
       "\n",
       "       rozmowy_obs_kli_ilosc  usage_data_MB  liczba_polaczen_out  \\\n",
       "0                          2       8.764366             3.850148   \n",
       "1                          9       9.886341             2.772589   \n",
       "2                         11       9.806316             4.644391   \n",
       "3                          0       9.437396             2.197225   \n",
       "4                          4       8.880864             3.951244   \n",
       "...                      ...            ...                  ...   \n",
       "19995                      0       8.151045             2.302585   \n",
       "19996                      0       9.233764             0.000000   \n",
       "19997                      0       7.896925             0.693147   \n",
       "19998                      4       5.950643             3.583519   \n",
       "19999                      0       9.076352             2.079442   \n",
       "\n",
       "       liczba_polaczen_in  staz_klienta  liczba_msc_do_konca_umowy  \\\n",
       "0                1.945910      4.700480                          1   \n",
       "1                0.693147      3.871201                          0   \n",
       "2                0.000000      4.060443                          1   \n",
       "3                1.791759      3.401197                          4   \n",
       "4                2.197225      4.025352                          1   \n",
       "...                   ...           ...                        ...   \n",
       "19995            1.386294      2.995732                          3   \n",
       "19996            0.000000      3.218876                          0   \n",
       "19997            0.000000      2.564949                          1   \n",
       "19998            1.386294      2.302585                          0   \n",
       "19999            0.000000      3.332205                          1   \n",
       "\n",
       "       liczba_kontrakow      CODE  rodzaj_terminala  \\\n",
       "0                     1  6.436150                 2   \n",
       "1                     1  6.683361                 1   \n",
       "2                     1  6.003887                 2   \n",
       "3                     3  5.937536                 1   \n",
       "4                     1  5.765191                 0   \n",
       "...                 ...       ...               ...   \n",
       "19995                 3  6.366470                 1   \n",
       "19996                 1  3.044522                 1   \n",
       "19997                 1  4.779123                 1   \n",
       "19998                 1  6.549651                 1   \n",
       "19999                 1  7.229839                 2   \n",
       "\n",
       "       ile_dni_kli_ma_obecny_terminal  czy_klient_kupowal_na_raty  \\\n",
       "0                            5.505332                           0   \n",
       "1                            6.086775                           0   \n",
       "2                            6.559615                           0   \n",
       "3                            3.988984                           1   \n",
       "4                            6.025866                           0   \n",
       "...                               ...                         ...   \n",
       "19995                        5.463832                           0   \n",
       "19996                        6.658011                           0   \n",
       "19997                        6.658011                           0   \n",
       "19998                        3.637586                           0   \n",
       "19999                        6.734592                           1   \n",
       "\n",
       "       czy_klient_ma_oferte_SIM_only  czy_klient_skladal_reklamacje  \\\n",
       "0                                  0                              1   \n",
       "1                                  0                              0   \n",
       "2                                  0                              0   \n",
       "3                                  0                              1   \n",
       "4                                  0                              1   \n",
       "...                              ...                            ...   \n",
       "19995                              0                              0   \n",
       "19996                              0                              0   \n",
       "19997                              0                              0   \n",
       "19998                              0                              0   \n",
       "19999                              0                              1   \n",
       "\n",
       "       czy_klient_byl_windykowany  telefon_utrzymaniowy  \\\n",
       "0                               0                     0   \n",
       "1                               0                     0   \n",
       "2                               0                     0   \n",
       "3                               1                     0   \n",
       "4                               0                     0   \n",
       "...                           ...                   ...   \n",
       "19995                           0                     0   \n",
       "19996                           0                     0   \n",
       "19997                           0                     0   \n",
       "19998                           0                     0   \n",
       "19999                           0                     0   \n",
       "\n",
       "       akceptacja_oferty_utrzymaniowej  credit_scoring  wiek_22  58_wiek_23  \\\n",
       "0                                    0               5        0           1   \n",
       "1                                    0               1        0           1   \n",
       "2                                    0               3        0           1   \n",
       "3                                    0               1        0           1   \n",
       "4                                    0               1        0           1   \n",
       "...                                ...             ...      ...         ...   \n",
       "19995                                0               1        0           0   \n",
       "19996                                0               1        0           1   \n",
       "19997                                0               1        0           1   \n",
       "19998                                0               3        0           1   \n",
       "19999                                0               4        0           1   \n",
       "\n",
       "       wiek_59plus  \n",
       "0                0  \n",
       "1                0  \n",
       "2                0  \n",
       "3                0  \n",
       "4                0  \n",
       "...            ...  \n",
       "19995            1  \n",
       "19996            0  \n",
       "19997            0  \n",
       "19998            0  \n",
       "19999            0  \n",
       "\n",
       "[20000 rows x 26 columns]"
      ]
     },
     "execution_count": 71,
     "metadata": {},
     "output_type": "execute_result"
    }
   ],
   "source": [
    "transformacja_wieku(df_train_logarithmed)\n",
    "transformacja_wieku(df_test_logarithmed)"
   ]
  },
  {
   "cell_type": "markdown",
   "metadata": {},
   "source": [
    "#### Dummy variables"
   ]
  },
  {
   "cell_type": "code",
   "execution_count": 72,
   "metadata": {},
   "outputs": [],
   "source": [
    "df_train_final = df_train_logarithmed\n",
    "df_test_final = df_test_logarithmed"
   ]
  },
  {
   "cell_type": "code",
   "execution_count": 73,
   "metadata": {
    "scrolled": true
   },
   "outputs": [
    {
     "name": "stdout",
     "output_type": "stream",
     "text": [
      "(50931, 27)\n",
      "(20000, 26)\n"
     ]
    }
   ],
   "source": [
    "print(df_train_final.shape)\n",
    "print(df_test_final.shape)"
   ]
  },
  {
   "cell_type": "markdown",
   "metadata": {},
   "source": [
    "# Modelowanie"
   ]
  },
  {
   "cell_type": "markdown",
   "metadata": {},
   "source": [
    "Uzyje danych treningowych jako dane treningowe i walidacyjne "
   ]
  },
  {
   "cell_type": "code",
   "execution_count": 74,
   "metadata": {},
   "outputs": [],
   "source": [
    "X = df_train_final.drop(['Churn'],axis = 1)\n",
    "y = df_train_final['Churn']"
   ]
  },
  {
   "cell_type": "markdown",
   "metadata": {},
   "source": [
    "## Podstawowe modele Klasyfikacyjne"
   ]
  },
  {
   "cell_type": "code",
   "execution_count": 75,
   "metadata": {},
   "outputs": [],
   "source": [
    "skf = StratifiedKFold(n_splits=5, shuffle=True, random_state=0)"
   ]
  },
  {
   "cell_type": "code",
   "execution_count": 76,
   "metadata": {
    "scrolled": false
   },
   "outputs": [
    {
     "name": "stderr",
     "output_type": "stream",
     "text": [
      "100%|██████████| 6/6 [03:17<00:00, 32.92s/it]\n"
     ]
    },
    {
     "data": {
      "text/html": [
       "<div>\n",
       "<style scoped>\n",
       "    .dataframe tbody tr th:only-of-type {\n",
       "        vertical-align: middle;\n",
       "    }\n",
       "\n",
       "    .dataframe tbody tr th {\n",
       "        vertical-align: top;\n",
       "    }\n",
       "\n",
       "    .dataframe thead th {\n",
       "        text-align: right;\n",
       "    }\n",
       "</style>\n",
       "<table border=\"1\" class=\"dataframe\">\n",
       "  <thead>\n",
       "    <tr style=\"text-align: right;\">\n",
       "      <th></th>\n",
       "      <th>Algorithm</th>\n",
       "      <th>F1 Score Mean</th>\n",
       "      <th>F1 Score Std</th>\n",
       "      <th>Recall Mean</th>\n",
       "      <th>Precision Mean</th>\n",
       "    </tr>\n",
       "  </thead>\n",
       "  <tbody>\n",
       "    <tr>\n",
       "      <th>0</th>\n",
       "      <td>Logistic Regression</td>\n",
       "      <td>44.68</td>\n",
       "      <td>0.22</td>\n",
       "      <td>59.70</td>\n",
       "      <td>35.70</td>\n",
       "    </tr>\n",
       "    <tr>\n",
       "      <th>5</th>\n",
       "      <td>XGBoost</td>\n",
       "      <td>44.29</td>\n",
       "      <td>0.63</td>\n",
       "      <td>52.90</td>\n",
       "      <td>38.09</td>\n",
       "    </tr>\n",
       "    <tr>\n",
       "      <th>3</th>\n",
       "      <td>Decision Tree Classifier</td>\n",
       "      <td>33.38</td>\n",
       "      <td>1.11</td>\n",
       "      <td>33.40</td>\n",
       "      <td>33.37</td>\n",
       "    </tr>\n",
       "    <tr>\n",
       "      <th>1</th>\n",
       "      <td>KNN</td>\n",
       "      <td>23.12</td>\n",
       "      <td>0.57</td>\n",
       "      <td>17.66</td>\n",
       "      <td>33.48</td>\n",
       "    </tr>\n",
       "    <tr>\n",
       "      <th>2</th>\n",
       "      <td>Gaussian NB</td>\n",
       "      <td>17.04</td>\n",
       "      <td>1.30</td>\n",
       "      <td>10.89</td>\n",
       "      <td>39.35</td>\n",
       "    </tr>\n",
       "    <tr>\n",
       "      <th>4</th>\n",
       "      <td>Random Forest</td>\n",
       "      <td>10.34</td>\n",
       "      <td>0.54</td>\n",
       "      <td>5.72</td>\n",
       "      <td>54.08</td>\n",
       "    </tr>\n",
       "  </tbody>\n",
       "</table>\n",
       "</div>"
      ],
      "text/plain": [
       "                  Algorithm  F1 Score Mean  F1 Score Std  Recall Mean  \\\n",
       "0       Logistic Regression          44.68          0.22        59.70   \n",
       "5                   XGBoost          44.29          0.63        52.90   \n",
       "3  Decision Tree Classifier          33.38          1.11        33.40   \n",
       "1                       KNN          23.12          0.57        17.66   \n",
       "2               Gaussian NB          17.04          1.30        10.89   \n",
       "4             Random Forest          10.34          0.54         5.72   \n",
       "\n",
       "   Precision Mean  \n",
       "0           35.70  \n",
       "5           38.09  \n",
       "3           33.37  \n",
       "1           33.48  \n",
       "2           39.35  \n",
       "4           54.08  "
      ]
     },
     "execution_count": 76,
     "metadata": {},
     "output_type": "execute_result"
    }
   ],
   "source": [
    "scores = []\n",
    "names = []\n",
    "models = []\n",
    "\n",
    "models.append(('Logistic Regression', LogisticRegression(solver='liblinear', random_state = 0,class_weight='balanced')))\n",
    "models.append(('KNN', KNeighborsClassifier(n_neighbors = 5)))\n",
    "models.append(('Gaussian NB', GaussianNB()))\n",
    "models.append(('Decision Tree Classifier', DecisionTreeClassifier(class_weight='balanced',random_state = 0)))\n",
    "models.append(('Random Forest', RandomForestClassifier(class_weight='balanced',random_state=0)))\n",
    "models.append(('XGBoost', XGBClassifier(scale_pos_weight = y[y==0].count()/y[y==1].count(),\n",
    "                                        use_label_encoder=False, objective='binary:logistic',verbosity = 0)))\n",
    "\n",
    "col = ['Algorithm','F1 Score Mean', 'F1 Score Std', 'Recall Mean', 'Precision Mean']\n",
    "model_results = pd.DataFrame(columns=col)\n",
    "\n",
    "i = 0\n",
    "\n",
    "# Oceniam model metrykami F1,Precision,Recall przy uzyciu stratified k-fold:\n",
    "for name, model in tqdm(models):    \n",
    "\n",
    "    f1_results = []\n",
    "    recall_results = []\n",
    "    precision_results = []\n",
    "\n",
    "    #scores = []\n",
    "    for train_idx, test_idx in skf.split(X,y):\n",
    "        scaler = MinMaxScaler()\n",
    "        \n",
    "        X_train, X_test = X.iloc[train_idx], X.iloc[test_idx]\n",
    "        y_train, y_test = y.iloc[train_idx], y.iloc[test_idx]\n",
    "\n",
    "        X_train_normalized = scaler.fit_transform(X_train)\n",
    "        X_test_normalized = scaler.transform(X_test)\n",
    "        \n",
    "        model.fit(X_train_normalized, y_train)\n",
    "        y_pred = model.predict(X_test_normalized)\n",
    "        \n",
    "        # F1 score\n",
    "        f1_score_ = f1_score(y_test, y_pred)\n",
    "        \n",
    "        # Recall score - proporcja klientow ktorzy zostali pozytywnie zidentyfikowani ze odejda\n",
    "        # do klientow ktorzy faktycznie odeszli \n",
    "        recall_score_ = recall_score(y_test, y_pred)\n",
    "        \n",
    "        # Precision score - proporcja klientow ktorzy zostali pozytywnie zidentyfikowani ze odejda \n",
    "        # do wszystkich ktorych tak zidentyfikowalismy\n",
    "        precision_score_ = precision_score(y_test, y_pred)\n",
    "        \n",
    "        \n",
    "        f1_results.append(f1_score_)\n",
    "        recall_results.append(recall_score_)\n",
    "        precision_results.append(precision_score_)\n",
    "    \n",
    "    names.append(name)    \n",
    "    scores.append(f1_results)\n",
    "    model_results.loc[i] = [name,\n",
    "                            round(np.mean(f1_results)*100, 2),\n",
    "                            round(np.std(f1_results)*100, 2),\n",
    "                            round(np.mean(recall_results)*100, 2),\n",
    "                            round(np.mean(precision_results)*100, 2)]\n",
    "    i += 1\n",
    "\n",
    "model_results.sort_values(by=['F1 Score Mean'], ascending=False)"
   ]
  },
  {
   "cell_type": "code",
   "execution_count": 77,
   "metadata": {},
   "outputs": [
    {
     "data": {
      "image/png": "[encoded data removed]",
      "text/plain": [
       "<Figure size 1080x504 with 1 Axes>"
      ]
     },
     "metadata": {
      "needs_background": "light"
     },
     "output_type": "display_data"
    }
   ],
   "source": [
    "fig = plt.figure(figsize=(15, 7))\n",
    "ax = fig.add_subplot(111)\n",
    "plt.boxplot(scores)\n",
    "ax.set_xticklabels(names)\n",
    "\n",
    "plt.title('Porownanie metryki F1 pomiedzy modelami\\n',horizontalalignment=\"center\", fontstyle = \"normal\", fontsize = \"22\", fontfamily = \"sans-serif\")\n",
    "plt.xticks(rotation=0, horizontalalignment=\"center\")\n",
    "plt.yticks(rotation=0, horizontalalignment=\"right\")\n",
    "plt.show()"
   ]
  },
  {
   "cell_type": "markdown",
   "metadata": {},
   "source": [
    " XGBoost wraz z Regresja Logistyczna osiagnely najlepsze wyniki sposrod wszystkich algorytmow."
   ]
  },
  {
   "cell_type": "markdown",
   "metadata": {},
   "source": [
    "### Znalezienie optymalnej liczby k sadiadow w KNN "
   ]
  },
  {
   "cell_type": "code",
   "execution_count": 80,
   "metadata": {
    "scrolled": true
   },
   "outputs": [
    {
     "name": "stderr",
     "output_type": "stream",
     "text": [
      "100%|██████████| 9/9 [02:52<00:00, 19.12s/it]\n"
     ]
    },
    {
     "data": {
      "image/png": "[encoded data removed]",
      "text/plain": [
       "<Figure size 1080x504 with 1 Axes>"
      ]
     },
     "metadata": {
      "needs_background": "light"
     },
     "output_type": "display_data"
    }
   ],
   "source": [
    "f1_array = []\n",
    "for k in tqdm(range(1,10)):\n",
    "    knn_loop = KNeighborsClassifier(n_neighbors = k) \n",
    "    knn_loop.fit(X_train_normalized,y_train)\n",
    "    y_pred = knn_loop.predict(X_test_normalized)\n",
    "    \n",
    "    f1_array.append(f1_score(y_test, y_pred))\n",
    "    \n",
    "fig = plt.figure(figsize=(15, 7))\n",
    "plt.plot(range(1,10),f1_array, color = '#ec838a')\n",
    "plt.ylabel('Metryka F1\\n',horizontalalignment=\"center\",fontstyle = \"normal\", fontsize = \"large\", fontfamily = \"sans-serif\")\n",
    "plt.xlabel('Liczba sasiadow\\n',horizontalalignment=\"center\",fontstyle = \"normal\", fontsize = \"large\",fontfamily = \"sans-serif\")\n",
    "plt.title('Optymalna liczba k sasiadow \\n',horizontalalignment=\"center\", fontstyle = \"normal\",fontsize = \"22\", fontfamily = \"sans-serif\")\n",
    "plt.xticks(rotation=0, horizontalalignment=\"center\")\n",
    "plt.yticks(rotation=0, horizontalalignment=\"right\")\n",
    "plt.show()"
   ]
  },
  {
   "cell_type": "markdown",
   "metadata": {},
   "source": [
    "Optymalna ilosc sadiadow wynosi 1."
   ]
  },
  {
   "cell_type": "markdown",
   "metadata": {},
   "source": [
    "### Znalezienie optymalnej liczby drzew dla XGBoost"
   ]
  },
  {
   "cell_type": "code",
   "execution_count": 61,
   "metadata": {},
   "outputs": [
    {
     "name": "stderr",
     "output_type": "stream",
     "text": [
      "100%|██████████| 30/30 [02:54<00:00,  5.83s/it]\n"
     ]
    },
    {
     "data": {
      "image/png": "[encoded data removed]",
      "text/plain": [
       "<Figure size 1080x504 with 1 Axes>"
      ]
     },
     "metadata": {
      "needs_background": "light"
     },
     "output_type": "display_data"
    }
   ],
   "source": [
    "f1_array = []\n",
    "for n in tqdm(range(10,301,10)):\n",
    "    xgb_loop = XGBClassifier(n_estimators = n,learning_rate = 0.01,scale_pos_weight = y[y==0].count()/y[y==1].count(),\n",
    "                  use_label_encoder=False, objective='binary:logistic',verbosity = 0) \n",
    "    xgb_loop.fit(X_train_normalized,y_train)\n",
    "    y_pred = xgb_loop.predict(X_test_normalized)\n",
    "    \n",
    "    f1_array.append(f1_score(y_test, y_pred))\n",
    "    \n",
    "fig = plt.figure(figsize=(15, 7))\n",
    "plt.plot(range(10,301,10),f1_array, color = '#ec838a')\n",
    "plt.ylabel('Metryka F1\\n',horizontalalignment=\"center\",fontstyle = \"normal\", fontsize = \"large\", fontfamily = \"sans-serif\")\n",
    "plt.xlabel('Liczba drzew\\n',horizontalalignment=\"center\",fontstyle = \"normal\", fontsize = \"large\",fontfamily = \"sans-serif\")\n",
    "plt.title('Optymalna liczba n drzew \\n',horizontalalignment=\"center\", fontstyle = \"normal\",fontsize = \"22\", fontfamily = \"sans-serif\")\n",
    "plt.xticks(rotation=0, horizontalalignment=\"center\")\n",
    "plt.yticks(rotation=0, horizontalalignment=\"right\")\n",
    "plt.show()"
   ]
  },
  {
   "cell_type": "markdown",
   "metadata": {},
   "source": [
    "Optymalna liczba drzew wynosi 60"
   ]
  },
  {
   "cell_type": "markdown",
   "metadata": {},
   "source": [
    "#### WNIOSEK:\n",
    "- XGBoost wraz z Regresja Logistyczna uzyskaly najlepsze wyniki F1. W dalszej częsci skupie się tylko na XGBoost, jednak mozna rowniez zoptymalizowac model regresji logistycznej jak i inne modele"
   ]
  },
  {
   "cell_type": "markdown",
   "metadata": {},
   "source": [
    "### Sprawdzenie waznosci cech (Feature Importance) dla modelu XGBoost"
   ]
  },
  {
   "cell_type": "code",
   "execution_count": 62,
   "metadata": {},
   "outputs": [],
   "source": [
    "scaler = MinMaxScaler()\n",
    "\n",
    "X_train = scaler.fit_transform(X)\n",
    "y_train = y"
   ]
  },
  {
   "cell_type": "code",
   "execution_count": 63,
   "metadata": {},
   "outputs": [
    {
     "data": {
      "text/plain": [
       "XGBClassifier(base_score=0.5, booster='gbtree', colsample_bylevel=1,\n",
       "              colsample_bynode=1, colsample_bytree=1, enable_categorical=False,\n",
       "              gamma=0, gpu_id=-1, importance_type=None,\n",
       "              interaction_constraints='', learning_rate=0.300000012,\n",
       "              max_delta_step=0, max_depth=6, min_child_weight=1, missing=nan,\n",
       "              monotone_constraints='()', n_estimators=100, n_jobs=12,\n",
       "              num_parallel_tree=1, predictor='auto', random_state=0,\n",
       "              reg_alpha=0, reg_lambda=1, scale_pos_weight=2.4677606046163274,\n",
       "              subsample=1, tree_method='exact', use_label_encoder=False,\n",
       "              validate_parameters=1, verbosity=0)"
      ]
     },
     "execution_count": 63,
     "metadata": {},
     "output_type": "execute_result"
    }
   ],
   "source": [
    "m = XGBClassifier(n_estimators = 60,scale_pos_weight = y[y==0].count()/y[y==1].count(),learning_rate = 0.01,\n",
    "                  use_label_encoder=False, objective='binary:logistic',verbosity = 0)\n",
    "m.fit(X_train,y_train)"
   ]
  },
  {
   "cell_type": "code",
   "execution_count": 64,
   "metadata": {
    "scrolled": false
   },
   "outputs": [
    {
     "data": {
      "text/html": [
       "\n",
       "    <style>\n",
       "    table.eli5-weights tr:hover {\n",
       "        filter: brightness(85%);\n",
       "    }\n",
       "</style>\n",
       "\n",
       "\n",
       "\n",
       "    \n",
       "\n",
       "    \n",
       "\n",
       "    \n",
       "\n",
       "    \n",
       "\n",
       "    \n",
       "\n",
       "    \n",
       "\n",
       "\n",
       "    \n",
       "\n",
       "    \n",
       "\n",
       "    \n",
       "\n",
       "    \n",
       "\n",
       "    \n",
       "\n",
       "    \n",
       "\n",
       "\n",
       "    \n",
       "\n",
       "    \n",
       "\n",
       "    \n",
       "\n",
       "    \n",
       "\n",
       "    \n",
       "        <table class=\"eli5-weights eli5-feature-importances\" style=\"border-collapse: collapse; border: none; margin-top: 0em; table-layout: auto;\">\n",
       "    <thead>\n",
       "    <tr style=\"border: none;\">\n",
       "        <th style=\"padding: 0 1em 0 0.5em; text-align: right; border: none;\">Weight</th>\n",
       "        <th style=\"padding: 0 0.5em 0 0.5em; text-align: left; border: none;\">Feature</th>\n",
       "    </tr>\n",
       "    </thead>\n",
       "    <tbody>\n",
       "    \n",
       "        <tr style=\"background-color: hsl(120, 100.00%, 80.00%); border: none;\">\n",
       "            <td style=\"padding: 0 1em 0 0.5em; text-align: right; border: none;\">\n",
       "                0.0676\n",
       "                \n",
       "                    &plusmn; 0.0038\n",
       "                \n",
       "            </td>\n",
       "            <td style=\"padding: 0 0.5em 0 0.5em; text-align: left; border: none;\">\n",
       "                ile_dni_kli_ma_obecny_terminal\n",
       "            </td>\n",
       "        </tr>\n",
       "    \n",
       "        <tr style=\"background-color: hsl(120, 100.00%, 84.54%); border: none;\">\n",
       "            <td style=\"padding: 0 1em 0 0.5em; text-align: right; border: none;\">\n",
       "                0.0468\n",
       "                \n",
       "                    &plusmn; 0.0019\n",
       "                \n",
       "            </td>\n",
       "            <td style=\"padding: 0 0.5em 0 0.5em; text-align: left; border: none;\">\n",
       "                procentowa_zmiana_min\n",
       "            </td>\n",
       "        </tr>\n",
       "    \n",
       "        <tr style=\"background-color: hsl(120, 100.00%, 87.93%); border: none;\">\n",
       "            <td style=\"padding: 0 1em 0 0.5em; text-align: right; border: none;\">\n",
       "                0.0328\n",
       "                \n",
       "                    &plusmn; 0.0026\n",
       "                \n",
       "            </td>\n",
       "            <td style=\"padding: 0 0.5em 0 0.5em; text-align: left; border: none;\">\n",
       "                commitment_msc\n",
       "            </td>\n",
       "        </tr>\n",
       "    \n",
       "        <tr style=\"background-color: hsl(120, 100.00%, 88.01%); border: none;\">\n",
       "            <td style=\"padding: 0 1em 0 0.5em; text-align: right; border: none;\">\n",
       "                0.0325\n",
       "                \n",
       "                    &plusmn; 0.0026\n",
       "                \n",
       "            </td>\n",
       "            <td style=\"padding: 0 0.5em 0 0.5em; text-align: left; border: none;\">\n",
       "                usage_data_MB\n",
       "            </td>\n",
       "        </tr>\n",
       "    \n",
       "        <tr style=\"background-color: hsl(120, 100.00%, 88.80%); border: none;\">\n",
       "            <td style=\"padding: 0 1em 0 0.5em; text-align: right; border: none;\">\n",
       "                0.0295\n",
       "                \n",
       "                    &plusmn; 0.0035\n",
       "                \n",
       "            </td>\n",
       "            <td style=\"padding: 0 0.5em 0 0.5em; text-align: left; border: none;\">\n",
       "                procentowa_zmiana_reve\n",
       "            </td>\n",
       "        </tr>\n",
       "    \n",
       "        <tr style=\"background-color: hsl(120, 100.00%, 89.27%); border: none;\">\n",
       "            <td style=\"padding: 0 1em 0 0.5em; text-align: right; border: none;\">\n",
       "                0.0277\n",
       "                \n",
       "                    &plusmn; 0.0014\n",
       "                \n",
       "            </td>\n",
       "            <td style=\"padding: 0 0.5em 0 0.5em; text-align: left; border: none;\">\n",
       "                dropped_calls\n",
       "            </td>\n",
       "        </tr>\n",
       "    \n",
       "        <tr style=\"background-color: hsl(120, 100.00%, 89.61%); border: none;\">\n",
       "            <td style=\"padding: 0 1em 0 0.5em; text-align: right; border: none;\">\n",
       "                0.0265\n",
       "                \n",
       "                    &plusmn; 0.0013\n",
       "                \n",
       "            </td>\n",
       "            <td style=\"padding: 0 0.5em 0 0.5em; text-align: left; border: none;\">\n",
       "                CODE\n",
       "            </td>\n",
       "        </tr>\n",
       "    \n",
       "        <tr style=\"background-color: hsl(120, 100.00%, 89.65%); border: none;\">\n",
       "            <td style=\"padding: 0 1em 0 0.5em; text-align: right; border: none;\">\n",
       "                0.0264\n",
       "                \n",
       "                    &plusmn; 0.0007\n",
       "                \n",
       "            </td>\n",
       "            <td style=\"padding: 0 0.5em 0 0.5em; text-align: left; border: none;\">\n",
       "                polaczenia_nieodebrane\n",
       "            </td>\n",
       "        </tr>\n",
       "    \n",
       "        <tr style=\"background-color: hsl(120, 100.00%, 90.48%); border: none;\">\n",
       "            <td style=\"padding: 0 1em 0 0.5em; text-align: right; border: none;\">\n",
       "                0.0234\n",
       "                \n",
       "                    &plusmn; 0.0008\n",
       "                \n",
       "            </td>\n",
       "            <td style=\"padding: 0 0.5em 0 0.5em; text-align: left; border: none;\">\n",
       "                staz_klienta\n",
       "            </td>\n",
       "        </tr>\n",
       "    \n",
       "        <tr style=\"background-color: hsl(120, 100.00%, 91.02%); border: none;\">\n",
       "            <td style=\"padding: 0 1em 0 0.5em; text-align: right; border: none;\">\n",
       "                0.0215\n",
       "                \n",
       "                    &plusmn; 0.0013\n",
       "                \n",
       "            </td>\n",
       "            <td style=\"padding: 0 0.5em 0 0.5em; text-align: left; border: none;\">\n",
       "                roaming_calls\n",
       "            </td>\n",
       "        </tr>\n",
       "    \n",
       "        <tr style=\"background-color: hsl(120, 100.00%, 92.56%); border: none;\">\n",
       "            <td style=\"padding: 0 1em 0 0.5em; text-align: right; border: none;\">\n",
       "                0.0164\n",
       "                \n",
       "                    &plusmn; 0.0014\n",
       "                \n",
       "            </td>\n",
       "            <td style=\"padding: 0 0.5em 0 0.5em; text-align: left; border: none;\">\n",
       "                liczba_kontrakow\n",
       "            </td>\n",
       "        </tr>\n",
       "    \n",
       "        <tr style=\"background-color: hsl(120, 100.00%, 93.22%); border: none;\">\n",
       "            <td style=\"padding: 0 1em 0 0.5em; text-align: right; border: none;\">\n",
       "                0.0144\n",
       "                \n",
       "                    &plusmn; 0.0009\n",
       "                \n",
       "            </td>\n",
       "            <td style=\"padding: 0 0.5em 0 0.5em; text-align: left; border: none;\">\n",
       "                liczba_polaczen_in\n",
       "            </td>\n",
       "        </tr>\n",
       "    \n",
       "        <tr style=\"background-color: hsl(120, 100.00%, 93.35%); border: none;\">\n",
       "            <td style=\"padding: 0 1em 0 0.5em; text-align: right; border: none;\">\n",
       "                0.0140\n",
       "                \n",
       "                    &plusmn; 0.0029\n",
       "                \n",
       "            </td>\n",
       "            <td style=\"padding: 0 0.5em 0 0.5em; text-align: left; border: none;\">\n",
       "                liczba_polaczen_out\n",
       "            </td>\n",
       "        </tr>\n",
       "    \n",
       "        <tr style=\"background-color: hsl(120, 100.00%, 94.18%); border: none;\">\n",
       "            <td style=\"padding: 0 1em 0 0.5em; text-align: right; border: none;\">\n",
       "                0.0116\n",
       "                \n",
       "                    &plusmn; 0.0019\n",
       "                \n",
       "            </td>\n",
       "            <td style=\"padding: 0 0.5em 0 0.5em; text-align: left; border: none;\">\n",
       "                czy_klient_skladal_reklamacje\n",
       "            </td>\n",
       "        </tr>\n",
       "    \n",
       "        <tr style=\"background-color: hsl(120, 100.00%, 94.56%); border: none;\">\n",
       "            <td style=\"padding: 0 1em 0 0.5em; text-align: right; border: none;\">\n",
       "                0.0105\n",
       "                \n",
       "                    &plusmn; 0.0008\n",
       "                \n",
       "            </td>\n",
       "            <td style=\"padding: 0 0.5em 0 0.5em; text-align: left; border: none;\">\n",
       "                rozmowy_obs_kli_ilosc\n",
       "            </td>\n",
       "        </tr>\n",
       "    \n",
       "        <tr style=\"background-color: hsl(120, 100.00%, 95.83%); border: none;\">\n",
       "            <td style=\"padding: 0 1em 0 0.5em; text-align: right; border: none;\">\n",
       "                0.0072\n",
       "                \n",
       "                    &plusmn; 0.0005\n",
       "                \n",
       "            </td>\n",
       "            <td style=\"padding: 0 0.5em 0 0.5em; text-align: left; border: none;\">\n",
       "                telefon_utrzymaniowy\n",
       "            </td>\n",
       "        </tr>\n",
       "    \n",
       "        <tr style=\"background-color: hsl(120, 100.00%, 96.19%); border: none;\">\n",
       "            <td style=\"padding: 0 1em 0 0.5em; text-align: right; border: none;\">\n",
       "                0.0063\n",
       "                \n",
       "                    &plusmn; 0.0007\n",
       "                \n",
       "            </td>\n",
       "            <td style=\"padding: 0 0.5em 0 0.5em; text-align: left; border: none;\">\n",
       "                liczba_msc_do_konca_umowy\n",
       "            </td>\n",
       "        </tr>\n",
       "    \n",
       "        <tr style=\"background-color: hsl(120, 100.00%, 96.23%); border: none;\">\n",
       "            <td style=\"padding: 0 1em 0 0.5em; text-align: right; border: none;\">\n",
       "                0.0062\n",
       "                \n",
       "                    &plusmn; 0.0011\n",
       "                \n",
       "            </td>\n",
       "            <td style=\"padding: 0 0.5em 0 0.5em; text-align: left; border: none;\">\n",
       "                czy_klient_ma_oferte_SIM_only\n",
       "            </td>\n",
       "        </tr>\n",
       "    \n",
       "        <tr style=\"background-color: hsl(120, 100.00%, 96.54%); border: none;\">\n",
       "            <td style=\"padding: 0 1em 0 0.5em; text-align: right; border: none;\">\n",
       "                0.0055\n",
       "                \n",
       "                    &plusmn; 0.0012\n",
       "                \n",
       "            </td>\n",
       "            <td style=\"padding: 0 0.5em 0 0.5em; text-align: left; border: none;\">\n",
       "                credit_scoring_2\n",
       "            </td>\n",
       "        </tr>\n",
       "    \n",
       "        <tr style=\"background-color: hsl(120, 100.00%, 96.66%); border: none;\">\n",
       "            <td style=\"padding: 0 1em 0 0.5em; text-align: right; border: none;\">\n",
       "                0.0052\n",
       "                \n",
       "                    &plusmn; 0.0010\n",
       "                \n",
       "            </td>\n",
       "            <td style=\"padding: 0 0.5em 0 0.5em; text-align: left; border: none;\">\n",
       "                credit_scoring_5\n",
       "            </td>\n",
       "        </tr>\n",
       "    \n",
       "        <tr style=\"background-color: hsl(120, 100.00%, 97.42%); border: none;\">\n",
       "            <td style=\"padding: 0 1em 0 0.5em; text-align: right; border: none;\">\n",
       "                0.0036\n",
       "                \n",
       "                    &plusmn; 0.0006\n",
       "                \n",
       "            </td>\n",
       "            <td style=\"padding: 0 0.5em 0 0.5em; text-align: left; border: none;\">\n",
       "                wiek_59plus\n",
       "            </td>\n",
       "        </tr>\n",
       "    \n",
       "        <tr style=\"background-color: hsl(120, 100.00%, 97.65%); border: none;\">\n",
       "            <td style=\"padding: 0 1em 0 0.5em; text-align: right; border: none;\">\n",
       "                0.0032\n",
       "                \n",
       "                    &plusmn; 0.0006\n",
       "                \n",
       "            </td>\n",
       "            <td style=\"padding: 0 0.5em 0 0.5em; text-align: left; border: none;\">\n",
       "                rodzaj_terminala\n",
       "            </td>\n",
       "        </tr>\n",
       "    \n",
       "        <tr style=\"background-color: hsl(120, 100.00%, 97.98%); border: none;\">\n",
       "            <td style=\"padding: 0 1em 0 0.5em; text-align: right; border: none;\">\n",
       "                0.0026\n",
       "                \n",
       "                    &plusmn; 0.0003\n",
       "                \n",
       "            </td>\n",
       "            <td style=\"padding: 0 0.5em 0 0.5em; text-align: left; border: none;\">\n",
       "                credit_scoring_3\n",
       "            </td>\n",
       "        </tr>\n",
       "    \n",
       "        <tr style=\"background-color: hsl(120, 100.00%, 98.05%); border: none;\">\n",
       "            <td style=\"padding: 0 1em 0 0.5em; text-align: right; border: none;\">\n",
       "                0.0024\n",
       "                \n",
       "                    &plusmn; 0.0010\n",
       "                \n",
       "            </td>\n",
       "            <td style=\"padding: 0 0.5em 0 0.5em; text-align: left; border: none;\">\n",
       "                czy_klient_kupowal_na_raty\n",
       "            </td>\n",
       "        </tr>\n",
       "    \n",
       "        <tr style=\"background-color: hsl(120, 100.00%, 98.22%); border: none;\">\n",
       "            <td style=\"padding: 0 1em 0 0.5em; text-align: right; border: none;\">\n",
       "                0.0021\n",
       "                \n",
       "                    &plusmn; 0.0003\n",
       "                \n",
       "            </td>\n",
       "            <td style=\"padding: 0 0.5em 0 0.5em; text-align: left; border: none;\">\n",
       "                wiek_22\n",
       "            </td>\n",
       "        </tr>\n",
       "    \n",
       "        <tr style=\"background-color: hsl(120, 100.00%, 98.35%); border: none;\">\n",
       "            <td style=\"padding: 0 1em 0 0.5em; text-align: right; border: none;\">\n",
       "                0.0019\n",
       "                \n",
       "                    &plusmn; 0.0005\n",
       "                \n",
       "            </td>\n",
       "            <td style=\"padding: 0 0.5em 0 0.5em; text-align: left; border: none;\">\n",
       "                credit_scoring_7\n",
       "            </td>\n",
       "        </tr>\n",
       "    \n",
       "        <tr style=\"background-color: hsl(120, 100.00%, 98.37%); border: none;\">\n",
       "            <td style=\"padding: 0 1em 0 0.5em; text-align: right; border: none;\">\n",
       "                0.0019\n",
       "                \n",
       "                    &plusmn; 0.0003\n",
       "                \n",
       "            </td>\n",
       "            <td style=\"padding: 0 0.5em 0 0.5em; text-align: left; border: none;\">\n",
       "                credit_scoring_4\n",
       "            </td>\n",
       "        </tr>\n",
       "    \n",
       "        <tr style=\"background-color: hsl(120, 100.00%, 98.84%); border: none;\">\n",
       "            <td style=\"padding: 0 1em 0 0.5em; text-align: right; border: none;\">\n",
       "                0.0012\n",
       "                \n",
       "                    &plusmn; 0.0004\n",
       "                \n",
       "            </td>\n",
       "            <td style=\"padding: 0 0.5em 0 0.5em; text-align: left; border: none;\">\n",
       "                credit_scoring_1\n",
       "            </td>\n",
       "        </tr>\n",
       "    \n",
       "        <tr style=\"background-color: hsl(120, 100.00%, 98.96%); border: none;\">\n",
       "            <td style=\"padding: 0 1em 0 0.5em; text-align: right; border: none;\">\n",
       "                0.0010\n",
       "                \n",
       "                    &plusmn; 0.0005\n",
       "                \n",
       "            </td>\n",
       "            <td style=\"padding: 0 0.5em 0 0.5em; text-align: left; border: none;\">\n",
       "                credit_scoring_6\n",
       "            </td>\n",
       "        </tr>\n",
       "    \n",
       "        <tr style=\"background-color: hsl(120, 100.00%, 99.18%); border: none;\">\n",
       "            <td style=\"padding: 0 1em 0 0.5em; text-align: right; border: none;\">\n",
       "                0.0007\n",
       "                \n",
       "                    &plusmn; 0.0002\n",
       "                \n",
       "            </td>\n",
       "            <td style=\"padding: 0 0.5em 0 0.5em; text-align: left; border: none;\">\n",
       "                czy_klient_byl_windykowany\n",
       "            </td>\n",
       "        </tr>\n",
       "    \n",
       "        <tr style=\"background-color: hsl(120, 100.00%, 99.26%); border: none;\">\n",
       "            <td style=\"padding: 0 1em 0 0.5em; text-align: right; border: none;\">\n",
       "                0.0006\n",
       "                \n",
       "                    &plusmn; 0.0000\n",
       "                \n",
       "            </td>\n",
       "            <td style=\"padding: 0 0.5em 0 0.5em; text-align: left; border: none;\">\n",
       "                akceptacja_oferty_utrzymaniowej\n",
       "            </td>\n",
       "        </tr>\n",
       "    \n",
       "        <tr style=\"background-color: hsl(120, 100.00%, 99.57%); border: none;\">\n",
       "            <td style=\"padding: 0 1em 0 0.5em; text-align: right; border: none;\">\n",
       "                0.0003\n",
       "                \n",
       "                    &plusmn; 0.0000\n",
       "                \n",
       "            </td>\n",
       "            <td style=\"padding: 0 0.5em 0 0.5em; text-align: left; border: none;\">\n",
       "                58_wiek_23\n",
       "            </td>\n",
       "        </tr>\n",
       "    \n",
       "    \n",
       "    </tbody>\n",
       "</table>\n",
       "    \n",
       "\n",
       "    \n",
       "\n",
       "\n",
       "    \n",
       "\n",
       "    \n",
       "\n",
       "    \n",
       "\n",
       "    \n",
       "\n",
       "    \n",
       "\n",
       "    \n",
       "\n",
       "\n",
       "\n"
      ],
      "text/plain": [
       "<IPython.core.display.HTML object>"
      ]
     },
     "execution_count": 64,
     "metadata": {},
     "output_type": "execute_result"
    }
   ],
   "source": [
    "feats = list(X.columns)\n",
    "perm = PermutationImportance(m,random_state= 0).fit(X_train,y_train)\n",
    "result = eli5.show_weights(perm,feature_names = feats, top = len(feats))\n",
    "result"
   ]
  },
  {
   "cell_type": "markdown",
   "metadata": {},
   "source": [
    "Najwazniejszymi zmiennymi dla modelu XGBoost okazaly sie byc: <b> procentowa_zmiana_min,ile_dni_kli_ma_obecny_terminal,commitment_msc"
   ]
  },
  {
   "cell_type": "code",
   "execution_count": 65,
   "metadata": {},
   "outputs": [],
   "source": [
    "important_feats = ['procentowa_zmiana_min','ile_dni_kli_ma_obecny_terminal','commitment_msc',\n",
    "                   'dropped_calls','procentowa_zmiana_reve','usage_data_MB','CODE','polaczenia_nieodebrane',\n",
    "                   'staz_klienta','roaming_calls','liczba_polaczen_out','liczba_kontrakow','liczba_polaczen_in',\n",
    "                   'rozmowy_obs_kli_ilosc']"
   ]
  },
  {
   "cell_type": "markdown",
   "metadata": {},
   "source": [
    "### Poprawa modelu XGBoost poprzez przeszukiwanie przestrzeni parametrow przy uzyciu hyperopt"
   ]
  },
  {
   "cell_type": "code",
   "execution_count": 66,
   "metadata": {},
   "outputs": [],
   "source": [
    "def run_model(model,X,y):\n",
    "    scaler = MinMaxScaler()\n",
    "    scores = []    \n",
    "    for train_idx, test_idx in skf.split(X,y):\n",
    "        X_train, X_test = X.iloc[train_idx], X.iloc[test_idx]\n",
    "        y_train, y_test = y.iloc[train_idx], y.iloc[test_idx]\n",
    "\n",
    "        X_train_normalized = scaler.fit_transform(X_train)\n",
    "        X_test_normalized = scaler.transform(X_test)\n",
    "\n",
    "        model.fit(X_train_normalized, y_train)\n",
    "        y_pred = model.predict(X_test_normalized)\n",
    "\n",
    "        score = f1_score(y_test,y_pred)\n",
    "        scores.append(score)\n",
    "\n",
    "    return round(np.mean(scores)*100,2)"
   ]
  },
  {
   "cell_type": "code",
   "execution_count": 67,
   "metadata": {},
   "outputs": [],
   "source": [
    "def obj_func(params):\n",
    "    print(params)\n",
    "    \n",
    "    f1score = run_model(XGBClassifier(**params),X,y)\n",
    "    \n",
    "    return{'loss': -f1score, 'status': STATUS_OK}"
   ]
  },
  {
   "cell_type": "code",
   "execution_count": 68,
   "metadata": {
    "scrolled": true
   },
   "outputs": [
    {
     "name": "stdout",
     "output_type": "stream",
     "text": [
      "{'learning_rate': 0.06499999999999999, 'max_depth': 6, 'n_estimators': 120, 'objective': 'binary:logistic', 'scale_pos_weight': 2.4677606046163274, 'seed': 0, 'use_label_encoder': False, 'verbosity': 0}\n",
      "{'learning_rate': 0.08499999999999999, 'max_depth': 7, 'n_estimators': 120, 'objective': 'binary:logistic', 'scale_pos_weight': 2.4677606046163274, 'seed': 0, 'use_label_encoder': False, 'verbosity': 0}\n",
      "{'learning_rate': 0.024999999999999998, 'max_depth': 6, 'n_estimators': 120, 'objective': 'binary:logistic', 'scale_pos_weight': 2.4677606046163274, 'seed': 0, 'use_label_encoder': False, 'verbosity': 0}\n",
      "{'learning_rate': 0.034999999999999996, 'max_depth': 9, 'n_estimators': 120, 'objective': 'binary:logistic', 'scale_pos_weight': 2.4677606046163274, 'seed': 0, 'use_label_encoder': False, 'verbosity': 0}\n",
      "{'learning_rate': 0.005, 'max_depth': 8, 'n_estimators': 120, 'objective': 'binary:logistic', 'scale_pos_weight': 2.4677606046163274, 'seed': 0, 'use_label_encoder': False, 'verbosity': 0}\n",
      "{'learning_rate': 0.054999999999999986, 'max_depth': 5, 'n_estimators': 120, 'objective': 'binary:logistic', 'scale_pos_weight': 2.4677606046163274, 'seed': 0, 'use_label_encoder': False, 'verbosity': 0}\n",
      "{'learning_rate': 0.06499999999999999, 'max_depth': 8, 'n_estimators': 120, 'objective': 'binary:logistic', 'scale_pos_weight': 2.4677606046163274, 'seed': 0, 'use_label_encoder': False, 'verbosity': 0}\n",
      "{'learning_rate': 0.054999999999999986, 'max_depth': 6, 'n_estimators': 120, 'objective': 'binary:logistic', 'scale_pos_weight': 2.4677606046163274, 'seed': 0, 'use_label_encoder': False, 'verbosity': 0}\n",
      "{'learning_rate': 0.015, 'max_depth': 7, 'n_estimators': 120, 'objective': 'binary:logistic', 'scale_pos_weight': 2.4677606046163274, 'seed': 0, 'use_label_encoder': False, 'verbosity': 0}\n",
      "{'learning_rate': 0.08499999999999999, 'max_depth': 6, 'n_estimators': 120, 'objective': 'binary:logistic', 'scale_pos_weight': 2.4677606046163274, 'seed': 0, 'use_label_encoder': False, 'verbosity': 0}\n",
      "{'learning_rate': 0.005, 'max_depth': 7, 'n_estimators': 120, 'objective': 'binary:logistic', 'scale_pos_weight': 2.4677606046163274, 'seed': 0, 'use_label_encoder': False, 'verbosity': 0}\n",
      "{'learning_rate': 0.08499999999999999, 'max_depth': 9, 'n_estimators': 120, 'objective': 'binary:logistic', 'scale_pos_weight': 2.4677606046163274, 'seed': 0, 'use_label_encoder': False, 'verbosity': 0}\n",
      "{'learning_rate': 0.06499999999999999, 'max_depth': 6, 'n_estimators': 120, 'objective': 'binary:logistic', 'scale_pos_weight': 2.4677606046163274, 'seed': 0, 'use_label_encoder': False, 'verbosity': 0}\n",
      "{'learning_rate': 0.06499999999999999, 'max_depth': 4, 'n_estimators': 120, 'objective': 'binary:logistic', 'scale_pos_weight': 2.4677606046163274, 'seed': 0, 'use_label_encoder': False, 'verbosity': 0}\n",
      "{'learning_rate': 0.054999999999999986, 'max_depth': 3, 'n_estimators': 120, 'objective': 'binary:logistic', 'scale_pos_weight': 2.4677606046163274, 'seed': 0, 'use_label_encoder': False, 'verbosity': 0}\n",
      "{'learning_rate': 0.005, 'max_depth': 8, 'n_estimators': 120, 'objective': 'binary:logistic', 'scale_pos_weight': 2.4677606046163274, 'seed': 0, 'use_label_encoder': False, 'verbosity': 0}\n",
      "{'learning_rate': 0.024999999999999998, 'max_depth': 5, 'n_estimators': 120, 'objective': 'binary:logistic', 'scale_pos_weight': 2.4677606046163274, 'seed': 0, 'use_label_encoder': False, 'verbosity': 0}\n",
      "{'learning_rate': 0.034999999999999996, 'max_depth': 3, 'n_estimators': 120, 'objective': 'binary:logistic', 'scale_pos_weight': 2.4677606046163274, 'seed': 0, 'use_label_encoder': False, 'verbosity': 0}\n",
      "{'learning_rate': 0.09499999999999999, 'max_depth': 8, 'n_estimators': 120, 'objective': 'binary:logistic', 'scale_pos_weight': 2.4677606046163274, 'seed': 0, 'use_label_encoder': False, 'verbosity': 0}\n",
      "{'learning_rate': 0.024999999999999998, 'max_depth': 4, 'n_estimators': 120, 'objective': 'binary:logistic', 'scale_pos_weight': 2.4677606046163274, 'seed': 0, 'use_label_encoder': False, 'verbosity': 0}\n",
      "{'learning_rate': 0.04499999999999999, 'max_depth': 3, 'n_estimators': 120, 'objective': 'binary:logistic', 'scale_pos_weight': 2.4677606046163274, 'seed': 0, 'use_label_encoder': False, 'verbosity': 0}\n",
      "{'learning_rate': 0.075, 'max_depth': 4, 'n_estimators': 120, 'objective': 'binary:logistic', 'scale_pos_weight': 2.4677606046163274, 'seed': 0, 'use_label_encoder': False, 'verbosity': 0}\n",
      "{'learning_rate': 0.075, 'max_depth': 4, 'n_estimators': 120, 'objective': 'binary:logistic', 'scale_pos_weight': 2.4677606046163274, 'seed': 0, 'use_label_encoder': False, 'verbosity': 0}\n",
      "{'learning_rate': 0.075, 'max_depth': 4, 'n_estimators': 120, 'objective': 'binary:logistic', 'scale_pos_weight': 2.4677606046163274, 'seed': 0, 'use_label_encoder': False, 'verbosity': 0}\n",
      "{'learning_rate': 0.075, 'max_depth': 4, 'n_estimators': 120, 'objective': 'binary:logistic', 'scale_pos_weight': 2.4677606046163274, 'seed': 0, 'use_label_encoder': False, 'verbosity': 0}\n",
      "{'learning_rate': 0.075, 'max_depth': 4, 'n_estimators': 120, 'objective': 'binary:logistic', 'scale_pos_weight': 2.4677606046163274, 'seed': 0, 'use_label_encoder': False, 'verbosity': 0}\n",
      "{'learning_rate': 0.015, 'max_depth': 4, 'n_estimators': 120, 'objective': 'binary:logistic', 'scale_pos_weight': 2.4677606046163274, 'seed': 0, 'use_label_encoder': False, 'verbosity': 0}\n",
      "{'learning_rate': 0.09499999999999999, 'max_depth': 4, 'n_estimators': 120, 'objective': 'binary:logistic', 'scale_pos_weight': 2.4677606046163274, 'seed': 0, 'use_label_encoder': False, 'verbosity': 0}\n",
      "{'learning_rate': 0.06499999999999999, 'max_depth': 4, 'n_estimators': 120, 'objective': 'binary:logistic', 'scale_pos_weight': 2.4677606046163274, 'seed': 0, 'use_label_encoder': False, 'verbosity': 0}\n",
      "{'learning_rate': 0.06499999999999999, 'max_depth': 4, 'n_estimators': 120, 'objective': 'binary:logistic', 'scale_pos_weight': 2.4677606046163274, 'seed': 0, 'use_label_encoder': False, 'verbosity': 0}\n",
      "{'learning_rate': 0.06499999999999999, 'max_depth': 9, 'n_estimators': 120, 'objective': 'binary:logistic', 'scale_pos_weight': 2.4677606046163274, 'seed': 0, 'use_label_encoder': False, 'verbosity': 0}\n",
      "{'learning_rate': 0.06499999999999999, 'max_depth': 5, 'n_estimators': 120, 'objective': 'binary:logistic', 'scale_pos_weight': 2.4677606046163274, 'seed': 0, 'use_label_encoder': False, 'verbosity': 0}\n",
      "{'learning_rate': 0.04499999999999999, 'max_depth': 7, 'n_estimators': 120, 'objective': 'binary:logistic', 'scale_pos_weight': 2.4677606046163274, 'seed': 0, 'use_label_encoder': False, 'verbosity': 0}\n",
      "{'learning_rate': 0.06499999999999999, 'max_depth': 4, 'n_estimators': 120, 'objective': 'binary:logistic', 'scale_pos_weight': 2.4677606046163274, 'seed': 0, 'use_label_encoder': False, 'verbosity': 0}\n",
      "{'learning_rate': 0.06499999999999999, 'max_depth': 9, 'n_estimators': 120, 'objective': 'binary:logistic', 'scale_pos_weight': 2.4677606046163274, 'seed': 0, 'use_label_encoder': False, 'verbosity': 0}\n",
      "{'learning_rate': 0.034999999999999996, 'max_depth': 4, 'n_estimators': 120, 'objective': 'binary:logistic', 'scale_pos_weight': 2.4677606046163274, 'seed': 0, 'use_label_encoder': False, 'verbosity': 0}\n",
      "{'learning_rate': 0.06499999999999999, 'max_depth': 5, 'n_estimators': 120, 'objective': 'binary:logistic', 'scale_pos_weight': 2.4677606046163274, 'seed': 0, 'use_label_encoder': False, 'verbosity': 0}\n",
      "{'learning_rate': 0.015, 'max_depth': 4, 'n_estimators': 120, 'objective': 'binary:logistic', 'scale_pos_weight': 2.4677606046163274, 'seed': 0, 'use_label_encoder': False, 'verbosity': 0}\n",
      "{'learning_rate': 0.06499999999999999, 'max_depth': 6, 'n_estimators': 120, 'objective': 'binary:logistic', 'scale_pos_weight': 2.4677606046163274, 'seed': 0, 'use_label_encoder': False, 'verbosity': 0}\n",
      "{'learning_rate': 0.08499999999999999, 'max_depth': 7, 'n_estimators': 120, 'objective': 'binary:logistic', 'scale_pos_weight': 2.4677606046163274, 'seed': 0, 'use_label_encoder': False, 'verbosity': 0}\n",
      "{'learning_rate': 0.09499999999999999, 'max_depth': 8, 'n_estimators': 120, 'objective': 'binary:logistic', 'scale_pos_weight': 2.4677606046163274, 'seed': 0, 'use_label_encoder': False, 'verbosity': 0}\n",
      "{'learning_rate': 0.054999999999999986, 'max_depth': 3, 'n_estimators': 120, 'objective': 'binary:logistic', 'scale_pos_weight': 2.4677606046163274, 'seed': 0, 'use_label_encoder': False, 'verbosity': 0}\n",
      "{'learning_rate': 0.04499999999999999, 'max_depth': 9, 'n_estimators': 120, 'objective': 'binary:logistic', 'scale_pos_weight': 2.4677606046163274, 'seed': 0, 'use_label_encoder': False, 'verbosity': 0}\n",
      "{'learning_rate': 0.06499999999999999, 'max_depth': 6, 'n_estimators': 120, 'objective': 'binary:logistic', 'scale_pos_weight': 2.4677606046163274, 'seed': 0, 'use_label_encoder': False, 'verbosity': 0}\n",
      "{'learning_rate': 0.005, 'max_depth': 7, 'n_estimators': 120, 'objective': 'binary:logistic', 'scale_pos_weight': 2.4677606046163274, 'seed': 0, 'use_label_encoder': False, 'verbosity': 0}\n",
      "{'learning_rate': 0.024999999999999998, 'max_depth': 5, 'n_estimators': 120, 'objective': 'binary:logistic', 'scale_pos_weight': 2.4677606046163274, 'seed': 0, 'use_label_encoder': False, 'verbosity': 0}\n",
      "{'learning_rate': 0.034999999999999996, 'max_depth': 4, 'n_estimators': 120, 'objective': 'binary:logistic', 'scale_pos_weight': 2.4677606046163274, 'seed': 0, 'use_label_encoder': False, 'verbosity': 0}\n",
      "{'learning_rate': 0.08499999999999999, 'max_depth': 8, 'n_estimators': 120, 'objective': 'binary:logistic', 'scale_pos_weight': 2.4677606046163274, 'seed': 0, 'use_label_encoder': False, 'verbosity': 0}\n",
      "{'learning_rate': 0.054999999999999986, 'max_depth': 3, 'n_estimators': 120, 'objective': 'binary:logistic', 'scale_pos_weight': 2.4677606046163274, 'seed': 0, 'use_label_encoder': False, 'verbosity': 0}\n",
      "{'learning_rate': 0.06499999999999999, 'max_depth': 6, 'n_estimators': 120, 'objective': 'binary:logistic', 'scale_pos_weight': 2.4677606046163274, 'seed': 0, 'use_label_encoder': False, 'verbosity': 0}\n",
      "{'learning_rate': 0.005, 'max_depth': 4, 'n_estimators': 120, 'objective': 'binary:logistic', 'scale_pos_weight': 2.4677606046163274, 'seed': 0, 'use_label_encoder': False, 'verbosity': 0}\n",
      "{'learning_rate': 0.015, 'max_depth': 9, 'n_estimators': 120, 'objective': 'binary:logistic', 'scale_pos_weight': 2.4677606046163274, 'seed': 0, 'use_label_encoder': False, 'verbosity': 0}\n",
      "{'learning_rate': 0.024999999999999998, 'max_depth': 4, 'n_estimators': 120, 'objective': 'binary:logistic', 'scale_pos_weight': 2.4677606046163274, 'seed': 0, 'use_label_encoder': False, 'verbosity': 0}\n",
      "{'learning_rate': 0.06499999999999999, 'max_depth': 8, 'n_estimators': 120, 'objective': 'binary:logistic', 'scale_pos_weight': 2.4677606046163274, 'seed': 0, 'use_label_encoder': False, 'verbosity': 0}\n",
      "{'learning_rate': 0.09499999999999999, 'max_depth': 7, 'n_estimators': 120, 'objective': 'binary:logistic', 'scale_pos_weight': 2.4677606046163274, 'seed': 0, 'use_label_encoder': False, 'verbosity': 0}\n",
      "{'learning_rate': 0.06499999999999999, 'max_depth': 5, 'n_estimators': 120, 'objective': 'binary:logistic', 'scale_pos_weight': 2.4677606046163274, 'seed': 0, 'use_label_encoder': False, 'verbosity': 0}\n",
      "{'learning_rate': 0.04499999999999999, 'max_depth': 3, 'n_estimators': 120, 'objective': 'binary:logistic', 'scale_pos_weight': 2.4677606046163274, 'seed': 0, 'use_label_encoder': False, 'verbosity': 0}\n",
      "{'learning_rate': 0.034999999999999996, 'max_depth': 4, 'n_estimators': 120, 'objective': 'binary:logistic', 'scale_pos_weight': 2.4677606046163274, 'seed': 0, 'use_label_encoder': False, 'verbosity': 0}\n",
      "{'learning_rate': 0.08499999999999999, 'max_depth': 4, 'n_estimators': 120, 'objective': 'binary:logistic', 'scale_pos_weight': 2.4677606046163274, 'seed': 0, 'use_label_encoder': False, 'verbosity': 0}\n",
      "{'learning_rate': 0.08499999999999999, 'max_depth': 6, 'n_estimators': 120, 'objective': 'binary:logistic', 'scale_pos_weight': 2.4677606046163274, 'seed': 0, 'use_label_encoder': False, 'verbosity': 0}\n",
      "{'learning_rate': 0.08499999999999999, 'max_depth': 4, 'n_estimators': 120, 'objective': 'binary:logistic', 'scale_pos_weight': 2.4677606046163274, 'seed': 0, 'use_label_encoder': False, 'verbosity': 0}\n",
      "{'learning_rate': 0.08499999999999999, 'max_depth': 4, 'n_estimators': 120, 'objective': 'binary:logistic', 'scale_pos_weight': 2.4677606046163274, 'seed': 0, 'use_label_encoder': False, 'verbosity': 0}\n",
      "{'learning_rate': 0.08499999999999999, 'max_depth': 8, 'n_estimators': 120, 'objective': 'binary:logistic', 'scale_pos_weight': 2.4677606046163274, 'seed': 0, 'use_label_encoder': False, 'verbosity': 0}\n",
      "{'learning_rate': 0.08499999999999999, 'max_depth': 9, 'n_estimators': 120, 'objective': 'binary:logistic', 'scale_pos_weight': 2.4677606046163274, 'seed': 0, 'use_label_encoder': False, 'verbosity': 0}\n",
      "{'learning_rate': 0.08499999999999999, 'max_depth': 4, 'n_estimators': 120, 'objective': 'binary:logistic', 'scale_pos_weight': 2.4677606046163274, 'seed': 0, 'use_label_encoder': False, 'verbosity': 0}\n",
      "{'learning_rate': 0.08499999999999999, 'max_depth': 4, 'n_estimators': 120, 'objective': 'binary:logistic', 'scale_pos_weight': 2.4677606046163274, 'seed': 0, 'use_label_encoder': False, 'verbosity': 0}\n",
      "{'learning_rate': 0.08499999999999999, 'max_depth': 4, 'n_estimators': 120, 'objective': 'binary:logistic', 'scale_pos_weight': 2.4677606046163274, 'seed': 0, 'use_label_encoder': False, 'verbosity': 0}\n",
      "{'learning_rate': 0.08499999999999999, 'max_depth': 4, 'n_estimators': 120, 'objective': 'binary:logistic', 'scale_pos_weight': 2.4677606046163274, 'seed': 0, 'use_label_encoder': False, 'verbosity': 0}\n",
      "{'learning_rate': 0.08499999999999999, 'max_depth': 4, 'n_estimators': 120, 'objective': 'binary:logistic', 'scale_pos_weight': 2.4677606046163274, 'seed': 0, 'use_label_encoder': False, 'verbosity': 0}\n",
      "{'learning_rate': 0.08499999999999999, 'max_depth': 4, 'n_estimators': 120, 'objective': 'binary:logistic', 'scale_pos_weight': 2.4677606046163274, 'seed': 0, 'use_label_encoder': False, 'verbosity': 0}\n",
      "{'learning_rate': 0.08499999999999999, 'max_depth': 4, 'n_estimators': 120, 'objective': 'binary:logistic', 'scale_pos_weight': 2.4677606046163274, 'seed': 0, 'use_label_encoder': False, 'verbosity': 0}\n",
      "{'learning_rate': 0.08499999999999999, 'max_depth': 5, 'n_estimators': 120, 'objective': 'binary:logistic', 'scale_pos_weight': 2.4677606046163274, 'seed': 0, 'use_label_encoder': False, 'verbosity': 0}\n",
      "{'learning_rate': 0.054999999999999986, 'max_depth': 4, 'n_estimators': 120, 'objective': 'binary:logistic', 'scale_pos_weight': 2.4677606046163274, 'seed': 0, 'use_label_encoder': False, 'verbosity': 0}\n",
      "{'learning_rate': 0.08499999999999999, 'max_depth': 7, 'n_estimators': 120, 'objective': 'binary:logistic', 'scale_pos_weight': 2.4677606046163274, 'seed': 0, 'use_label_encoder': False, 'verbosity': 0}\n",
      "{'learning_rate': 0.075, 'max_depth': 4, 'n_estimators': 120, 'objective': 'binary:logistic', 'scale_pos_weight': 2.4677606046163274, 'seed': 0, 'use_label_encoder': False, 'verbosity': 0}\n",
      "{'learning_rate': 0.015, 'max_depth': 3, 'n_estimators': 120, 'objective': 'binary:logistic', 'scale_pos_weight': 2.4677606046163274, 'seed': 0, 'use_label_encoder': False, 'verbosity': 0}\n",
      "{'learning_rate': 0.005, 'max_depth': 4, 'n_estimators': 120, 'objective': 'binary:logistic', 'scale_pos_weight': 2.4677606046163274, 'seed': 0, 'use_label_encoder': False, 'verbosity': 0}\n",
      "{'learning_rate': 0.024999999999999998, 'max_depth': 6, 'n_estimators': 120, 'objective': 'binary:logistic', 'scale_pos_weight': 2.4677606046163274, 'seed': 0, 'use_label_encoder': False, 'verbosity': 0}\n",
      "{'learning_rate': 0.08499999999999999, 'max_depth': 9, 'n_estimators': 120, 'objective': 'binary:logistic', 'scale_pos_weight': 2.4677606046163274, 'seed': 0, 'use_label_encoder': False, 'verbosity': 0}\n",
      "{'learning_rate': 0.09499999999999999, 'max_depth': 4, 'n_estimators': 120, 'objective': 'binary:logistic', 'scale_pos_weight': 2.4677606046163274, 'seed': 0, 'use_label_encoder': False, 'verbosity': 0}\n",
      "{'learning_rate': 0.04499999999999999, 'max_depth': 8, 'n_estimators': 120, 'objective': 'binary:logistic', 'scale_pos_weight': 2.4677606046163274, 'seed': 0, 'use_label_encoder': False, 'verbosity': 0}\n",
      "{'learning_rate': 0.08499999999999999, 'max_depth': 5, 'n_estimators': 120, 'objective': 'binary:logistic', 'scale_pos_weight': 2.4677606046163274, 'seed': 0, 'use_label_encoder': False, 'verbosity': 0}\n"
     ]
    },
    {
     "name": "stdout",
     "output_type": "stream",
     "text": [
      "{'learning_rate': 0.034999999999999996, 'max_depth': 7, 'n_estimators': 120, 'objective': 'binary:logistic', 'scale_pos_weight': 2.4677606046163274, 'seed': 0, 'use_label_encoder': False, 'verbosity': 0}\n",
      "{'learning_rate': 0.075, 'max_depth': 3, 'n_estimators': 120, 'objective': 'binary:logistic', 'scale_pos_weight': 2.4677606046163274, 'seed': 0, 'use_label_encoder': False, 'verbosity': 0}\n",
      "{'learning_rate': 0.054999999999999986, 'max_depth': 4, 'n_estimators': 120, 'objective': 'binary:logistic', 'scale_pos_weight': 2.4677606046163274, 'seed': 0, 'use_label_encoder': False, 'verbosity': 0}\n",
      "{'learning_rate': 0.015, 'max_depth': 4, 'n_estimators': 120, 'objective': 'binary:logistic', 'scale_pos_weight': 2.4677606046163274, 'seed': 0, 'use_label_encoder': False, 'verbosity': 0}\n",
      "{'learning_rate': 0.005, 'max_depth': 6, 'n_estimators': 120, 'objective': 'binary:logistic', 'scale_pos_weight': 2.4677606046163274, 'seed': 0, 'use_label_encoder': False, 'verbosity': 0}\n",
      "{'learning_rate': 0.08499999999999999, 'max_depth': 4, 'n_estimators': 120, 'objective': 'binary:logistic', 'scale_pos_weight': 2.4677606046163274, 'seed': 0, 'use_label_encoder': False, 'verbosity': 0}\n",
      "{'learning_rate': 0.09499999999999999, 'max_depth': 9, 'n_estimators': 120, 'objective': 'binary:logistic', 'scale_pos_weight': 2.4677606046163274, 'seed': 0, 'use_label_encoder': False, 'verbosity': 0}\n",
      "{'learning_rate': 0.024999999999999998, 'max_depth': 8, 'n_estimators': 120, 'objective': 'binary:logistic', 'scale_pos_weight': 2.4677606046163274, 'seed': 0, 'use_label_encoder': False, 'verbosity': 0}\n",
      "{'learning_rate': 0.08499999999999999, 'max_depth': 4, 'n_estimators': 120, 'objective': 'binary:logistic', 'scale_pos_weight': 2.4677606046163274, 'seed': 0, 'use_label_encoder': False, 'verbosity': 0}\n",
      "{'learning_rate': 0.04499999999999999, 'max_depth': 5, 'n_estimators': 120, 'objective': 'binary:logistic', 'scale_pos_weight': 2.4677606046163274, 'seed': 0, 'use_label_encoder': False, 'verbosity': 0}\n",
      "{'learning_rate': 0.034999999999999996, 'max_depth': 7, 'n_estimators': 120, 'objective': 'binary:logistic', 'scale_pos_weight': 2.4677606046163274, 'seed': 0, 'use_label_encoder': False, 'verbosity': 0}\n",
      "{'learning_rate': 0.08499999999999999, 'max_depth': 3, 'n_estimators': 120, 'objective': 'binary:logistic', 'scale_pos_weight': 2.4677606046163274, 'seed': 0, 'use_label_encoder': False, 'verbosity': 0}\n",
      "{'learning_rate': 0.054999999999999986, 'max_depth': 4, 'n_estimators': 120, 'objective': 'binary:logistic', 'scale_pos_weight': 2.4677606046163274, 'seed': 0, 'use_label_encoder': False, 'verbosity': 0}\n",
      "{'learning_rate': 0.08499999999999999, 'max_depth': 4, 'n_estimators': 120, 'objective': 'binary:logistic', 'scale_pos_weight': 2.4677606046163274, 'seed': 0, 'use_label_encoder': False, 'verbosity': 0}\n",
      "{'learning_rate': 0.075, 'max_depth': 6, 'n_estimators': 120, 'objective': 'binary:logistic', 'scale_pos_weight': 2.4677606046163274, 'seed': 0, 'use_label_encoder': False, 'verbosity': 0}\n",
      "{'learning_rate': 0.005, 'max_depth': 9, 'n_estimators': 120, 'objective': 'binary:logistic', 'scale_pos_weight': 2.4677606046163274, 'seed': 0, 'use_label_encoder': False, 'verbosity': 0}\n",
      "{'learning_rate': 0.08499999999999999, 'max_depth': 4, 'n_estimators': 120, 'objective': 'binary:logistic', 'scale_pos_weight': 2.4677606046163274, 'seed': 0, 'use_label_encoder': False, 'verbosity': 0}\n",
      "{'learning_rate': 0.015, 'max_depth': 8, 'n_estimators': 120, 'objective': 'binary:logistic', 'scale_pos_weight': 2.4677606046163274, 'seed': 0, 'use_label_encoder': False, 'verbosity': 0}\n",
      "100%|██████████| 100/100 [33:25<00:00, 20.06s/trial, best loss: -47.9]\n"
     ]
    }
   ],
   "source": [
    "xgb_reg_params = {\n",
    "'learning_rate':     hp.choice('learning_rate',          np.arange(0.005,0.1,0.01)),\n",
    "'max_depth':         hp.choice(\"max_depth\",              np.arange(3,10,1,dtype = int)),\n",
    "'objective' : 'binary:logistic',\n",
    "'n_estimators': 120,\n",
    "'use_label_encoder': False,\n",
    "'scale_pos_weight': y_train[y_train==0].count()/y_train[y_train==1].count(),\n",
    "'verbosity': 0,\n",
    "'seed': 0\n",
    "    }\n",
    "best = fmin(obj_func,xgb_reg_params,algo = tpe.suggest,max_evals = 100)"
   ]
  },
  {
   "cell_type": "code",
   "execution_count": 69,
   "metadata": {
    "scrolled": true
   },
   "outputs": [
    {
     "data": {
      "text/plain": [
       "{'learning_rate': 0.08499999999999999,\n",
       " 'max_depth': 4,\n",
       " 'n_estimators': 120,\n",
       " 'objective': 'binary:logistic',\n",
       " 'scale_pos_weight': 2.4677606046163274,\n",
       " 'seed': 0,\n",
       " 'use_label_encoder': False,\n",
       " 'verbosity': 0}"
      ]
     },
     "execution_count": 69,
     "metadata": {},
     "output_type": "execute_result"
    }
   ],
   "source": [
    "space_eval(xgb_reg_params,best)"
   ]
  },
  {
   "cell_type": "markdown",
   "metadata": {},
   "source": [
    "Dla powyzszych parametrow uzyskano najwyzszy wynik 47.9 dla metryki F1. Sprawdzmy confusion matrix."
   ]
  },
  {
   "cell_type": "code",
   "execution_count": 121,
   "metadata": {
    "scrolled": false
   },
   "outputs": [
    {
     "name": "stdout",
     "output_type": "stream",
     "text": [
      "======================\n"
     ]
    },
    {
     "data": {
      "text/plain": [
       "<Figure size 720x576 with 0 Axes>"
      ]
     },
     "metadata": {},
     "output_type": "display_data"
    },
    {
     "data": {
      "image/png": "[encoded data removed]",
      "text/plain": [
       "<Figure size 432x288 with 2 Axes>"
      ]
     },
     "metadata": {},
     "output_type": "display_data"
    },
    {
     "name": "stdout",
     "output_type": "stream",
     "text": [
      "======================\n",
      "======================\n"
     ]
    },
    {
     "data": {
      "text/plain": [
       "<Figure size 720x576 with 0 Axes>"
      ]
     },
     "metadata": {},
     "output_type": "display_data"
    },
    {
     "data": {
      "image/png": "[encoded data removed]",
      "text/plain": [
       "<Figure size 432x288 with 2 Axes>"
      ]
     },
     "metadata": {},
     "output_type": "display_data"
    },
    {
     "name": "stdout",
     "output_type": "stream",
     "text": [
      "======================\n",
      "======================\n"
     ]
    },
    {
     "data": {
      "text/plain": [
       "<Figure size 720x576 with 0 Axes>"
      ]
     },
     "metadata": {},
     "output_type": "display_data"
    },
    {
     "data": {
      "image/png": "[encoded data removed]",
      "text/plain": [
       "<Figure size 432x288 with 2 Axes>"
      ]
     },
     "metadata": {},
     "output_type": "display_data"
    },
    {
     "name": "stdout",
     "output_type": "stream",
     "text": [
      "======================\n",
      "======================\n"
     ]
    },
    {
     "data": {
      "text/plain": [
       "<Figure size 720x576 with 0 Axes>"
      ]
     },
     "metadata": {},
     "output_type": "display_data"
    },
    {
     "data": {
      "image/png": "[encoded data removed]",
      "text/plain": [
       "<Figure size 432x288 with 2 Axes>"
      ]
     },
     "metadata": {},
     "output_type": "display_data"
    },
    {
     "name": "stdout",
     "output_type": "stream",
     "text": [
      "======================\n",
      "======================\n"
     ]
    },
    {
     "data": {
      "text/plain": [
       "<Figure size 720x576 with 0 Axes>"
      ]
     },
     "metadata": {},
     "output_type": "display_data"
    },
    {
     "data": {
      "image/png": "[encoded data removed]",
      "text/plain": [
       "<Figure size 432x288 with 2 Axes>"
      ]
     },
     "metadata": {},
     "output_type": "display_data"
    },
    {
     "name": "stdout",
     "output_type": "stream",
     "text": [
      "======================\n",
      "Metryka F1 wynosi: 47.89\n"
     ]
    }
   ],
   "source": [
    "scaler = MinMaxScaler()\n",
    "scores = []    \n",
    "model = XGBClassifier(learning_rate= 0.085, max_depth = 4, n_estimators = 120,objective = 'binary:logistic',\n",
    "                              scale_pos_weight = y_train[y_train==0].count()/y_train[y_train==1].count(),\n",
    "                              use_label_encoder = False,verbosity = 0)\n",
    "for train_idx, test_idx in skf.split(X,y):\n",
    "    X_train, X_test = X.iloc[train_idx], X.iloc[test_idx]\n",
    "    y_train, y_test = y.iloc[train_idx], y.iloc[test_idx]\n",
    "\n",
    "    X_train_normalized = scaler.fit_transform(X_train)\n",
    "    X_test_normalized = scaler.transform(X_test)\n",
    "\n",
    "    model.fit(X_train_normalized, y_train)\n",
    "    y_pred = model.predict(X_test_normalized)\n",
    "\n",
    "    score = f1_score(y_test,y_pred)\n",
    "    scores.append(score)\n",
    "    print(\"======================\")\n",
    "    cm = confusion_matrix(y_test,y_pred)\n",
    "    df_cm = pd.DataFrame(cm, index = (0, 1), columns = (0, 1))\n",
    "    plt.figure(figsize = (10,8))\n",
    "    fig, ax = plt.subplots()\n",
    "    sns.set(font_scale=1.4)\n",
    "    sns.heatmap(df_cm, annot=True)\n",
    "    class_names=[0,1]\n",
    "    tick_marks = np.arange(len(class_names))\n",
    "    plt.tight_layout()\n",
    "    plt.title('Confusion matrix\\n', y=1.1)\n",
    "    plt.xticks(tick_marks, class_names)\n",
    "    plt.yticks(tick_marks, class_names)\n",
    "    ax.xaxis.set_label_position(\"top\")\n",
    "    plt.ylabel('Prawdziwa klasa\\n')\n",
    "    plt.xlabel('Przewidywana klasa\\n')\n",
    "    plt.show()\n",
    "    print(\"======================\")\n",
    "    \n",
    "print(\"Metryka F1 wynosi:\", round(np.mean(scores)*100,2))"
   ]
  },
  {
   "cell_type": "markdown",
   "metadata": {},
   "source": [
    "## Predykcja dla niewidzianych wczesniej danych"
   ]
  },
  {
   "cell_type": "code",
   "execution_count": 92,
   "metadata": {},
   "outputs": [],
   "source": [
    "scaler = MinMaxScaler()\n",
    "X_train_normalized = scaler.fit_transform(X)\n",
    "X_test_normalized = scaler.transform(df_test_final)\n",
    "y_train = y"
   ]
  },
  {
   "cell_type": "code",
   "execution_count": 93,
   "metadata": {},
   "outputs": [
    {
     "data": {
      "text/plain": [
       "XGBClassifier(base_score=0.5, booster='gbtree', colsample_bylevel=1,\n",
       "              colsample_bynode=1, colsample_bytree=1, enable_categorical=False,\n",
       "              gamma=0, gpu_id=-1, importance_type=None,\n",
       "              interaction_constraints='', learning_rate=0.085, max_delta_step=0,\n",
       "              max_depth=4, min_child_weight=1, missing=nan,\n",
       "              monotone_constraints='()', n_estimators=120, n_jobs=12,\n",
       "              num_parallel_tree=1, predictor='auto', random_state=0,\n",
       "              reg_alpha=0, reg_lambda=1, scale_pos_weight=2.4677606046163274,\n",
       "              subsample=1, tree_method='exact', use_label_encoder=False,\n",
       "              validate_parameters=1, verbosity=0)"
      ]
     },
     "execution_count": 93,
     "metadata": {},
     "output_type": "execute_result"
    }
   ],
   "source": [
    "model_xgb = XGBClassifier(learning_rate= 0.085, max_depth = 4, n_estimators = 120,objective = 'binary:logistic',\n",
    "                              scale_pos_weight = y_train[y_train==0].count()/y_train[y_train==1].count(),\n",
    "                              use_label_encoder = False,verbosity = 0)\n",
    "model_xgb.fit(X_train_normalized, y_train)"
   ]
  },
  {
   "cell_type": "code",
   "execution_count": 94,
   "metadata": {},
   "outputs": [],
   "source": [
    "y_pred = model_xgb.predict(X_test_normalized)"
   ]
  },
  {
   "cell_type": "code",
   "execution_count": 113,
   "metadata": {},
   "outputs": [],
   "source": [
    "df_test_final_predicted = pd.concat([klient_id,df_test_final,pd.DataFrame(y_pred,columns = ['Churn'])],axis = 1)"
   ]
  },
  {
   "cell_type": "code",
   "execution_count": 115,
   "metadata": {},
   "outputs": [],
   "source": [
    "# zapisywanie do formatu csv\n",
    "df_test_final_predicted.to_csv('AdrianGolebaPredykcjaChurn.csv')"
   ]
  },
  {
   "cell_type": "markdown",
   "metadata": {},
   "source": [
    "### Sieci Neuronowe (Dodatkowo)"
   ]
  },
  {
   "cell_type": "code",
   "execution_count": 105,
   "metadata": {},
   "outputs": [],
   "source": [
    "from tensorflow.keras.models import Sequential\n",
    "from tensorflow.keras.layers import Dense,Dropout"
   ]
  },
  {
   "cell_type": "code",
   "execution_count": 106,
   "metadata": {},
   "outputs": [],
   "source": [
    "from tensorflow.keras import backend as K\n",
    "def recall_m(y_true, y_pred):\n",
    "    true_positives = K.sum(K.round(K.clip(y_true * y_pred, 0, 1)))\n",
    "    possible_positives = K.sum(K.round(K.clip(y_true, 0, 1)))\n",
    "    recall = true_positives / (possible_positives + K.epsilon())\n",
    "    return recall\n",
    "\n",
    "def precision_m(y_true, y_pred):\n",
    "    true_positives = K.sum(K.round(K.clip(y_true * y_pred, 0, 1)))\n",
    "    predicted_positives = K.sum(K.round(K.clip(y_pred, 0, 1)))\n",
    "    precision = true_positives / (predicted_positives + K.epsilon())\n",
    "    return precision\n",
    "\n",
    "def f1_m(y_true, y_pred):\n",
    "    precision = precision_m(y_true, y_pred)\n",
    "    recall = recall_m(y_true, y_pred)\n",
    "    return 2*((precision*recall)/(precision+recall+K.epsilon()))"
   ]
  },
  {
   "cell_type": "code",
   "execution_count": 107,
   "metadata": {
    "scrolled": true
   },
   "outputs": [
    {
     "name": "stderr",
     "output_type": "stream",
     "text": [
      "\r",
      "0it [00:00, ?it/s]"
     ]
    },
    {
     "name": "stdout",
     "output_type": "stream",
     "text": [
      "Epoch 1/10\n",
      "1274/1274 [==============================] - 3s 1ms/step - loss: 0.5999 - f1_m: 0.4413\n",
      "Epoch 2/10\n",
      "1274/1274 [==============================] - 2s 1ms/step - loss: 0.5900 - f1_m: 0.4434\n",
      "Epoch 3/10\n",
      "1274/1274 [==============================] - 2s 1ms/step - loss: 0.5867 - f1_m: 0.4419\n",
      "Epoch 4/10\n",
      "1274/1274 [==============================] - 2s 1ms/step - loss: 0.5821 - f1_m: 0.4400\n",
      "Epoch 5/10\n",
      "1274/1274 [==============================] - 2s 1ms/step - loss: 0.5833 - f1_m: 0.4410\n",
      "Epoch 6/10\n",
      "1274/1274 [==============================] - 2s 1ms/step - loss: 0.5836 - f1_m: 0.4392\n",
      "Epoch 7/10\n",
      "1274/1274 [==============================] - 2s 1ms/step - loss: 0.5827 - f1_m: 0.4431\n",
      "Epoch 8/10\n",
      "1274/1274 [==============================] - 2s 1ms/step - loss: 0.5807 - f1_m: 0.4384\n",
      "Epoch 9/10\n",
      "1274/1274 [==============================] - 2s 1ms/step - loss: 0.5787 - f1_m: 0.4374\n",
      "Epoch 10/10\n",
      "1274/1274 [==============================] - 2s 1ms/step - loss: 0.5809 - f1_m: 0.4421\n"
     ]
    },
    {
     "name": "stderr",
     "output_type": "stream",
     "text": [
      "\r",
      "1it [00:19, 19.39s/it]"
     ]
    },
    {
     "name": "stdout",
     "output_type": "stream",
     "text": [
      "Epoch 1/10\n",
      "1274/1274 [==============================] - 3s 1ms/step - loss: 0.6034 - f1_m: 0.4420\n",
      "Epoch 2/10\n",
      "1274/1274 [==============================] - 2s 1ms/step - loss: 0.5868 - f1_m: 0.4377\n",
      "Epoch 3/10\n",
      "1274/1274 [==============================] - 2s 1ms/step - loss: 0.5881 - f1_m: 0.4419\n",
      "Epoch 4/10\n",
      "1274/1274 [==============================] - 2s 1ms/step - loss: 0.5825 - f1_m: 0.4375\n",
      "Epoch 5/10\n",
      "1274/1274 [==============================] - 2s 1ms/step - loss: 0.5840 - f1_m: 0.4406\n",
      "Epoch 6/10\n",
      "1274/1274 [==============================] - 2s 1ms/step - loss: 0.5877 - f1_m: 0.4464\n",
      "Epoch 7/10\n",
      "1274/1274 [==============================] - 2s 1ms/step - loss: 0.5870 - f1_m: 0.4468\n",
      "Epoch 8/10\n",
      "1274/1274 [==============================] - 2s 1ms/step - loss: 0.5802 - f1_m: 0.4374\n",
      "Epoch 9/10\n",
      "1274/1274 [==============================] - 2s 1ms/step - loss: 0.5801 - f1_m: 0.4415\n",
      "Epoch 10/10\n",
      "1274/1274 [==============================] - 2s 1ms/step - loss: 0.5782 - f1_m: 0.4372\n"
     ]
    },
    {
     "name": "stderr",
     "output_type": "stream",
     "text": [
      "\r",
      "2it [00:37, 19.07s/it]"
     ]
    },
    {
     "name": "stdout",
     "output_type": "stream",
     "text": [
      "Epoch 1/10\n",
      "1274/1274 [==============================] - 3s 1ms/step - loss: 0.5969 - f1_m: 0.4356\n",
      "Epoch 2/10\n",
      "1274/1274 [==============================] - 2s 1ms/step - loss: 0.5909 - f1_m: 0.4408\n",
      "Epoch 3/10\n",
      "1274/1274 [==============================] - 2s 1ms/step - loss: 0.5891 - f1_m: 0.4417\n",
      "Epoch 4/10\n",
      "1274/1274 [==============================] - 2s 1ms/step - loss: 0.5904 - f1_m: 0.4447\n",
      "Epoch 5/10\n",
      "1274/1274 [==============================] - 2s 1ms/step - loss: 0.5848 - f1_m: 0.4409\n",
      "Epoch 6/10\n",
      "1274/1274 [==============================] - 2s 1ms/step - loss: 0.5848 - f1_m: 0.4407\n",
      "Epoch 7/10\n",
      "1274/1274 [==============================] - 2s 1ms/step - loss: 0.5820 - f1_m: 0.4374\n",
      "Epoch 8/10\n",
      "1274/1274 [==============================] - 2s 1ms/step - loss: 0.5836 - f1_m: 0.4417\n",
      "Epoch 9/10\n",
      "1274/1274 [==============================] - 2s 1ms/step - loss: 0.5801 - f1_m: 0.4397\n",
      "Epoch 10/10\n",
      "1274/1274 [==============================] - 2s 1ms/step - loss: 0.5804 - f1_m: 0.4394\n"
     ]
    },
    {
     "name": "stderr",
     "output_type": "stream",
     "text": [
      "\r",
      "3it [00:56, 18.97s/it]"
     ]
    },
    {
     "name": "stdout",
     "output_type": "stream",
     "text": [
      "Epoch 1/10\n",
      "1274/1274 [==============================] - 3s 1ms/step - loss: 0.6024 - f1_m: 0.4440\n",
      "Epoch 2/10\n",
      "1274/1274 [==============================] - 2s 1ms/step - loss: 0.5850 - f1_m: 0.4361\n",
      "Epoch 3/10\n",
      "1274/1274 [==============================] - 2s 1ms/step - loss: 0.5874 - f1_m: 0.4431\n",
      "Epoch 4/10\n",
      "1274/1274 [==============================] - 2s 1ms/step - loss: 0.5885 - f1_m: 0.4454\n",
      "Epoch 5/10\n",
      "1274/1274 [==============================] - 2s 1ms/step - loss: 0.5863 - f1_m: 0.4417\n",
      "Epoch 6/10\n",
      "1274/1274 [==============================] - 2s 1ms/step - loss: 0.5846 - f1_m: 0.4443\n",
      "Epoch 7/10\n",
      "1274/1274 [==============================] - 2s 1ms/step - loss: 0.5808 - f1_m: 0.4381\n",
      "Epoch 8/10\n",
      "1274/1274 [==============================] - 2s 1ms/step - loss: 0.5818 - f1_m: 0.4405\n",
      "Epoch 9/10\n",
      "1274/1274 [==============================] - 2s 1ms/step - loss: 0.5796 - f1_m: 0.4371\n",
      "Epoch 10/10\n",
      "1274/1274 [==============================] - 2s 1ms/step - loss: 0.5785 - f1_m: 0.4386\n"
     ]
    },
    {
     "name": "stderr",
     "output_type": "stream",
     "text": [
      "\r",
      "4it [01:14, 18.82s/it]"
     ]
    },
    {
     "name": "stdout",
     "output_type": "stream",
     "text": [
      "Epoch 1/10\n",
      "1274/1274 [==============================] - 2s 1ms/step - loss: 0.6049 - f1_m: 0.4451\n",
      "Epoch 2/10\n",
      "1274/1274 [==============================] - 2s 1ms/step - loss: 0.5930 - f1_m: 0.4451\n",
      "Epoch 3/10\n",
      "1274/1274 [==============================] - 2s 1ms/step - loss: 0.5871 - f1_m: 0.4411\n",
      "Epoch 4/10\n",
      "1274/1274 [==============================] - 2s 1ms/step - loss: 0.5858 - f1_m: 0.4439\n",
      "Epoch 5/10\n",
      "1274/1274 [==============================] - 2s 1ms/step - loss: 0.5814 - f1_m: 0.4382\n",
      "Epoch 6/10\n",
      "1274/1274 [==============================] - 2s 1ms/step - loss: 0.5829 - f1_m: 0.4417\n",
      "Epoch 7/10\n",
      "1274/1274 [==============================] - 2s 1ms/step - loss: 0.5840 - f1_m: 0.4427\n",
      "Epoch 8/10\n",
      "1274/1274 [==============================] - 2s 1ms/step - loss: 0.5806 - f1_m: 0.4418\n",
      "Epoch 9/10\n",
      "1274/1274 [==============================] - 2s 1ms/step - loss: 0.5791 - f1_m: 0.4393\n",
      "Epoch 10/10\n",
      "1274/1274 [==============================] - 2s 1ms/step - loss: 0.5846 - f1_m: 0.4465\n"
     ]
    },
    {
     "name": "stderr",
     "output_type": "stream",
     "text": [
      "5it [01:33, 18.60s/it]\n"
     ]
    },
    {
     "data": {
      "text/plain": [
       "0.4476515565064848"
      ]
     },
     "execution_count": 107,
     "metadata": {},
     "output_type": "execute_result"
    }
   ],
   "source": [
    "skf = StratifiedKFold(n_splits=5, shuffle=True, random_state=0)\n",
    "scaler = MinMaxScaler()\n",
    "scores = []\n",
    "\n",
    "for train_idx, test_idx in tqdm(skf.split(X,y)):\n",
    "    X_train, X_test = X.iloc[train_idx], X.iloc[test_idx]\n",
    "    y_train, y_test = y.iloc[train_idx], y.iloc[test_idx]\n",
    "    \n",
    "    X_train_normalized = pd.DataFrame(scaler.fit_transform(X_train))\n",
    "    X_test_normalized = pd.DataFrame(scaler.transform(X_test))\n",
    "    \n",
    "    input_shape = X_train_normalized.shape[1]\n",
    "    \n",
    "    model = Sequential()\n",
    "    \n",
    "    model.add(Dense(input_shape,activation = 'relu'))\n",
    "    model.add(Dense(100,activation = 'relu'))\n",
    "#     model.add(Dense(200,activation = 'relu'))\n",
    "#     model.add(Dense(200,activation = 'relu'))\n",
    "#     model.add(Dense(100,activation = 'relu'))\n",
    "    model.add(Dense(1,activation = 'softmax'))\n",
    "    \n",
    "    model.compile(optimizer = 'adam', loss = 'binary_crossentropy',metrics = [f1_m])\n",
    "    \n",
    "    model.fit(X_train_normalized, y_train, epochs=10,batch_size = 32)\n",
    "    y_pred = model.predict(X_test_normalized)\n",
    "    \n",
    "    f1score = f1_score(y_test, y_pred)\n",
    "    scores.append(f1score)\n",
    "    #print(classification_report(y_test, y_pred))\n",
    "np.mean(scores)"
   ]
  },
  {
   "cell_type": "markdown",
   "metadata": {},
   "source": [
    "## Wnioski wraz z proponowanymi eksperymentami i udoskonaleniami\n",
    "Do oceny modeli zostały uzyte metryki: precision, recall, F1. Najlepszy wynik 47.9 dla metryki F1 uzyskal model XGBoost. Trzema najwazniejszymi zmiennymi dla modelu XGBoost okazaly sie byc: <b> procentowa_zmiana_min,ile_dni_kli_ma_obecny_terminal,commitment_msc.</b> W dalszej czesci pracy warto zoptymalizowac inne modele."
   ]
  },
  {
   "cell_type": "markdown",
   "metadata": {},
   "source": [
    "Proponowane eksperymenty, udoskonalenia::\n",
    "- wiekszy feature engineering (\"Wyniki modelu zaleza od jakosci danych\")\n",
    "- przyjrzec sie wartosciom ujemnym, moze to anomalie\n",
    "- zoptymalizowac wiecej modeli, np. Random Forest oraz Siec Neuronowa\n",
    "- uzyc Api H2O "
   ]
  }
 ],
 "metadata": {
  "kernelspec": {
   "display_name": "Python 3",
   "language": "python",
   "name": "python3"
  },
  "language_info": {
   "codemirror_mode": {
    "name": "ipython",
    "version": 3
   },
   "file_extension": ".py",
   "mimetype": "text/x-python",
   "name": "python",
   "nbconvert_exporter": "python",
   "pygments_lexer": "ipython3",
   "version": "3.8.5"
  }
 },
 "nbformat": 4,
 "nbformat_minor": 4
}
