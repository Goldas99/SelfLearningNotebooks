{
 "cells": [
  {
   "cell_type": "markdown",
   "id": "forced-twelve",
   "metadata": {},
   "source": [
    "## Prognozowanie tygodniowej sprzedaży na rok do przodu.\n",
    "\n",
    "### Metryka sukcesu\n",
    "\n",
    "\n",
    "Metryką sukcesu w tym zadaniu będzie: `MAE` \n"
   ]
  },
  {
   "cell_type": "markdown",
   "id": "useful-senate",
   "metadata": {},
   "source": [
    "## ✔️ Wczytujemy biblioteki"
   ]
  },
  {
   "cell_type": "code",
   "execution_count": 2,
   "id": "characteristic-simple",
   "metadata": {},
   "outputs": [],
   "source": [
    "# Podstawowe biblioteki\n",
    "import numpy as np\n",
    "import matplotlib.pyplot as plt\n",
    "import pandas as pd\n",
    "from scipy import stats\n",
    "\n",
    "# Przygotowanie danych\n",
    "from sklearn.preprocessing import StandardScaler,MinMaxScaler,OneHotEncoder\n",
    "\n",
    "# Modele\n",
    "from xgboost import XGBRegressor\n",
    "from catboost import CatBoostRegressor\n",
    "from sklearn.ensemble import RandomForestRegressor\n",
    "\n",
    "# Poprawa Modelu \n",
    "from sklearn.metrics import mean_absolute_error,mean_squared_error \n",
    "from statsmodels.stats.outliers_influence import variance_inflation_factor\n",
    "from sklearn.model_selection import TimeSeriesSplit\n",
    "from sklearn.model_selection import cross_val_score\n",
    "from sklearn.model_selection import StratifiedKFold\n",
    "\n",
    "# Wizualizacja\n",
    "import seaborn as sns\n",
    "import scikitplot as skplt\n",
    "from matplotlib import pyplot\n",
    "import matplotlib.pyplot as plt\n",
    "import matplotlib.pylab as pylab\n",
    "import matplotlib \n",
    "%matplotlib inline\n",
    "color = sns.color_palette()\n",
    "import matplotlib.ticker as mtick\n",
    "from IPython.display import display\n",
    "pd.options.display.max_columns = None\n",
    "from pandas.plotting import scatter_matrix\n",
    "import plotly.express as px\n",
    "\n",
    "# Utilities\n",
    "import os\n",
    "import re\n",
    "import sys\n",
    "import string\n",
    "import time\n",
    "from datetime import datetime\n",
    "from time import time\n",
    "from scipy.stats import pointbiserialr\n",
    "from tqdm import tqdm\n",
    "import eli5\n",
    "from eli5.sklearn import PermutationImportance\n",
    "from hyperopt import hp, fmin, tpe, STATUS_OK, space_eval\n",
    "import mlflow"
   ]
  },
  {
   "cell_type": "markdown",
   "id": "early-catch",
   "metadata": {},
   "source": [
    "## ✔️ Wczytujemy dane"
   ]
  },
  {
   "cell_type": "code",
   "execution_count": 11,
   "id": "round-excitement",
   "metadata": {
    "scrolled": true
   },
   "outputs": [
    {
     "data": {
      "text/html": [
       "<div>\n",
       "<style scoped>\n",
       "    .dataframe tbody tr th:only-of-type {\n",
       "        vertical-align: middle;\n",
       "    }\n",
       "\n",
       "    .dataframe tbody tr th {\n",
       "        vertical-align: top;\n",
       "    }\n",
       "\n",
       "    .dataframe thead th {\n",
       "        text-align: right;\n",
       "    }\n",
       "</style>\n",
       "<table border=\"1\" class=\"dataframe\">\n",
       "  <thead>\n",
       "    <tr style=\"text-align: right;\">\n",
       "      <th></th>\n",
       "      <th>id</th>\n",
       "      <th>weekly_sales</th>\n",
       "      <th>store</th>\n",
       "      <th>dept</th>\n",
       "      <th>date</th>\n",
       "      <th>is_holiday</th>\n",
       "    </tr>\n",
       "  </thead>\n",
       "  <tbody>\n",
       "    <tr>\n",
       "      <th>187132</th>\n",
       "      <td>187132</td>\n",
       "      <td>4490.049805</td>\n",
       "      <td>16</td>\n",
       "      <td>21</td>\n",
       "      <td>13/08/2010</td>\n",
       "      <td>False</td>\n",
       "    </tr>\n",
       "    <tr>\n",
       "      <th>15974</th>\n",
       "      <td>15974</td>\n",
       "      <td>6717.379883</td>\n",
       "      <td>23</td>\n",
       "      <td>12</td>\n",
       "      <td>02/04/2010</td>\n",
       "      <td>False</td>\n",
       "    </tr>\n",
       "    <tr>\n",
       "      <th>349633</th>\n",
       "      <td>349633</td>\n",
       "      <td>10712.500000</td>\n",
       "      <td>1</td>\n",
       "      <td>74</td>\n",
       "      <td>30/04/2010</td>\n",
       "      <td>False</td>\n",
       "    </tr>\n",
       "    <tr>\n",
       "      <th>310523</th>\n",
       "      <td>310523</td>\n",
       "      <td>9386.019531</td>\n",
       "      <td>4</td>\n",
       "      <td>24</td>\n",
       "      <td>25/02/2011</td>\n",
       "      <td>False</td>\n",
       "    </tr>\n",
       "    <tr>\n",
       "      <th>52459</th>\n",
       "      <td>52459</td>\n",
       "      <td>47434.058594</td>\n",
       "      <td>21</td>\n",
       "      <td>2</td>\n",
       "      <td>08/04/2011</td>\n",
       "      <td>False</td>\n",
       "    </tr>\n",
       "  </tbody>\n",
       "</table>\n",
       "</div>"
      ],
      "text/plain": [
       "            id  weekly_sales  store  dept        date  is_holiday\n",
       "187132  187132   4490.049805     16    21  13/08/2010       False\n",
       "15974    15974   6717.379883     23    12  02/04/2010       False\n",
       "349633  349633  10712.500000      1    74  30/04/2010       False\n",
       "310523  310523   9386.019531      4    24  25/02/2011       False\n",
       "52459    52459  47434.058594     21     2  08/04/2011       False"
      ]
     },
     "execution_count": 11,
     "metadata": {},
     "output_type": "execute_result"
    }
   ],
   "source": [
    "df_sales_train = pd.read_hdf(\"../input/sales_train.h5\")\n",
    "df_sales_test = pd.read_hdf(\"../input/sales_test.h5\")\n",
    "df_sales_train.sample(5)"
   ]
  },
  {
   "cell_type": "code",
   "execution_count": 12,
   "id": "armed-massachusetts",
   "metadata": {
    "scrolled": false
   },
   "outputs": [
    {
     "data": {
      "text/html": [
       "<div>\n",
       "<style scoped>\n",
       "    .dataframe tbody tr th:only-of-type {\n",
       "        vertical-align: middle;\n",
       "    }\n",
       "\n",
       "    .dataframe tbody tr th {\n",
       "        vertical-align: top;\n",
       "    }\n",
       "\n",
       "    .dataframe thead th {\n",
       "        text-align: right;\n",
       "    }\n",
       "</style>\n",
       "<table border=\"1\" class=\"dataframe\">\n",
       "  <thead>\n",
       "    <tr style=\"text-align: right;\">\n",
       "      <th></th>\n",
       "      <th>store</th>\n",
       "      <th>Type</th>\n",
       "      <th>Size</th>\n",
       "    </tr>\n",
       "  </thead>\n",
       "  <tbody>\n",
       "    <tr>\n",
       "      <th>33</th>\n",
       "      <td>34</td>\n",
       "      <td>A</td>\n",
       "      <td>158114</td>\n",
       "    </tr>\n",
       "    <tr>\n",
       "      <th>41</th>\n",
       "      <td>42</td>\n",
       "      <td>C</td>\n",
       "      <td>39690</td>\n",
       "    </tr>\n",
       "    <tr>\n",
       "      <th>20</th>\n",
       "      <td>21</td>\n",
       "      <td>B</td>\n",
       "      <td>140167</td>\n",
       "    </tr>\n",
       "    <tr>\n",
       "      <th>15</th>\n",
       "      <td>16</td>\n",
       "      <td>B</td>\n",
       "      <td>57197</td>\n",
       "    </tr>\n",
       "    <tr>\n",
       "      <th>23</th>\n",
       "      <td>24</td>\n",
       "      <td>A</td>\n",
       "      <td>203819</td>\n",
       "    </tr>\n",
       "  </tbody>\n",
       "</table>\n",
       "</div>"
      ],
      "text/plain": [
       "    store Type    Size\n",
       "33     34    A  158114\n",
       "41     42    C   39690\n",
       "20     21    B  140167\n",
       "15     16    B   57197\n",
       "23     24    A  203819"
      ]
     },
     "execution_count": 12,
     "metadata": {},
     "output_type": "execute_result"
    }
   ],
   "source": [
    "df_stores_data = pd.read_csv('../input/stores_data.csv')\n",
    "df_stores_data.rename({'Store': 'store'}, axis=1, inplace=True)\n",
    "df_stores_data.sample(5)"
   ]
  },
  {
   "cell_type": "markdown",
   "id": "exciting-robinson",
   "metadata": {},
   "source": [
    "## Sales\n",
    "\n",
    "Historyczne dane sprzedaży. W tej zakładce znajdziesz następujące pola:\n",
    "\n",
    "- `store` - numer sklepu (sklep zawiera jeden lub więcej oddziałów)\n",
    "- `dept` - numer oddziału\n",
    "- `date` - tydzień (dane są zebrane w tygodniowe grupy)\n",
    "- `weekly_sales` -  sprzedaż dla danego działu w danym sklepie\n",
    "- `is_holiday` - czy tydzień jest specjalnym tygodniem (świątecznym)\n",
    "\n",
    "\n",
    "\n",
    "## 🕵️‍♀️ Sprawdzamy dane"
   ]
  },
  {
   "cell_type": "code",
   "execution_count": 13,
   "id": "small-plant",
   "metadata": {},
   "outputs": [
    {
     "name": "stdout",
     "output_type": "stream",
     "text": [
      "(285089, 6) (136481, 5)\n",
      "<class 'pandas.core.frame.DataFrame'>\n",
      "Int64Index: 285089 entries, 1 to 421567\n",
      "Data columns (total 6 columns):\n",
      " #   Column        Non-Null Count   Dtype  \n",
      "---  ------        --------------   -----  \n",
      " 0   id            285089 non-null  int32  \n",
      " 1   weekly_sales  285089 non-null  float32\n",
      " 2   store         285089 non-null  int8   \n",
      " 3   dept          285089 non-null  int8   \n",
      " 4   date          285089 non-null  object \n",
      " 5   is_holiday    285089 non-null  bool   \n",
      "dtypes: bool(1), float32(1), int32(1), int8(2), object(1)\n",
      "memory usage: 7.3+ MB\n"
     ]
    }
   ],
   "source": [
    "print(df_sales_train.shape, df_sales_test.shape)\n",
    "df_sales_train.info()"
   ]
  },
  {
   "cell_type": "markdown",
   "id": "fifty-reminder",
   "metadata": {},
   "source": [
    "## 💡 Pierwsze wnioski\n",
    "- mamy 285 089 wiersze w zbiorze treningowym oraz 136 481 wiersze w zbiorze testowym\n",
    "- mamy 6 kolumn, z czego jedna to nasza odpowiedź (czyli kolumna `weekly_sales`)\n",
    "- pomijając 2 kolumny (`id` oraz `weekly_sales`), możemy wstępnie stwierdzić, że mamy 4 cechy i są one numeryczne (`float` lub `int` oraz jedna data)\n",
    "- nie mamy braków w danych (czyli już ktoś za nas na tym popracował). "
   ]
  },
  {
   "cell_type": "markdown",
   "id": "tribal-flesh",
   "metadata": {},
   "source": [
    "## Merging Data"
   ]
  },
  {
   "cell_type": "code",
   "execution_count": 14,
   "id": "transparent-hudson",
   "metadata": {},
   "outputs": [],
   "source": [
    "def merging(df1,df2,on1):\n",
    "    df_final = df1.merge(df2, how = 'left', on = on1)\n",
    "    return df_final"
   ]
  },
  {
   "cell_type": "code",
   "execution_count": 15,
   "id": "whole-architecture",
   "metadata": {},
   "outputs": [],
   "source": [
    "df_merged_train = merging(df_sales_train,df_stores_data, on1 = ['store'])\n",
    "df_merged_test = merging(df_sales_test,df_stores_data, on1 = ['store'])"
   ]
  },
  {
   "cell_type": "code",
   "execution_count": 16,
   "id": "sustainable-there",
   "metadata": {
    "scrolled": true
   },
   "outputs": [
    {
     "name": "stdout",
     "output_type": "stream",
     "text": [
      "<class 'pandas.core.frame.DataFrame'>\n",
      "Int64Index: 285089 entries, 0 to 285088\n",
      "Data columns (total 8 columns):\n",
      " #   Column        Non-Null Count   Dtype  \n",
      "---  ------        --------------   -----  \n",
      " 0   id            285089 non-null  int32  \n",
      " 1   weekly_sales  285089 non-null  float32\n",
      " 2   store         285089 non-null  int8   \n",
      " 3   dept          285089 non-null  int8   \n",
      " 4   date          285089 non-null  object \n",
      " 5   is_holiday    285089 non-null  bool   \n",
      " 6   Type          285089 non-null  object \n",
      " 7   Size          285089 non-null  int64  \n",
      "dtypes: bool(1), float32(1), int32(1), int64(1), int8(2), object(2)\n",
      "memory usage: 11.7+ MB\n"
     ]
    }
   ],
   "source": [
    "df_merged_train.info()"
   ]
  },
  {
   "cell_type": "code",
   "execution_count": 17,
   "id": "neural-emission",
   "metadata": {},
   "outputs": [],
   "source": [
    "def date_features(df):\n",
    "    df['date'] = pd.to_datetime(df['date'],dayfirst = True)\n",
    "    #df['date'] = pd.to_datetime(df['date'])\n",
    "    \n",
    "    df[\"year\"] =  df[\"date\"].dt.year\n",
    "    df[\"month\"] =  df[\"date\"].dt.month\n",
    "    df[\"day\"] =  df[\"date\"].dt.day\n",
    "    df[\"hour\"] =  df[\"date\"].dt.hour\n",
    "    df[\"week\"] =  df[\"date\"].dt.week\n",
    "    df[\"weekofyear\"] =  df[\"date\"].dt.weekofyear\n",
    "    df[\"dayofweek\"] =  df[\"date\"].dt.dayofweek\n",
    "    df[\"weekday\"] =  df[\"date\"].dt.weekday\n",
    "    df[\"dayofyear\"] =  df[\"date\"].dt.dayofyear\n",
    "    df[\"quarter\"] =  df[\"date\"].dt.quarter\n",
    "    df[\"is_month_start\"] =  df[\"date\"].dt.is_month_start\n",
    "    df[\"is_month_end\"] =  df[\"date\"].dt.is_month_end\n",
    "    df[\"is_quarter_start\"] =  df[\"date\"].dt.is_quarter_start\n",
    "    df[\"is_quarter_end\"] =  df[\"date\"].dt.is_quarter_end\n",
    "    df[\"is_year_start\"] =  df[\"date\"].dt.is_year_start\n",
    "    df[\"is_year_end\"] =  df[\"date\"].dt.is_year_end\n",
    "    df[\"is_leap_year\"] =  df[\"date\"].dt.is_leap_year\n",
    "    df[\"daysinmonth\"] =  df[\"date\"].dt.daysinmonth\n",
    "\n",
    "    return df"
   ]
  },
  {
   "cell_type": "code",
   "execution_count": 18,
   "id": "brilliant-classics",
   "metadata": {},
   "outputs": [],
   "source": [
    "df_merged_train_date_transformed = date_features(df_merged_train)\n",
    "df_merged_test_date_transformed = date_features(df_merged_test)"
   ]
  },
  {
   "cell_type": "code",
   "execution_count": 19,
   "id": "communist-sarah",
   "metadata": {
    "scrolled": true
   },
   "outputs": [
    {
     "data": {
      "text/html": [
       "<div>\n",
       "<style scoped>\n",
       "    .dataframe tbody tr th:only-of-type {\n",
       "        vertical-align: middle;\n",
       "    }\n",
       "\n",
       "    .dataframe tbody tr th {\n",
       "        vertical-align: top;\n",
       "    }\n",
       "\n",
       "    .dataframe thead th {\n",
       "        text-align: right;\n",
       "    }\n",
       "</style>\n",
       "<table border=\"1\" class=\"dataframe\">\n",
       "  <thead>\n",
       "    <tr style=\"text-align: right;\">\n",
       "      <th></th>\n",
       "      <th>id</th>\n",
       "      <th>weekly_sales</th>\n",
       "      <th>store</th>\n",
       "      <th>dept</th>\n",
       "      <th>date</th>\n",
       "      <th>is_holiday</th>\n",
       "      <th>Type</th>\n",
       "      <th>Size</th>\n",
       "      <th>year</th>\n",
       "      <th>month</th>\n",
       "      <th>day</th>\n",
       "      <th>hour</th>\n",
       "      <th>week</th>\n",
       "      <th>weekofyear</th>\n",
       "      <th>dayofweek</th>\n",
       "      <th>weekday</th>\n",
       "      <th>dayofyear</th>\n",
       "      <th>quarter</th>\n",
       "      <th>is_month_start</th>\n",
       "      <th>is_month_end</th>\n",
       "      <th>is_quarter_start</th>\n",
       "      <th>is_quarter_end</th>\n",
       "      <th>is_year_start</th>\n",
       "      <th>is_year_end</th>\n",
       "      <th>is_leap_year</th>\n",
       "      <th>daysinmonth</th>\n",
       "    </tr>\n",
       "  </thead>\n",
       "  <tbody>\n",
       "    <tr>\n",
       "      <th>167169</th>\n",
       "      <td>247284</td>\n",
       "      <td>2324.340088</td>\n",
       "      <td>5</td>\n",
       "      <td>34</td>\n",
       "      <td>2010-09-17</td>\n",
       "      <td>False</td>\n",
       "      <td>B</td>\n",
       "      <td>34875</td>\n",
       "      <td>2010</td>\n",
       "      <td>9</td>\n",
       "      <td>17</td>\n",
       "      <td>0</td>\n",
       "      <td>37</td>\n",
       "      <td>37</td>\n",
       "      <td>4</td>\n",
       "      <td>4</td>\n",
       "      <td>260</td>\n",
       "      <td>3</td>\n",
       "      <td>False</td>\n",
       "      <td>False</td>\n",
       "      <td>False</td>\n",
       "      <td>False</td>\n",
       "      <td>False</td>\n",
       "      <td>False</td>\n",
       "      <td>False</td>\n",
       "      <td>30</td>\n",
       "    </tr>\n",
       "  </tbody>\n",
       "</table>\n",
       "</div>"
      ],
      "text/plain": [
       "            id  weekly_sales  store  dept       date  is_holiday Type   Size  \\\n",
       "167169  247284   2324.340088      5    34 2010-09-17       False    B  34875   \n",
       "\n",
       "        year  month  day  hour  week  weekofyear  dayofweek  weekday  \\\n",
       "167169  2010      9   17     0    37          37          4        4   \n",
       "\n",
       "        dayofyear  quarter  is_month_start  is_month_end  is_quarter_start  \\\n",
       "167169        260        3           False         False             False   \n",
       "\n",
       "        is_quarter_end  is_year_start  is_year_end  is_leap_year  daysinmonth  \n",
       "167169           False          False        False         False           30  "
      ]
     },
     "execution_count": 19,
     "metadata": {},
     "output_type": "execute_result"
    }
   ],
   "source": [
    "df_merged_train_date_transformed.sample()"
   ]
  },
  {
   "cell_type": "markdown",
   "id": "challenging-satellite",
   "metadata": {},
   "source": [
    "## ✔️ EDA, Preprocessing & Cleaning"
   ]
  },
  {
   "cell_type": "code",
   "execution_count": 20,
   "id": "third-alloy",
   "metadata": {
    "scrolled": false
   },
   "outputs": [
    {
     "data": {
      "text/plain": [
       "<AxesSubplot:>"
      ]
     },
     "execution_count": 20,
     "metadata": {},
     "output_type": "execute_result"
    },
    {
     "data": {
      "image/png": "[encoded data removed]",
      "text/plain": [
       "<Figure size 432x288 with 1 Axes>"
      ]
     },
     "metadata": {
      "needs_background": "light"
     },
     "output_type": "display_data"
    }
   ],
   "source": [
    "df_merged_train_date_transformed['weekly_sales'].hist(bins = 100)"
   ]
  },
  {
   "cell_type": "code",
   "execution_count": 21,
   "id": "efficient-furniture",
   "metadata": {},
   "outputs": [],
   "source": [
    "df_merged_train_anomalies_removed = df_merged_train_date_transformed[\n",
    "                                    #(df_merged_train_date_transformed['weekly_sales']<200000) & \n",
    "                                    (df_merged_train_date_transformed['weekly_sales']>0)]"
   ]
  },
  {
   "cell_type": "markdown",
   "id": "raised-gathering",
   "metadata": {},
   "source": [
    "Zadanie, które mamy to jest regresja. Widać, że rozkład ma tak zwany długi ogon. Są rzadkie przypadki, kiedy sprzedaż, była znacząco większa niż dla większości przypadków."
   ]
  },
  {
   "cell_type": "code",
   "execution_count": 22,
   "id": "northern-snake",
   "metadata": {},
   "outputs": [
    {
     "data": {
      "text/plain": [
       "<AxesSubplot:>"
      ]
     },
     "execution_count": 22,
     "metadata": {},
     "output_type": "execute_result"
    },
    {
     "data": {
      "image/png": "[encoded data removed]",
      "text/plain": [
       "<Figure size 432x288 with 1 Axes>"
      ]
     },
     "metadata": {
      "needs_background": "light"
     },
     "output_type": "display_data"
    }
   ],
   "source": [
    "df_merged_train_anomalies_removed['Type'].value_counts().plot(kind = 'bar')"
   ]
  },
  {
   "cell_type": "code",
   "execution_count": 23,
   "id": "peaceful-duncan",
   "metadata": {},
   "outputs": [
    {
     "data": {
      "text/plain": [
       "<AxesSubplot:xlabel='Type', ylabel='weekly_sales'>"
      ]
     },
     "execution_count": 23,
     "metadata": {},
     "output_type": "execute_result"
    },
    {
     "data": {
      "image/png": "[encoded data removed]",
      "text/plain": [
       "<Figure size 432x288 with 1 Axes>"
      ]
     },
     "metadata": {
      "needs_background": "light"
     },
     "output_type": "display_data"
    }
   ],
   "source": [
    "sns.boxplot(x='Type', y='weekly_sales', data=df_merged_train_anomalies_removed)"
   ]
  },
  {
   "cell_type": "code",
   "execution_count": 24,
   "id": "brave-stevens",
   "metadata": {
    "scrolled": false
   },
   "outputs": [
    {
     "data": {
      "text/plain": [
       "<AxesSubplot:xlabel='is_holiday', ylabel='weekly_sales'>"
      ]
     },
     "execution_count": 24,
     "metadata": {},
     "output_type": "execute_result"
    },
    {
     "data": {
      "image/png": "[encoded data removed]",
      "text/plain": [
       "<Figure size 432x288 with 1 Axes>"
      ]
     },
     "metadata": {
      "needs_background": "light"
     },
     "output_type": "display_data"
    }
   ],
   "source": [
    "sns.boxplot(x='is_holiday', y='weekly_sales', data=df_merged_train_anomalies_removed)"
   ]
  },
  {
   "cell_type": "code",
   "execution_count": 25,
   "id": "pharmaceutical-dimension",
   "metadata": {},
   "outputs": [
    {
     "name": "stderr",
     "output_type": "stream",
     "text": [
      "<ipython-input-25-5c09d9a2349d>:1: SettingWithCopyWarning: \n",
      "A value is trying to be set on a copy of a slice from a DataFrame.\n",
      "Try using .loc[row_indexer,col_indexer] = value instead\n",
      "\n",
      "See the caveats in the documentation: https://pandas.pydata.org/pandas-docs/stable/user_guide/indexing.html#returning-a-view-versus-a-copy\n",
      "  df_merged_train_anomalies_removed['is_holiday'] = df_merged_train_anomalies_removed['is_holiday'].apply(lambda x: int(x))\n"
     ]
    }
   ],
   "source": [
    "df_merged_train_anomalies_removed['is_holiday'] = df_merged_train_anomalies_removed['is_holiday'].apply(lambda x: int(x))\n",
    "df_merged_test_date_transformed['is_holiday'] = df_merged_test_date_transformed['is_holiday'].apply(lambda x: int(x))"
   ]
  },
  {
   "cell_type": "code",
   "execution_count": 26,
   "id": "electronic-brown",
   "metadata": {
    "scrolled": true
   },
   "outputs": [
    {
     "data": {
      "text/plain": [
       "<AxesSubplot:xlabel='month', ylabel='weekly_sales'>"
      ]
     },
     "execution_count": 26,
     "metadata": {},
     "output_type": "execute_result"
    },
    {
     "data": {
      "image/png": "[encoded data removed]",
      "text/plain": [
       "<Figure size 432x288 with 1 Axes>"
      ]
     },
     "metadata": {
      "needs_background": "light"
     },
     "output_type": "display_data"
    }
   ],
   "source": [
    "sns.boxplot(x='month', y='weekly_sales', data=df_merged_train_anomalies_removed)"
   ]
  },
  {
   "cell_type": "code",
   "execution_count": 27,
   "id": "strange-headquarters",
   "metadata": {
    "scrolled": false
   },
   "outputs": [
    {
     "data": {
      "text/plain": [
       "<AxesSubplot:xlabel='week', ylabel='weekly_sales'>"
      ]
     },
     "execution_count": 27,
     "metadata": {},
     "output_type": "execute_result"
    },
    {
     "data": {
      "image/png": "[encoded data removed]",
      "text/plain": [
       "<Figure size 432x288 with 1 Axes>"
      ]
     },
     "metadata": {
      "needs_background": "light"
     },
     "output_type": "display_data"
    }
   ],
   "source": [
    "sns.boxplot(x='week', y='weekly_sales', data=df_merged_train_anomalies_removed)"
   ]
  },
  {
   "cell_type": "code",
   "execution_count": 28,
   "id": "excess-terry",
   "metadata": {},
   "outputs": [
    {
     "data": {
      "text/plain": [
       "<AxesSubplot:xlabel='quarter', ylabel='weekly_sales'>"
      ]
     },
     "execution_count": 28,
     "metadata": {},
     "output_type": "execute_result"
    },
    {
     "data": {
      "image/png": "[encoded data removed]",
      "text/plain": [
       "<Figure size 432x288 with 1 Axes>"
      ]
     },
     "metadata": {
      "needs_background": "light"
     },
     "output_type": "display_data"
    }
   ],
   "source": [
    "sns.boxplot(x='quarter', y='weekly_sales', data=df_merged_train_anomalies_removed)"
   ]
  },
  {
   "cell_type": "code",
   "execution_count": 29,
   "id": "rational-glenn",
   "metadata": {
    "scrolled": true
   },
   "outputs": [
    {
     "data": {
      "text/plain": [
       "<AxesSubplot:>"
      ]
     },
     "execution_count": 29,
     "metadata": {},
     "output_type": "execute_result"
    },
    {
     "data": {
      "image/png": "[encoded data removed]",
      "text/plain": [
       "<Figure size 432x288 with 1 Axes>"
      ]
     },
     "metadata": {
      "needs_background": "light"
     },
     "output_type": "display_data"
    }
   ],
   "source": [
    "df_merged_train_anomalies_removed['Size'].hist(bins = 50)"
   ]
  },
  {
   "cell_type": "code",
   "execution_count": 30,
   "id": "ceramic-carry",
   "metadata": {},
   "outputs": [
    {
     "data": {
      "text/plain": [
       "<AxesSubplot:xlabel='Size', ylabel='weekly_sales'>"
      ]
     },
     "execution_count": 30,
     "metadata": {},
     "output_type": "execute_result"
    },
    {
     "data": {
      "image/png": "[encoded data removed]",
      "text/plain": [
       "<Figure size 432x288 with 1 Axes>"
      ]
     },
     "metadata": {
      "needs_background": "light"
     },
     "output_type": "display_data"
    }
   ],
   "source": [
    "sns.scatterplot(x = 'Size', y = 'weekly_sales',data = df_merged_train_anomalies_removed)"
   ]
  },
  {
   "cell_type": "code",
   "execution_count": 31,
   "id": "lined-happiness",
   "metadata": {
    "scrolled": true
   },
   "outputs": [
    {
     "data": {
      "image/png": "[encoded data removed]",
      "text/plain": [
       "<Figure size 432x288 with 1 Axes>"
      ]
     },
     "metadata": {
      "needs_background": "light"
     },
     "output_type": "display_data"
    }
   ],
   "source": [
    "plt.title(\"Sales data from 45 stores\")\n",
    "sns.lineplot(x='date', y='weekly_sales', hue='store', data=df_merged_train_anomalies_removed.sample(frac=0.1,random_state = 0));"
   ]
  },
  {
   "cell_type": "code",
   "execution_count": 32,
   "id": "phantom-secondary",
   "metadata": {
    "scrolled": false
   },
   "outputs": [
    {
     "data": {
      "text/plain": [
       "<AxesSubplot:>"
      ]
     },
     "execution_count": 32,
     "metadata": {},
     "output_type": "execute_result"
    },
    {
     "data": {
      "image/png": "[encoded data removed]",
      "text/plain": [
       "<Figure size 432x288 with 1 Axes>"
      ]
     },
     "metadata": {
      "needs_background": "light"
     },
     "output_type": "display_data"
    }
   ],
   "source": [
    "df_merged_train_anomalies_removed[['Size','weekly_sales']].corr()['weekly_sales'].sort_values().plot(kind = 'bar')"
   ]
  },
  {
   "cell_type": "code",
   "execution_count": 33,
   "id": "adjacent-husband",
   "metadata": {},
   "outputs": [],
   "source": [
    "df_train = df_merged_train_anomalies_removed.copy()\n",
    "df_test = df_merged_test_date_transformed.copy()"
   ]
  },
  {
   "cell_type": "code",
   "execution_count": 34,
   "id": "front-uncertainty",
   "metadata": {},
   "outputs": [
    {
     "data": {
      "text/plain": [
       "<AxesSubplot:>"
      ]
     },
     "execution_count": 34,
     "metadata": {},
     "output_type": "execute_result"
    },
    {
     "data": {
      "image/png": "[encoded data removed]",
      "text/plain": [
       "<Figure size 432x288 with 1 Axes>"
      ]
     },
     "metadata": {
      "needs_background": "light"
     },
     "output_type": "display_data"
    }
   ],
   "source": [
    "df_train['weekly_sales'].hist(bins = 100)"
   ]
  },
  {
   "cell_type": "code",
   "execution_count": 35,
   "id": "accompanied-costume",
   "metadata": {},
   "outputs": [],
   "source": [
    "df_train['weekly_sales'] = df_train['weekly_sales'].map(lambda x: np.log(x))"
   ]
  },
  {
   "cell_type": "code",
   "execution_count": 36,
   "id": "documentary-aluminum",
   "metadata": {
    "scrolled": true
   },
   "outputs": [
    {
     "data": {
      "text/plain": [
       "<AxesSubplot:>"
      ]
     },
     "execution_count": 36,
     "metadata": {},
     "output_type": "execute_result"
    },
    {
     "data": {
      "image/png": "[encoded data removed]",
      "text/plain": [
       "<Figure size 432x288 with 1 Axes>"
      ]
     },
     "metadata": {
      "needs_background": "light"
     },
     "output_type": "display_data"
    }
   ],
   "source": [
    "df_train['weekly_sales'].hist(bins = 100)"
   ]
  },
  {
   "cell_type": "code",
   "execution_count": 37,
   "id": "sixth-prize",
   "metadata": {},
   "outputs": [],
   "source": [
    "def type_cat(x):\n",
    "    if x == 'A':\n",
    "        return 1\n",
    "    elif x == 'B':\n",
    "        return 2\n",
    "    return 3\n",
    "\n",
    "def feature_engineering(df):\n",
    "    \n",
    "    # Zmiana kolumny Type na numeryczne\n",
    "    df['type_cat'] = df['Type'].map(type_cat)\n",
    "    \n",
    "    #liczba oddzialow dla sklepu\n",
    "    temp_sum_dept = df_train.groupby('store')['dept'].nunique()\n",
    "    df['sum_dept'] = df['store'].apply(lambda x: temp_sum_dept[x])\n",
    "    \n",
    "    #identyfikator dla kombinacji sklep-oddzial\n",
    "    df['id-store-dept'] = df[['store','dept']].apply(lambda x: x['store']*1000 + x['dept'], axis=1)\n",
    "    \n",
    "    #przypisanie sredniej ceny z przeszlosci (analogiczny okres roku poprzedniego, sprzedaz zlogarytmowana)\n",
    "    df[\"year_minus_1\"] = df[\"year\"] - 1\n",
    "    \n",
    "    df_sales_group = df_train.groupby([\"id-store-dept\", \"year\", \"week\"]).agg(\"mean\")[ [\"weekly_sales\"] ].reset_index()\n",
    "    df_sales_group = df_sales_group.rename(columns={'year': 'year_minus_1',\n",
    "                                                   'weekly_sales': 'PY_week_log_sales'})\n",
    "    \n",
    "    df = pd.merge(df, df_sales_group, on = ['id-store-dept', 'year_minus_1', 'week'], how = 'left')\n",
    "    \n",
    "    df_sales_group_2 = df_train.groupby([\"id-store-dept\", \"year\", \"month\"]).agg(\"mean\")[ [\"weekly_sales\"] ].reset_index()\n",
    "    df_sales_group_2 = df_sales_group_2.rename(columns={'year': 'year_minus_1',\n",
    "                                                   'weekly_sales': 'PY_month_log_sales'})\n",
    "\n",
    "    df = pd.merge(df, df_sales_group_2, on = ['id-store-dept', 'year_minus_1', 'month'], how = 'left')\n",
    "    \n",
    "    \n",
    "    #przypisanie podst. charakterystyk dot. sklepu (starter 4) (sprzedaz zlogarytmowana)\n",
    "    df_store_stats = df_train.groupby([\"store\"]).agg([\"mean\", \"std\", \"median\", \"size\"])[\"weekly_sales\"].reset_index()\n",
    "    df_store_stats.rename(columns= { \n",
    "                                'mean': 'store_mean', \n",
    "                                'std': 'store_std', \n",
    "                                'median': 'store_median', \n",
    "                                'size': 'store_size'},\n",
    "                      inplace = True\n",
    "                     )\n",
    "    \n",
    "    df_store_stats_dept = df_train.groupby(['store','dept']).agg([\"mean\", \"std\", \"median\", \"size\"])[\"weekly_sales\"].reset_index()\n",
    "    df_store_stats_dept.rename(columns= { \n",
    "                                'mean': 'dept_mean', \n",
    "                                'std': 'dept_std', \n",
    "                                'median': 'dept_median', \n",
    "                                'size': 'dept_size'},\n",
    "                      inplace = True\n",
    "                     )\n",
    "    \n",
    "    df = pd.merge(df, df_store_stats, on = ['store'], how = 'left')\n",
    "    df = pd.merge(df, df_store_stats_dept, on = ['store', 'dept'], how = 'left')\n",
    "    \n",
    "    #braki danych\n",
    "    #df.fillna(0, inplace = True)\n",
    "#     df.drop(['id-store-dept'],axis = 1, inplace = True\n",
    "#            )              \n",
    "    return df"
   ]
  },
  {
   "cell_type": "code",
   "execution_count": 38,
   "id": "mighty-software",
   "metadata": {},
   "outputs": [],
   "source": [
    "df_train_feature_engineering = feature_engineering(df_train)\n",
    "df_test_feature_engineering = feature_engineering(df_test)"
   ]
  },
  {
   "cell_type": "code",
   "execution_count": 39,
   "id": "occasional-journalism",
   "metadata": {
    "scrolled": true
   },
   "outputs": [
    {
     "data": {
      "text/plain": [
       "((284201, 40), (136481, 39))"
      ]
     },
     "execution_count": 39,
     "metadata": {},
     "output_type": "execute_result"
    }
   ],
   "source": [
    "df_train_feature_engineering.shape, df_test_feature_engineering.shape"
   ]
  },
  {
   "cell_type": "code",
   "execution_count": 40,
   "id": "domestic-imagination",
   "metadata": {},
   "outputs": [],
   "source": [
    "df_train_final = df_train_feature_engineering.drop(['id','date','year_minus_1','id-store-dept','Type'],axis = 1)\n",
    "df_test_final = df_test_feature_engineering.drop(['id','date','year_minus_1','id-store-dept','Type'],axis = 1)"
   ]
  },
  {
   "cell_type": "markdown",
   "id": "therapeutic-somerset",
   "metadata": {},
   "source": [
    "## Modelowanie"
   ]
  },
  {
   "cell_type": "code",
   "execution_count": 41,
   "id": "square-refrigerator",
   "metadata": {},
   "outputs": [],
   "source": [
    "X = df_train_final.drop(['weekly_sales'],axis = 1)\n",
    "y = df_train_final['weekly_sales']"
   ]
  },
  {
   "cell_type": "code",
   "execution_count": 42,
   "id": "excess-tongue",
   "metadata": {},
   "outputs": [
    {
     "data": {
      "text/plain": [
       "['store',\n",
       " 'dept',\n",
       " 'is_holiday',\n",
       " 'Size',\n",
       " 'year',\n",
       " 'month',\n",
       " 'day',\n",
       " 'hour',\n",
       " 'week',\n",
       " 'weekofyear',\n",
       " 'dayofweek',\n",
       " 'weekday',\n",
       " 'dayofyear',\n",
       " 'quarter',\n",
       " 'is_month_start',\n",
       " 'is_month_end',\n",
       " 'is_quarter_start',\n",
       " 'is_quarter_end',\n",
       " 'is_year_start',\n",
       " 'is_year_end',\n",
       " 'is_leap_year',\n",
       " 'daysinmonth',\n",
       " 'type_cat',\n",
       " 'sum_dept',\n",
       " 'PY_week_log_sales',\n",
       " 'PY_month_log_sales',\n",
       " 'store_mean',\n",
       " 'store_std',\n",
       " 'store_median',\n",
       " 'store_size',\n",
       " 'dept_mean',\n",
       " 'dept_std',\n",
       " 'dept_median',\n",
       " 'dept_size']"
      ]
     },
     "execution_count": 42,
     "metadata": {},
     "output_type": "execute_result"
    }
   ],
   "source": [
    "feats = [col for col in df_train_final.columns if col != 'weekly_sales']\n",
    "feats"
   ]
  },
  {
   "cell_type": "code",
   "execution_count": 43,
   "id": "confident-rebel",
   "metadata": {},
   "outputs": [],
   "source": [
    "def get_or_create_experiment(name):\n",
    "    experiment = mlflow.get_experiment_by_name(name)\n",
    "    if experiment is None:\n",
    "        mlflow.create_experiment(name)\n",
    "        return mlflow.get_experiment_by_name(name)\n",
    "    \n",
    "    return experiment\n",
    "\n",
    "def _eid(name):\n",
    "    return get_or_create_experiment(name).experiment_id"
   ]
  },
  {
   "cell_type": "code",
   "execution_count": 4,
   "id": "christian-composite",
   "metadata": {
    "scrolled": true
   },
   "outputs": [
    {
     "data": {
      "text/plain": [
       "'file:///home/jovyan/master_class/sales_forecast/notebooks/mlruns'"
      ]
     },
     "execution_count": 4,
     "metadata": {},
     "output_type": "execute_result"
    }
   ],
   "source": [
    "mlflow.get_tracking_uri()"
   ]
  },
  {
   "cell_type": "code",
   "execution_count": 7,
   "id": "secure-parcel",
   "metadata": {},
   "outputs": [],
   "source": [
    "mlflow_path = \"/home/jovyan/master_class/sales_forecast/notebooks/mlruns\""
   ]
  },
  {
   "cell_type": "code",
   "execution_count": 8,
   "id": "solar-configuration",
   "metadata": {},
   "outputs": [],
   "source": [
    "os.makedirs(mlflow_path, exist_ok=True)"
   ]
  },
  {
   "cell_type": "code",
   "execution_count": 9,
   "id": "alpha-tissue",
   "metadata": {},
   "outputs": [],
   "source": [
    "mlflow.set_tracking_uri(mlflow_path)"
   ]
  },
  {
   "cell_type": "code",
   "execution_count": 10,
   "id": "opening-washer",
   "metadata": {
    "scrolled": true
   },
   "outputs": [
    {
     "data": {
      "text/plain": [
       "'/home/jovyan/master_class/sales_forecast/notebooks/mlruns'"
      ]
     },
     "execution_count": 10,
     "metadata": {},
     "output_type": "execute_result"
    }
   ],
   "source": [
    "mlflow.get_tracking_uri()"
   ]
  },
  {
   "cell_type": "code",
   "execution_count": 80,
   "id": "streaming-table",
   "metadata": {
    "scrolled": true
   },
   "outputs": [],
   "source": [
    "models = []\n",
    "#models.append(('Linear Regression', LinearRegression()))\n",
    "#models.append(('Decision Tree', DecisionTreeRegressor(random_state = 0)))\n",
    "#models.append(('Random Forest', RandomForestRegressor(random_state=0)))\n",
    "models.append(('CatBoost', CatBoostRegressor(n_estimators = 10,max_depth = 3,verbose= False,random_state=0)))\n",
    "models.append(('XGBoost', XGBRegressor(n_estimators = 10, max_depth = 3, verbosity = 0,random_state=0)))\n",
    "#models.append(('Random Forest', RandomForestRegressor(random_state=0)))\n",
    "\n",
    "\n",
    "def run_experiment(model_name, model, X, y, exp_name,n_splits=2, tags={}, params={}, template_for_run_name=\"{}\"):\n",
    "    i = 0\n",
    "    col = ['Algorithm','Mean of MSE','Std of MSE', 'Mean of MAE', 'Std of MAE']\n",
    "    model_results = pd.DataFrame(columns=col)\n",
    "    \n",
    "    tscv = TimeSeriesSplit(n_splits=n_splits)\n",
    "    \n",
    "    model_str = str(model).split(\"(\")[0]\n",
    "    \n",
    "    with mlflow.start_run(experiment_id=_eid(exp_name), run_name=template_for_run_name.format(model_name)) as run:\n",
    "        tags[\"model\"] = model_str\n",
    "        tags[\"X.shape\"] = X.shape\n",
    "        tags[\"y.shape\"] = y.shape\n",
    "        #tags[\"feats\"] = feats\n",
    "        \n",
    "        mlflow.set_tags(tags)\n",
    "\n",
    "        mse_results = []\n",
    "        mae_results = []\n",
    "\n",
    "        for train_idx, test_idx in tscv.split(X,y):\n",
    "\n",
    "            X_train, X_test = X.iloc[train_idx], X.iloc[test_idx]\n",
    "            y_train, y_test = y.iloc[train_idx], y.iloc[test_idx]\n",
    "\n",
    "            print(X_train.shape,\"-----\", X_test.shape)\n",
    "\n",
    "            X_train_normalized = X_train.copy()\n",
    "            X_test_normalized = X_test.copy()\n",
    "\n",
    "            model.fit(X_train_normalized, y_train)\n",
    "            y_pred_log = model.predict(X_test_normalized)\n",
    "            y_pred = np.exp(y_pred_log)\n",
    "\n",
    "            y_test = np.exp(y_test)\n",
    "            mae = mean_absolute_error(y_test, y_pred)\n",
    "            mse = mean_squared_error(y_test, y_pred)\n",
    "\n",
    "            mse_results.append(mse)\n",
    "            mae_results.append(mae)\n",
    "                \n",
    "        ### TRACK PARAMS\n",
    "        params.update(model.get_params()) \n",
    "        params.update(tags)\n",
    "        params.update({\n",
    "            \"n_splits\": str(n_splits),\n",
    "        })\n",
    "        mlflow.log_params(params)\n",
    "\n",
    "        ### TRACK METRICS\n",
    "        metrics = {}\n",
    "        metrics.update({\"avg_mae\": np.mean(mae_results)})\n",
    "        metrics.update({\"std_mae\": np.std(mae_results)})\n",
    "\n",
    "        mlflow.log_metrics(metrics)\n",
    "\n",
    "        ### TRACK ARTIFACTS\n",
    "        model.fit(X, y)\n",
    "        imp = PermutationImportance(model, random_state= 0).fit(X, y)\n",
    "        eli_res = eli5.format_as_dataframe(eli5.explain_weights(imp, feature_names = feats))\n",
    "        eli_res.to_html(\"eli.html\")\n",
    "\n",
    "        mlflow.log_artifact('eli.html', \"eli5 weights\")\n",
    "\n",
    "        print(\"model={}, {}\\n\".format(model_name, metrics))\n",
    "    \n",
    "    return mae_results"
   ]
  },
  {
   "cell_type": "code",
   "execution_count": 81,
   "id": "formal-evans",
   "metadata": {
    "scrolled": false
   },
   "outputs": [
    {
     "name": "stderr",
     "output_type": "stream",
     "text": [
      "  0%|          | 0/2 [00:00<?, ?it/s]"
     ]
    },
    {
     "name": "stdout",
     "output_type": "stream",
     "text": [
      "(94735, 34) ----- (94733, 34)\n",
      "(189468, 34) ----- (94733, 34)\n"
     ]
    },
    {
     "name": "stderr",
     "output_type": "stream",
     "text": [
      " 50%|█████     | 1/2 [00:33<00:33, 33.12s/it]"
     ]
    },
    {
     "name": "stdout",
     "output_type": "stream",
     "text": [
      "model=CatBoost, {'avg_mae': 3270.0683171773794, 'std_mae': 38.48648420258314}\n",
      "\n",
      "(94735, 34) ----- (94733, 34)\n",
      "(189468, 34) ----- (94733, 34)\n"
     ]
    },
    {
     "name": "stderr",
     "output_type": "stream",
     "text": [
      "100%|██████████| 2/2 [01:48<00:00, 54.32s/it]"
     ]
    },
    {
     "name": "stdout",
     "output_type": "stream",
     "text": [
      "model=XGBoost, {'avg_mae': 4954.937381126192, 'std_mae': 19.835170269908758}\n",
      "\n"
     ]
    },
    {
     "name": "stderr",
     "output_type": "stream",
     "text": [
      "\n"
     ]
    },
    {
     "data": {
      "image/png": "[encoded data removed]",
      "text/plain": [
       "<Figure size 1080x504 with 1 Axes>"
      ]
     },
     "metadata": {
      "needs_background": "light"
     },
     "output_type": "display_data"
    }
   ],
   "source": [
    "names = []\n",
    "scores = []\n",
    "for model_name, model in tqdm(models):\n",
    "    tags = {}\n",
    "    params = {}\n",
    "    names.append(model_name)\n",
    "    scores.append(run_experiment(model_name, model, X, y, exp_name=\"sales_prediction\", tags=tags, params=params))\n",
    "    \n",
    "fig = plt.figure(figsize=(15, 7))\n",
    "ax = fig.add_subplot(111)\n",
    "plt.boxplot(scores)\n",
    "ax.set_xticklabels(names)\n",
    "\n",
    "plt.title('Porownanie metryki MAE pomiedzy modelami\\n',horizontalalignment=\"center\", fontstyle = \"normal\", fontsize = \"22\", fontfamily = \"sans-serif\")\n",
    "plt.xticks(rotation=0, horizontalalignment=\"center\")\n",
    "plt.yticks(rotation=0, horizontalalignment=\"right\")\n",
    "plt.show()"
   ]
  },
  {
   "cell_type": "code",
   "execution_count": 82,
   "id": "talented-stamp",
   "metadata": {},
   "outputs": [
    {
     "name": "stdout",
     "output_type": "stream",
     "text": [
      "[2022-05-07 20:42:50 +0000] [3932] [INFO] Starting gunicorn 20.1.0\n",
      "[2022-05-07 20:42:50 +0000] [3932] [INFO] Listening at: http://127.0.0.1:5000 (3932)\n",
      "[2022-05-07 20:42:50 +0000] [3932] [INFO] Using worker: sync\n",
      "[2022-05-07 20:42:50 +0000] [3934] [INFO] Booting worker with pid: 3934\n",
      "^C\n",
      "[2022-05-07 20:43:47 +0000] [3932] [INFO] Handling signal: int\n",
      "[2022-05-07 20:43:47 +0000] [3934] [INFO] Worker exiting (pid: 3934)\n"
     ]
    }
   ],
   "source": [
    "!mlflow ui --backend-store-uri file:///home/jovyan/master_class/sales_forecast/notebooks/mlruns"
   ]
  },
  {
   "cell_type": "markdown",
   "id": "arranged-dominican",
   "metadata": {},
   "source": [
    "Klikaj na link poniżej 👇\n",
    "## 👉👉 [Dashboard](/hub/user-redirect/proxy/5000/) 👈👈"
   ]
  },
  {
   "cell_type": "markdown",
   "id": "impossible-silence",
   "metadata": {},
   "source": [
    "# Hyperopt"
   ]
  },
  {
   "cell_type": "code",
   "execution_count": 45,
   "id": "radio-raising",
   "metadata": {},
   "outputs": [],
   "source": [
    "def run_model(model,feats):\n",
    "    X = df_train_final[feats]\n",
    "    y = df_train_final['weekly_sales']\n",
    "    \n",
    "    scores = []\n",
    "    mse_results = []\n",
    "    mae_results = []\n",
    "    \n",
    "    for train_idx, test_idx in tscv.split(X,y):\n",
    "        #scaler = MinMaxScaler()\n",
    "\n",
    "        X_train, X_test = X.iloc[train_idx], X.iloc[test_idx]\n",
    "        y_train, y_test = y.iloc[train_idx], y.iloc[test_idx]\n",
    "\n",
    "        print(X_train.shape,\"-----\", X_test.shape)\n",
    "\n",
    "#         X_train_normalized = scaler.fit_transform(X_train)\n",
    "#         X_test_normalized = scaler.transform(X_test)\n",
    "        X_train_normalized = X_train.copy()\n",
    "        X_test_normalized = X_test.copy()\n",
    "\n",
    "        model.fit(X_train_normalized, y_train)\n",
    "        y_pred_log = model.predict(X_test_normalized)\n",
    "        y_pred = np.exp(y_pred_log)\n",
    "\n",
    "        y_test = np.exp(y_test) \n",
    "        mae = mean_absolute_error(y_test, y_pred)\n",
    "\n",
    "        mae_results.append(mae)\n",
    "\n",
    "    scores.append(mae_results)\n",
    "    \n",
    "    return np.mean(scores), np.std(scores)"
   ]
  },
  {
   "cell_type": "code",
   "execution_count": 49,
   "id": "inner-colony",
   "metadata": {
    "scrolled": true
   },
   "outputs": [
    {
     "name": "stdout",
     "output_type": "stream",
     "text": [
      "{'learning_rate': 0.08000000000000002, 'max_depth': 10, 'n_estimators': 500, 'objective': 'reg:squarederror', 'seed': 0}\n",
      "(94735, 34)                                           \n",
      "-----                                                 \n",
      "(94733, 34)                                           \n",
      "(189468, 34)                                          \n",
      "-----                                                 \n",
      "(94733, 34)                                           \n",
      "1327.3003787119837                                    \n",
      "26.78963818457339                                     \n",
      "{'learning_rate': 0.07, 'max_depth': 10, 'n_estimators': 500, 'objective': 'reg:squarederror', 'seed': 0}\n",
      "(94735, 34)                                                                        \n",
      "-----                                                                              \n",
      "(94733, 34)                                                                        \n",
      "(189468, 34)                                                                       \n",
      "-----                                                                              \n",
      "(94733, 34)                                                                        \n",
      "1344.4927151008935                                                                 \n",
      "15.493846501279677                                                                 \n",
      "{'learning_rate': 0.05, 'max_depth': 11, 'n_estimators': 500, 'objective': 'reg:squarederror', 'seed': 0}\n",
      "(94735, 34)                                                                        \n",
      "-----                                                                              \n",
      "(94733, 34)                                                                        \n",
      "(189468, 34)                                                                       \n",
      "-----                                                                              \n",
      "(94733, 34)                                                                        \n",
      "1339.4030258189043                                                                 \n",
      "45.67428779048487                                                                  \n",
      "{'learning_rate': 0.05, 'max_depth': 14, 'n_estimators': 500, 'objective': 'reg:squarederror', 'seed': 0}\n",
      "(94735, 34)                                                                      \n",
      "-----                                                                            \n",
      "(94733, 34)                                                                      \n",
      "(189468, 34)                                                                     \n",
      "-----                                                                            \n",
      "(94733, 34)                                                                      \n",
      "1231.1292211338346                                                               \n",
      "58.57221660748155                                                                \n",
      "{'learning_rate': 0.07, 'max_depth': 14, 'n_estimators': 500, 'objective': 'reg:squarederror', 'seed': 0}\n",
      "(94735, 34)                                                                      \n",
      "-----                                                                            \n",
      "(94733, 34)                                                                      \n",
      "(189468, 34)                                                                     \n",
      "-----                                                                            \n",
      "(94733, 34)                                                                      \n",
      "1201.0267166650874                                                               \n",
      "68.61922069987702                                                                \n",
      "{'learning_rate': 0.08000000000000002, 'max_depth': 10, 'n_estimators': 500, 'objective': 'reg:squarederror', 'seed': 0}\n",
      "(94735, 34)                                                                      \n",
      "-----                                                                            \n",
      "(94733, 34)                                                                      \n",
      "(189468, 34)                                                                     \n",
      "-----                                                                            \n",
      "(94733, 34)                                                                      \n",
      "1327.3003787119837                                                               \n",
      "26.78963818457339                                                                \n",
      "{'learning_rate': 0.060000000000000005, 'max_depth': 14, 'n_estimators': 500, 'objective': 'reg:squarederror', 'seed': 0}\n",
      "(94735, 34)                                                                      \n",
      "-----                                                                            \n",
      "(94733, 34)                                                                      \n",
      "(189468, 34)                                                                     \n",
      "-----                                                                              \n",
      "(94733, 34)                                                                        \n",
      "1213.9419220436532                                                                 \n",
      "59.29117885745836                                                                  \n",
      "{'learning_rate': 0.08000000000000002, 'max_depth': 14, 'n_estimators': 500, 'objective': 'reg:squarederror', 'seed': 0}\n",
      "(94735, 34)                                                                        \n",
      "-----                                                                              \n",
      "(94733, 34)                                                                        \n",
      "(189468, 34)                                                                       \n",
      "-----                                                                              \n",
      "(94733, 34)                                                                        \n",
      "1198.7136646315098                                                                 \n",
      "68.02669002685707                                                                  \n",
      "{'learning_rate': 0.08000000000000002, 'max_depth': 13, 'n_estimators': 500, 'objective': 'reg:squarederror', 'seed': 0}\n",
      "(94735, 34)                                                                        \n",
      "-----                                                                              \n",
      "(94733, 34)                                                                        \n",
      "(189468, 34)                                                                       \n",
      "-----                                                                              \n",
      "(94733, 34)                                                                        \n",
      "1210.207648511302                                                                  \n",
      "59.180159086647336                                                                 \n",
      "{'learning_rate': 0.05, 'max_depth': 12, 'n_estimators': 500, 'objective': 'reg:squarederror', 'seed': 0}\n",
      "(94735, 34)                                                                        \n",
      "-----                                                                              \n",
      "(94733, 34)                                                                        \n",
      "(189468, 34)                                                                       \n",
      "-----                                                                              \n",
      "(94733, 34)                                                                        \n",
      "1279.4805896961238                                                                 \n",
      "52.92624484507939                                                                  \n",
      "100%|██████████| 10/10 [2:05:32<00:00, 753.23s/trial, best loss: 1198.7136646315098]\n"
     ]
    }
   ],
   "source": [
    "def obj_func(params):\n",
    "    print(params)\n",
    "    \n",
    "    mean_mae, score_std = run_model(XGBRegressor(**params),feats)\n",
    "    print(mean_mae, score_std)\n",
    "    return{'loss': np.abs(mean_mae), 'status': STATUS_OK}\n",
    "\n",
    "xgb_reg_params = {\n",
    "'learning_rate':     hp.choice('learning_rate',          np.arange(0.05,0.1,0.01)),\n",
    "'max_depth':         hp.choice(\"max_depth\",              np.arange(10,16,1,dtype = int)),\n",
    "# 'subsample':         hp.quniform('subsample', 0.7, 1, 0.05),\n",
    "# 'colsample_bytree' : hp.quniform('colsample_bytree', 0.5,1,0.05),\n",
    "'objective' : 'reg:squarederror',\n",
    "'n_estimators': 500,\n",
    "'seed': 0\n",
    "    }\n",
    "best = fmin(obj_func,xgb_reg_params,algo = tpe.suggest,max_evals = 10)"
   ]
  },
  {
   "cell_type": "code",
   "execution_count": 50,
   "id": "expected-translation",
   "metadata": {},
   "outputs": [
    {
     "data": {
      "text/plain": [
       "{'learning_rate': 0.08000000000000002,\n",
       " 'max_depth': 14,\n",
       " 'n_estimators': 500,\n",
       " 'objective': 'reg:squarederror',\n",
       " 'seed': 0}"
      ]
     },
     "execution_count": 50,
     "metadata": {},
     "output_type": "execute_result"
    }
   ],
   "source": [
    "space_eval(xgb_reg_params,best)"
   ]
  },
  {
   "cell_type": "markdown",
   "id": "derived-milan",
   "metadata": {},
   "source": [
    "## Przewidywanie na niewidzianych wcześniej danych"
   ]
  },
  {
   "cell_type": "code",
   "execution_count": 51,
   "id": "solid-copyright",
   "metadata": {},
   "outputs": [],
   "source": [
    "X_train = df_train_final[feats]\n",
    "y_train = df_train_final['weekly_sales']\n",
    "X_test = df_test_final[feats]"
   ]
  },
  {
   "cell_type": "code",
   "execution_count": 52,
   "id": "insured-framework",
   "metadata": {},
   "outputs": [],
   "source": [
    "def fit_predict(model):\n",
    "    model.fit(X_train, y_train)\n",
    "    y_pred_log = model.predict(X_test)\n",
    "    pred = np.exp(y_pred_log)\n",
    "    return pred"
   ]
  },
  {
   "cell_type": "code",
   "execution_count": 53,
   "id": "generous-cologne",
   "metadata": {},
   "outputs": [],
   "source": [
    "pred = fit_predict(XGBRegressor(max_depth=14, n_estimators=500, learning_rate=0.08000000000000002, seed=0))"
   ]
  },
  {
   "cell_type": "code",
   "execution_count": 54,
   "id": "canadian-pierce",
   "metadata": {
    "scrolled": true
   },
   "outputs": [
    {
     "data": {
      "text/html": [
       "<div>\n",
       "<style scoped>\n",
       "    .dataframe tbody tr th:only-of-type {\n",
       "        vertical-align: middle;\n",
       "    }\n",
       "\n",
       "    .dataframe tbody tr th {\n",
       "        vertical-align: top;\n",
       "    }\n",
       "\n",
       "    .dataframe thead th {\n",
       "        text-align: right;\n",
       "    }\n",
       "</style>\n",
       "<table border=\"1\" class=\"dataframe\">\n",
       "  <thead>\n",
       "    <tr style=\"text-align: right;\">\n",
       "      <th></th>\n",
       "      <th>id</th>\n",
       "      <th>weekly_sales</th>\n",
       "    </tr>\n",
       "  </thead>\n",
       "  <tbody>\n",
       "    <tr>\n",
       "      <th>0</th>\n",
       "      <td>0</td>\n",
       "      <td>415.854675</td>\n",
       "    </tr>\n",
       "    <tr>\n",
       "      <th>2</th>\n",
       "      <td>2</td>\n",
       "      <td>75658.203125</td>\n",
       "    </tr>\n",
       "    <tr>\n",
       "      <th>5</th>\n",
       "      <td>5</td>\n",
       "      <td>17622.835938</td>\n",
       "    </tr>\n",
       "    <tr>\n",
       "      <th>6</th>\n",
       "      <td>6</td>\n",
       "      <td>43057.757812</td>\n",
       "    </tr>\n",
       "    <tr>\n",
       "      <th>8</th>\n",
       "      <td>8</td>\n",
       "      <td>44074.886719</td>\n",
       "    </tr>\n",
       "    <tr>\n",
       "      <th>...</th>\n",
       "      <td>...</td>\n",
       "      <td>...</td>\n",
       "    </tr>\n",
       "    <tr>\n",
       "      <th>421557</th>\n",
       "      <td>421557</td>\n",
       "      <td>12000.126953</td>\n",
       "    </tr>\n",
       "    <tr>\n",
       "      <th>421560</th>\n",
       "      <td>421560</td>\n",
       "      <td>1.124349</td>\n",
       "    </tr>\n",
       "    <tr>\n",
       "      <th>421564</th>\n",
       "      <td>421564</td>\n",
       "      <td>10501.811523</td>\n",
       "    </tr>\n",
       "    <tr>\n",
       "      <th>421568</th>\n",
       "      <td>421568</td>\n",
       "      <td>64.156326</td>\n",
       "    </tr>\n",
       "    <tr>\n",
       "      <th>421569</th>\n",
       "      <td>421569</td>\n",
       "      <td>32815.238281</td>\n",
       "    </tr>\n",
       "  </tbody>\n",
       "</table>\n",
       "<p>136481 rows × 2 columns</p>\n",
       "</div>"
      ],
      "text/plain": [
       "            id  weekly_sales\n",
       "0            0    415.854675\n",
       "2            2  75658.203125\n",
       "5            5  17622.835938\n",
       "6            6  43057.757812\n",
       "8            8  44074.886719\n",
       "...        ...           ...\n",
       "421557  421557  12000.126953\n",
       "421560  421560      1.124349\n",
       "421564  421564  10501.811523\n",
       "421568  421568     64.156326\n",
       "421569  421569  32815.238281\n",
       "\n",
       "[136481 rows x 2 columns]"
      ]
     },
     "execution_count": 54,
     "metadata": {},
     "output_type": "execute_result"
    }
   ],
   "source": [
    "df_sales_test[\"weekly_sales\"] = pred\n",
    "df_sales_test[ [\"id\", \"weekly_sales\"] ].to_csv(\"../output/XGBoostOptimized.csv\", index=False)\n",
    "df_sales_test[ [\"id\", \"weekly_sales\"] ]"
   ]
  }
 ],
 "metadata": {
  "kernelspec": {
   "display_name": "Python 3",
   "language": "python",
   "name": "python3"
  },
  "language_info": {
   "codemirror_mode": {
    "name": "ipython",
    "version": 3
   },
   "file_extension": ".py",
   "mimetype": "text/x-python",
   "name": "python",
   "nbconvert_exporter": "python",
   "pygments_lexer": "ipython3",
   "version": "3.8.6"
  }
 },
 "nbformat": 4,
 "nbformat_minor": 5
}
